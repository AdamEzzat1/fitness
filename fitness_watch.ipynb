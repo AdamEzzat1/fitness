{
  "nbformat": 4,
  "nbformat_minor": 0,
  "metadata": {
    "colab": {
      "provenance": []
    },
    "kernelspec": {
      "name": "python3",
      "display_name": "Python 3"
    },
    "language_info": {
      "name": "python"
    }
  },
  "cells": [
    {
      "cell_type": "code",
      "execution_count": 1,
      "metadata": {
        "colab": {
          "base_uri": "https://localhost:8080/"
        },
        "id": "_g8UMBYEyyAo",
        "outputId": "dd056771-a81d-4d2b-bdcc-5c147708ffd8"
      },
      "outputs": [
        {
          "output_type": "stream",
          "name": "stdout",
          "text": [
            "Mounted at /content/drive\n"
          ]
        }
      ],
      "source": [
        "from google.colab import drive\n",
        "drive.mount('/content/drive')"
      ]
    },
    {
      "cell_type": "code",
      "source": [
        "from google.colab import files\n",
        "data_to_load = files.upload()"
      ],
      "metadata": {
        "colab": {
          "base_uri": "https://localhost:8080/",
          "height": 73
        },
        "id": "paxJgGpEyz1M",
        "outputId": "65828232-85e2-4336-a696-a3711ae810c3"
      },
      "execution_count": 2,
      "outputs": [
        {
          "output_type": "display_data",
          "data": {
            "text/plain": [
              "<IPython.core.display.HTML object>"
            ],
            "text/html": [
              "\n",
              "     <input type=\"file\" id=\"files-de9f71ec-bb1c-4118-afbf-9dbf36808b16\" name=\"files[]\" multiple disabled\n",
              "        style=\"border:none\" />\n",
              "     <output id=\"result-de9f71ec-bb1c-4118-afbf-9dbf36808b16\">\n",
              "      Upload widget is only available when the cell has been executed in the\n",
              "      current browser session. Please rerun this cell to enable.\n",
              "      </output>\n",
              "      <script>// Copyright 2017 Google LLC\n",
              "//\n",
              "// Licensed under the Apache License, Version 2.0 (the \"License\");\n",
              "// you may not use this file except in compliance with the License.\n",
              "// You may obtain a copy of the License at\n",
              "//\n",
              "//      http://www.apache.org/licenses/LICENSE-2.0\n",
              "//\n",
              "// Unless required by applicable law or agreed to in writing, software\n",
              "// distributed under the License is distributed on an \"AS IS\" BASIS,\n",
              "// WITHOUT WARRANTIES OR CONDITIONS OF ANY KIND, either express or implied.\n",
              "// See the License for the specific language governing permissions and\n",
              "// limitations under the License.\n",
              "\n",
              "/**\n",
              " * @fileoverview Helpers for google.colab Python module.\n",
              " */\n",
              "(function(scope) {\n",
              "function span(text, styleAttributes = {}) {\n",
              "  const element = document.createElement('span');\n",
              "  element.textContent = text;\n",
              "  for (const key of Object.keys(styleAttributes)) {\n",
              "    element.style[key] = styleAttributes[key];\n",
              "  }\n",
              "  return element;\n",
              "}\n",
              "\n",
              "// Max number of bytes which will be uploaded at a time.\n",
              "const MAX_PAYLOAD_SIZE = 100 * 1024;\n",
              "\n",
              "function _uploadFiles(inputId, outputId) {\n",
              "  const steps = uploadFilesStep(inputId, outputId);\n",
              "  const outputElement = document.getElementById(outputId);\n",
              "  // Cache steps on the outputElement to make it available for the next call\n",
              "  // to uploadFilesContinue from Python.\n",
              "  outputElement.steps = steps;\n",
              "\n",
              "  return _uploadFilesContinue(outputId);\n",
              "}\n",
              "\n",
              "// This is roughly an async generator (not supported in the browser yet),\n",
              "// where there are multiple asynchronous steps and the Python side is going\n",
              "// to poll for completion of each step.\n",
              "// This uses a Promise to block the python side on completion of each step,\n",
              "// then passes the result of the previous step as the input to the next step.\n",
              "function _uploadFilesContinue(outputId) {\n",
              "  const outputElement = document.getElementById(outputId);\n",
              "  const steps = outputElement.steps;\n",
              "\n",
              "  const next = steps.next(outputElement.lastPromiseValue);\n",
              "  return Promise.resolve(next.value.promise).then((value) => {\n",
              "    // Cache the last promise value to make it available to the next\n",
              "    // step of the generator.\n",
              "    outputElement.lastPromiseValue = value;\n",
              "    return next.value.response;\n",
              "  });\n",
              "}\n",
              "\n",
              "/**\n",
              " * Generator function which is called between each async step of the upload\n",
              " * process.\n",
              " * @param {string} inputId Element ID of the input file picker element.\n",
              " * @param {string} outputId Element ID of the output display.\n",
              " * @return {!Iterable<!Object>} Iterable of next steps.\n",
              " */\n",
              "function* uploadFilesStep(inputId, outputId) {\n",
              "  const inputElement = document.getElementById(inputId);\n",
              "  inputElement.disabled = false;\n",
              "\n",
              "  const outputElement = document.getElementById(outputId);\n",
              "  outputElement.innerHTML = '';\n",
              "\n",
              "  const pickedPromise = new Promise((resolve) => {\n",
              "    inputElement.addEventListener('change', (e) => {\n",
              "      resolve(e.target.files);\n",
              "    });\n",
              "  });\n",
              "\n",
              "  const cancel = document.createElement('button');\n",
              "  inputElement.parentElement.appendChild(cancel);\n",
              "  cancel.textContent = 'Cancel upload';\n",
              "  const cancelPromise = new Promise((resolve) => {\n",
              "    cancel.onclick = () => {\n",
              "      resolve(null);\n",
              "    };\n",
              "  });\n",
              "\n",
              "  // Wait for the user to pick the files.\n",
              "  const files = yield {\n",
              "    promise: Promise.race([pickedPromise, cancelPromise]),\n",
              "    response: {\n",
              "      action: 'starting',\n",
              "    }\n",
              "  };\n",
              "\n",
              "  cancel.remove();\n",
              "\n",
              "  // Disable the input element since further picks are not allowed.\n",
              "  inputElement.disabled = true;\n",
              "\n",
              "  if (!files) {\n",
              "    return {\n",
              "      response: {\n",
              "        action: 'complete',\n",
              "      }\n",
              "    };\n",
              "  }\n",
              "\n",
              "  for (const file of files) {\n",
              "    const li = document.createElement('li');\n",
              "    li.append(span(file.name, {fontWeight: 'bold'}));\n",
              "    li.append(span(\n",
              "        `(${file.type || 'n/a'}) - ${file.size} bytes, ` +\n",
              "        `last modified: ${\n",
              "            file.lastModifiedDate ? file.lastModifiedDate.toLocaleDateString() :\n",
              "                                    'n/a'} - `));\n",
              "    const percent = span('0% done');\n",
              "    li.appendChild(percent);\n",
              "\n",
              "    outputElement.appendChild(li);\n",
              "\n",
              "    const fileDataPromise = new Promise((resolve) => {\n",
              "      const reader = new FileReader();\n",
              "      reader.onload = (e) => {\n",
              "        resolve(e.target.result);\n",
              "      };\n",
              "      reader.readAsArrayBuffer(file);\n",
              "    });\n",
              "    // Wait for the data to be ready.\n",
              "    let fileData = yield {\n",
              "      promise: fileDataPromise,\n",
              "      response: {\n",
              "        action: 'continue',\n",
              "      }\n",
              "    };\n",
              "\n",
              "    // Use a chunked sending to avoid message size limits. See b/62115660.\n",
              "    let position = 0;\n",
              "    do {\n",
              "      const length = Math.min(fileData.byteLength - position, MAX_PAYLOAD_SIZE);\n",
              "      const chunk = new Uint8Array(fileData, position, length);\n",
              "      position += length;\n",
              "\n",
              "      const base64 = btoa(String.fromCharCode.apply(null, chunk));\n",
              "      yield {\n",
              "        response: {\n",
              "          action: 'append',\n",
              "          file: file.name,\n",
              "          data: base64,\n",
              "        },\n",
              "      };\n",
              "\n",
              "      let percentDone = fileData.byteLength === 0 ?\n",
              "          100 :\n",
              "          Math.round((position / fileData.byteLength) * 100);\n",
              "      percent.textContent = `${percentDone}% done`;\n",
              "\n",
              "    } while (position < fileData.byteLength);\n",
              "  }\n",
              "\n",
              "  // All done.\n",
              "  yield {\n",
              "    response: {\n",
              "      action: 'complete',\n",
              "    }\n",
              "  };\n",
              "}\n",
              "\n",
              "scope.google = scope.google || {};\n",
              "scope.google.colab = scope.google.colab || {};\n",
              "scope.google.colab._files = {\n",
              "  _uploadFiles,\n",
              "  _uploadFilesContinue,\n",
              "};\n",
              "})(self);\n",
              "</script> "
            ]
          },
          "metadata": {}
        },
        {
          "output_type": "stream",
          "name": "stdout",
          "text": [
            "Saving Apple-Fitness-Data.csv to Apple-Fitness-Data.csv\n"
          ]
        }
      ]
    },
    {
      "cell_type": "code",
      "source": [
        "pip install jupyter-summarytools"
      ],
      "metadata": {
        "colab": {
          "base_uri": "https://localhost:8080/"
        },
        "id": "221R5qBQ4y3w",
        "outputId": "0c27f300-068b-46c4-9887-bfe6aa07461d"
      },
      "execution_count": 24,
      "outputs": [
        {
          "output_type": "stream",
          "name": "stdout",
          "text": [
            "Collecting jupyter-summarytools\n",
            "  Downloading jupyter_summarytools-0.2.3-py3-none-any.whl (12 kB)\n",
            "Requirement already satisfied: pandas>=1.4.0 in /usr/local/lib/python3.10/dist-packages (from jupyter-summarytools) (2.0.3)\n",
            "Requirement already satisfied: ipython>=7.20.0 in /usr/local/lib/python3.10/dist-packages (from jupyter-summarytools) (7.34.0)\n",
            "Requirement already satisfied: numpy>=1.18.5 in /usr/local/lib/python3.10/dist-packages (from jupyter-summarytools) (1.25.2)\n",
            "Requirement already satisfied: matplotlib>=3.3.0 in /usr/local/lib/python3.10/dist-packages (from jupyter-summarytools) (3.7.1)\n",
            "Requirement already satisfied: setuptools>=18.5 in /usr/local/lib/python3.10/dist-packages (from ipython>=7.20.0->jupyter-summarytools) (67.7.2)\n",
            "Collecting jedi>=0.16 (from ipython>=7.20.0->jupyter-summarytools)\n",
            "  Downloading jedi-0.19.1-py2.py3-none-any.whl (1.6 MB)\n",
            "\u001b[2K     \u001b[90m━━━━━━━━━━━━━━━━━━━━━━━━━━━━━━━━━━━━━━━━\u001b[0m \u001b[32m1.6/1.6 MB\u001b[0m \u001b[31m10.8 MB/s\u001b[0m eta \u001b[36m0:00:00\u001b[0m\n",
            "\u001b[?25hRequirement already satisfied: decorator in /usr/local/lib/python3.10/dist-packages (from ipython>=7.20.0->jupyter-summarytools) (4.4.2)\n",
            "Requirement already satisfied: pickleshare in /usr/local/lib/python3.10/dist-packages (from ipython>=7.20.0->jupyter-summarytools) (0.7.5)\n",
            "Requirement already satisfied: traitlets>=4.2 in /usr/local/lib/python3.10/dist-packages (from ipython>=7.20.0->jupyter-summarytools) (5.7.1)\n",
            "Requirement already satisfied: prompt-toolkit!=3.0.0,!=3.0.1,<3.1.0,>=2.0.0 in /usr/local/lib/python3.10/dist-packages (from ipython>=7.20.0->jupyter-summarytools) (3.0.43)\n",
            "Requirement already satisfied: pygments in /usr/local/lib/python3.10/dist-packages (from ipython>=7.20.0->jupyter-summarytools) (2.16.1)\n",
            "Requirement already satisfied: backcall in /usr/local/lib/python3.10/dist-packages (from ipython>=7.20.0->jupyter-summarytools) (0.2.0)\n",
            "Requirement already satisfied: matplotlib-inline in /usr/local/lib/python3.10/dist-packages (from ipython>=7.20.0->jupyter-summarytools) (0.1.7)\n",
            "Requirement already satisfied: pexpect>4.3 in /usr/local/lib/python3.10/dist-packages (from ipython>=7.20.0->jupyter-summarytools) (4.9.0)\n",
            "Requirement already satisfied: contourpy>=1.0.1 in /usr/local/lib/python3.10/dist-packages (from matplotlib>=3.3.0->jupyter-summarytools) (1.2.1)\n",
            "Requirement already satisfied: cycler>=0.10 in /usr/local/lib/python3.10/dist-packages (from matplotlib>=3.3.0->jupyter-summarytools) (0.12.1)\n",
            "Requirement already satisfied: fonttools>=4.22.0 in /usr/local/lib/python3.10/dist-packages (from matplotlib>=3.3.0->jupyter-summarytools) (4.51.0)\n",
            "Requirement already satisfied: kiwisolver>=1.0.1 in /usr/local/lib/python3.10/dist-packages (from matplotlib>=3.3.0->jupyter-summarytools) (1.4.5)\n",
            "Requirement already satisfied: packaging>=20.0 in /usr/local/lib/python3.10/dist-packages (from matplotlib>=3.3.0->jupyter-summarytools) (24.0)\n",
            "Requirement already satisfied: pillow>=6.2.0 in /usr/local/lib/python3.10/dist-packages (from matplotlib>=3.3.0->jupyter-summarytools) (9.4.0)\n",
            "Requirement already satisfied: pyparsing>=2.3.1 in /usr/local/lib/python3.10/dist-packages (from matplotlib>=3.3.0->jupyter-summarytools) (3.1.2)\n",
            "Requirement already satisfied: python-dateutil>=2.7 in /usr/local/lib/python3.10/dist-packages (from matplotlib>=3.3.0->jupyter-summarytools) (2.8.2)\n",
            "Requirement already satisfied: pytz>=2020.1 in /usr/local/lib/python3.10/dist-packages (from pandas>=1.4.0->jupyter-summarytools) (2023.4)\n",
            "Requirement already satisfied: tzdata>=2022.1 in /usr/local/lib/python3.10/dist-packages (from pandas>=1.4.0->jupyter-summarytools) (2024.1)\n",
            "Requirement already satisfied: parso<0.9.0,>=0.8.3 in /usr/local/lib/python3.10/dist-packages (from jedi>=0.16->ipython>=7.20.0->jupyter-summarytools) (0.8.4)\n",
            "Requirement already satisfied: ptyprocess>=0.5 in /usr/local/lib/python3.10/dist-packages (from pexpect>4.3->ipython>=7.20.0->jupyter-summarytools) (0.7.0)\n",
            "Requirement already satisfied: wcwidth in /usr/local/lib/python3.10/dist-packages (from prompt-toolkit!=3.0.0,!=3.0.1,<3.1.0,>=2.0.0->ipython>=7.20.0->jupyter-summarytools) (0.2.13)\n",
            "Requirement already satisfied: six>=1.5 in /usr/local/lib/python3.10/dist-packages (from python-dateutil>=2.7->matplotlib>=3.3.0->jupyter-summarytools) (1.16.0)\n",
            "Installing collected packages: jedi, jupyter-summarytools\n",
            "Successfully installed jedi-0.19.1 jupyter-summarytools-0.2.3\n"
          ]
        }
      ]
    },
    {
      "cell_type": "code",
      "source": [
        "import pandas as pd\n",
        "import plotly.io as pio\n",
        "import plotly.graph_objects as go\n",
        "pio.templates.default = \"plotly_white\"\n",
        "import plotly.express as px\n",
        "from summarytools import dfSummary"
      ],
      "metadata": {
        "id": "2JKYANJtyz4W"
      },
      "execution_count": 25,
      "outputs": []
    },
    {
      "cell_type": "code",
      "source": [
        "\n",
        "data = pd.read_csv(\"Apple-Fitness-Data.csv\")"
      ],
      "metadata": {
        "id": "Byue4vx2yz7z"
      },
      "execution_count": 4,
      "outputs": []
    },
    {
      "cell_type": "code",
      "source": [
        "print(data.head())"
      ],
      "metadata": {
        "colab": {
          "base_uri": "https://localhost:8080/"
        },
        "id": "rUpP37V3yz-3",
        "outputId": "711fd1ed-026c-4a83-d6bb-80436e9e2541"
      },
      "execution_count": 5,
      "outputs": [
        {
          "output_type": "stream",
          "name": "stdout",
          "text": [
            "         Date       Time  Step Count  Distance  Energy Burned  \\\n",
            "0  2023-03-21  16:01:23           46   0.02543         14.620   \n",
            "1  2023-03-21  16:18:37          645   0.40041         14.722   \n",
            "2  2023-03-21  16:31:38           14   0.00996         14.603   \n",
            "3  2023-03-21  16:45:37           13   0.00901         14.811   \n",
            "4  2023-03-21  17:10:30           17   0.00904         15.153   \n",
            "\n",
            "   Flights Climbed  Walking Double Support Percentage  Walking Speed  \n",
            "0                3                              0.304          3.060  \n",
            "1                3                              0.309          3.852  \n",
            "2                4                              0.278          3.996  \n",
            "3                3                              0.278          5.040  \n",
            "4                3                              0.281          5.184  \n"
          ]
        }
      ]
    },
    {
      "cell_type": "code",
      "source": [
        "dfSummary(data)"
      ],
      "metadata": {
        "colab": {
          "base_uri": "https://localhost:8080/",
          "height": 1000
        },
        "id": "JQfX2GUk4xOv",
        "outputId": "8b0830a1-5793-4811-a741-6b2520ce1e33"
      },
      "execution_count": 26,
      "outputs": [
        {
          "output_type": "execute_result",
          "data": {
            "text/plain": [
              "<pandas.io.formats.style.Styler at 0x7c978cc95630>"
            ],
            "text/html": [
              "<style type=\"text/css\">\n",
              "#T_ee3cc thead>tr>th {\n",
              "  text-align: left;\n",
              "}\n",
              "#T_ee3cc_row0_col0, #T_ee3cc_row1_col0, #T_ee3cc_row2_col0, #T_ee3cc_row3_col0, #T_ee3cc_row4_col0, #T_ee3cc_row5_col0, #T_ee3cc_row6_col0, #T_ee3cc_row7_col0, #T_ee3cc_row8_col0, #T_ee3cc_row9_col0 {\n",
              "  text-align: left;\n",
              "  font-size: 12px;\n",
              "  vertical-align: middle;\n",
              "  width: 5%;\n",
              "  max-width: 50px;\n",
              "  min-width: 20px;\n",
              "}\n",
              "#T_ee3cc_row0_col1, #T_ee3cc_row1_col1, #T_ee3cc_row2_col1, #T_ee3cc_row3_col1, #T_ee3cc_row4_col1, #T_ee3cc_row5_col1, #T_ee3cc_row6_col1, #T_ee3cc_row7_col1, #T_ee3cc_row8_col1, #T_ee3cc_row9_col1 {\n",
              "  text-align: left;\n",
              "  font-size: 12px;\n",
              "  vertical-align: middle;\n",
              "  width: 15%;\n",
              "  max-width: 200px;\n",
              "  min-width: 100px;\n",
              "  word-break: break-word;\n",
              "}\n",
              "#T_ee3cc_row0_col2, #T_ee3cc_row1_col2, #T_ee3cc_row2_col2, #T_ee3cc_row3_col2, #T_ee3cc_row4_col2, #T_ee3cc_row5_col2, #T_ee3cc_row6_col2, #T_ee3cc_row7_col2, #T_ee3cc_row8_col2, #T_ee3cc_row9_col2 {\n",
              "  text-align: left;\n",
              "  font-size: 12px;\n",
              "  vertical-align: middle;\n",
              "  width: 30%;\n",
              "  min-width: 100px;\n",
              "}\n",
              "#T_ee3cc_row0_col3, #T_ee3cc_row1_col3, #T_ee3cc_row2_col3, #T_ee3cc_row3_col3, #T_ee3cc_row4_col3, #T_ee3cc_row5_col3, #T_ee3cc_row6_col3, #T_ee3cc_row7_col3, #T_ee3cc_row8_col3, #T_ee3cc_row9_col3 {\n",
              "  text-align: left;\n",
              "  font-size: 12px;\n",
              "  vertical-align: middle;\n",
              "  width: 25%;\n",
              "  min-width: 100px;\n",
              "}\n",
              "#T_ee3cc_row0_col4, #T_ee3cc_row1_col4, #T_ee3cc_row2_col4, #T_ee3cc_row3_col4, #T_ee3cc_row4_col4, #T_ee3cc_row5_col4, #T_ee3cc_row6_col4, #T_ee3cc_row7_col4, #T_ee3cc_row8_col4, #T_ee3cc_row9_col4 {\n",
              "  text-align: left;\n",
              "  font-size: 12px;\n",
              "  vertical-align: middle;\n",
              "  width: 20%;\n",
              "  min-width: 150px;\n",
              "}\n",
              "#T_ee3cc_row0_col5, #T_ee3cc_row1_col5, #T_ee3cc_row2_col5, #T_ee3cc_row3_col5, #T_ee3cc_row4_col5, #T_ee3cc_row5_col5, #T_ee3cc_row6_col5, #T_ee3cc_row7_col5, #T_ee3cc_row8_col5, #T_ee3cc_row9_col5 {\n",
              "  text-align: left;\n",
              "  font-size: 12px;\n",
              "  vertical-align: middle;\n",
              "  width: 10%;\n",
              "}\n",
              "</style>\n",
              "<table id=\"T_ee3cc\" class=\"dataframe\">\n",
              "  <caption><strong>Data Frame Summary</strong><br>data<br>Dimensions: 149 x 10<br>Duplicates: 0</caption>\n",
              "  <thead>\n",
              "    <tr>\n",
              "      <th id=\"T_ee3cc_level0_col0\" class=\"col_heading level0 col0\" >No</th>\n",
              "      <th id=\"T_ee3cc_level0_col1\" class=\"col_heading level0 col1\" >Variable</th>\n",
              "      <th id=\"T_ee3cc_level0_col2\" class=\"col_heading level0 col2\" >Stats / Values</th>\n",
              "      <th id=\"T_ee3cc_level0_col3\" class=\"col_heading level0 col3\" >Freqs / (% of Valid)</th>\n",
              "      <th id=\"T_ee3cc_level0_col4\" class=\"col_heading level0 col4\" >Graph</th>\n",
              "      <th id=\"T_ee3cc_level0_col5\" class=\"col_heading level0 col5\" >Missing</th>\n",
              "    </tr>\n",
              "  </thead>\n",
              "  <tbody>\n",
              "    <tr>\n",
              "      <td id=\"T_ee3cc_row0_col0\" class=\"data row0 col0\" >1</td>\n",
              "      <td id=\"T_ee3cc_row0_col1\" class=\"data row0 col1\" ><strong>Date</strong><br>[object]</td>\n",
              "      <td id=\"T_ee3cc_row0_col2\" class=\"data row0 col2\" >1. 2023-03-22<br>2. 2023-03-29<br>3. 2023-03-28<br>4. 2023-03-31<br>5. 2023-04-01<br>6. 2023-03-21<br>7. 2023-03-26<br>8. 2023-03-30<br>9. 2023-03-25<br>10. 2023-03-23<br>11. other</td>\n",
              "      <td id=\"T_ee3cc_row0_col3\" class=\"data row0 col3\" >30 (20.1%)<br>19 (12.8%)<br>12 (8.1%)<br>12 (8.1%)<br>12 (8.1%)<br>11 (7.4%)<br>11 (7.4%)<br>11 (7.4%)<br>9 (6.0%)<br>8 (5.4%)<br>14 (9.4%)</td>\n",
              "      <td id=\"T_ee3cc_row0_col4\" class=\"data row0 col4\" ><img src = \"data:image/png;base64, iVBORw0KGgoAAAANSUhEUgAAAJsAAAD+CAYAAAAtWHdlAAAAOXRFWHRTb2Z0d2FyZQBNYXRwbG90bGliIHZlcnNpb24zLjcuMSwgaHR0cHM6Ly9tYXRwbG90bGliLm9yZy/bCgiHAAAACXBIWXMAAA9hAAAPYQGoP6dpAAAD9ElEQVR4nO3dQWrbWgCG0etiSjuxCYEsJovoYrsI7yaEaPBaOvEbdFbqWLLVT4OcswFl8HGNhP5odz6fBxQ+bf0H8HGIjYzYyIiNjNjIiI2M2MiIjYzYyOzGGF/HGJ83uv6v8/n8Y6NrE9s/Pj5+OxwOD1tcfJqm191u911wH8P+cDg8PD8//zgejz/LC7+9vX05nU4PLy8vn8cYYvsA9mOMcTwefz49Pf23wfW/bnBNNuIGgYzYyIiNjNjIiI2M2MiIjYzYyIiNjNjIiI2M2MiIjYzYyOzH+P1uWX3hLa7JtvbTNL2eTqeHscG7ZdM0vY4xftXXZRs2CGR2/mUWlX9xsjmt+KvV11UWU1yy6rrKYor3/It1lcUUf+WhLhmxkREbGbGRERsZsZERGxmxkREbGbGRERsZsZERG5lVBy9GLLxn9cGLEQuXeC2cjMELmVtONicXN1k8eDFo4VaLBi8GLdzjlsGLQQs38VCXjNjIiI2M2MiIjYzYyIiNjNjIiI2M2MiIjYzYyIiNzKLBi0EL91g8eDFo4VZeCydj8ELGDQIZP6NkrKvIWFeRsa4i4waBjNjIiI2M2MiIjYzYyIiNjNjIiI2M2MiIjYzYyIiNjHUVGesqMl4LJ2NdRcbJRsbghYzBCxmDFzIe6pIRGxmxkREbGbGRERsZsZERGxmxkREbGbGRERsZsZExeCFj8ELGa+FkDF7ILD3ZnGrcbNHgxdiFe8wevBi7cK+lgxdjF27moS4ZsZERGxmxkREbGbGRERsZsZERGxmxkREbGbGRERsZsZGZva6yrOJei9ZVllXcwwaBjHUVGScbGesqMtZVZKyryHioS0ZsZMRGRmxkxEZGbGTERkZsZMRGRmxkxEZGbGTERsbghYzBCxmvhZMxeCHjZCNj8ELG4IWMwQsZD3XJiI2M2MiIjYzYyIiNjNjIiI2M2MiIjYzYyIiNjNjIGLyQMXgh47VwMgYvZNwgkJn7M+rnk7vNWldZVbGGq+sqqyrWMnddZVXF3dwgkBEbGbGRERsZsZERGxmxkREbGbGRERsZsZERGxmxkbm6rrKqYi2z1lVWVazBa+FkrKvIzDnZnGqs4urgxdiFtbw7eDF2YU1zBi/GLqzCQ10yYiMjNjJiIyM2MmIjIzYyYiMjNjJiIyM2MmIjIzYy7w5ejF1Y09XBi7ELa/FaOBmDFzJLP5T2J6ces836wsslxjAscfULL5cYw7DU3C+8XGIMw2we6pIRGxmxkREbGbGRERsZsZERGxmxkREbGbGRERsZsZG5+oWXS4xhWGrWF14uMYZhCa+FkzF4IeMGgYzYyIiNjNjIiI2M2MiIjYzYyIiNzP9URE7ibd9RjwAAAABJRU5ErkJggg==\"></img></td>\n",
              "      <td id=\"T_ee3cc_row0_col5\" class=\"data row0 col5\" >0<br>(0.0%)</td>\n",
              "    </tr>\n",
              "    <tr>\n",
              "      <td id=\"T_ee3cc_row1_col0\" class=\"data row1 col0\" >2</td>\n",
              "      <td id=\"T_ee3cc_row1_col1\" class=\"data row1 col1\" ><strong>Time</strong><br>[object]</td>\n",
              "      <td id=\"T_ee3cc_row1_col2\" class=\"data row1 col2\" >1. 13:42:14 <br>2. 16:01:23 <br>3. 14:05:27 <br>4. 01:31:53 <br>5. 09:22:39 <br>6. 13:11:20 <br>7. 13:21:19 <br>8. 13:31:19 <br>9. 13:43:01 <br>10. 17:48:37 <br>11. other</td>\n",
              "      <td id=\"T_ee3cc_row1_col3\" class=\"data row1 col3\" >2 (1.3%)<br>1 (0.7%)<br>1 (0.7%)<br>1 (0.7%)<br>1 (0.7%)<br>1 (0.7%)<br>1 (0.7%)<br>1 (0.7%)<br>1 (0.7%)<br>1 (0.7%)<br>138 (92.6%)</td>\n",
              "      <td id=\"T_ee3cc_row1_col4\" class=\"data row1 col4\" ><img src = \"data:image/png;base64, iVBORw0KGgoAAAANSUhEUgAAAJsAAAD+CAYAAAAtWHdlAAAAOXRFWHRTb2Z0d2FyZQBNYXRwbG90bGliIHZlcnNpb24zLjcuMSwgaHR0cHM6Ly9tYXRwbG90bGliLm9yZy/bCgiHAAAACXBIWXMAAA9hAAAPYQGoP6dpAAADuElEQVR4nO3cQU4jVxhG0d/I6oRJWZYllsECehEsNovwAtgHQtQgdJg4g4ZxQyJfK845YwY1uHq2S+9jczqdBgo3l34A/j/ERkZsZMRGRmxkxEZGbGTERkZsZDYzczsz32bm7XQ6vV74ebhi28Ph8LAsy35d1+fNZvOH4DiXm2VZ9vf397Msy35+nnBwFjczM7e3t39d+kG4fn4gkBEbGbGRERsZsZERGxmxkREbGbGRERsZsZERGxmxkREbmZuZmdfX198u/SBcv5t1XZ8fHx9nXdfnmXm79ANxvWwQyGz8yywqHyfbONU4t+3hcHiYmbGs4txulmXZW1ZR8J6NjNjIiI2M2MiIjYzYyIiNjNjIiI2M2MiIjYzYyIiNjNjIiI3M9n3oMmPswpm5Fk7G4IWMk42MwQsZgxcyXn2QERsZsZERGxmxkREbGbGRERsZsZERGxmxkREbGbGRERsZsZExeCHjWjgZgxcyvrOR8TFKxrqKjHUVGd/ZyIiNjNjIiI2M2MiIjYzYyIiNjNjIiI2M2MiIjYzYyIiNjNjIWFeRcS2cjHUVGScbGYMXMgYvZLz6ICM2MmIjIzYyYiMjNjJiIyM2MmIjIzYyYiMjNjJiIyM2MmIjY/BCxrVwMgYvZJxsZAxeyBi8kPHqg4zYyIiNjNjIiI2M2MiIjYzYyIiNjNjIiI2M2MiIjYzYyIiNjNjIWFeRsUEgY11FxslGxrqKjHUVGa8+yIiNjNjIiI2M2MiIjYzYyIiNjNjIiI2M2MiIjYzYyIiNjNjIGLyQcS2cjMELGScbGYMXMgYvZLz6ICM2MmIjIzYyYiMjNjJiIyM2MmIjIzYyYiMjNjJiIyM2MmIjY/BCxrVwMgYvZHxnI+NjlIx1FRnrKjK+s5ERGxmxkREbGbGRERsZsZERGxmxkREbGbGRERsZsZERGxmxkbGuIuNaOBnrKjJONjIGL2QMXsh49UFGbGTERkZsZMRGRmxkxEZGbGTERkZsZMRGRmxkxEZGbGTERsbghYxr4WQMXsh8nGyuhPNPvX32U3F7OBwe3jcI8GXruj5/diy1XZZl//3799fdbvejeDiux8vLy+/H43H/9PT0bWZ+HdvMzG63+3F3d/fn2Z+Oa3T72T/0no2M2MiIjYzYyIiNjNjIiI2M2MiIjYzYyIiNjNjIiI3MdubnVZFLPwj/PV/tZruu6/PxeNzPF66KwIf3wdSnxlKuhfNvffpauMELGT8QyIiNjNjIiI2M2MiIjYzYyIiNjNjI/A0rxCDqO5yfSwAAAABJRU5ErkJggg==\"></img></td>\n",
              "      <td id=\"T_ee3cc_row1_col5\" class=\"data row1 col5\" >0<br>(0.0%)</td>\n",
              "    </tr>\n",
              "    <tr>\n",
              "      <td id=\"T_ee3cc_row2_col0\" class=\"data row2 col0\" >3</td>\n",
              "      <td id=\"T_ee3cc_row2_col1\" class=\"data row2 col1\" ><strong>Step Count</strong><br>[int64]</td>\n",
              "      <td id=\"T_ee3cc_row2_col2\" class=\"data row2 col2\" >Mean (sd) : 225.0 (277.9)<br>min < med < max:<br>1.0 < 89.0 < 1082.0<br>IQR (CV) : 343.0 (0.8)</td>\n",
              "      <td id=\"T_ee3cc_row2_col3\" class=\"data row2 col3\" >118 distinct values</td>\n",
              "      <td id=\"T_ee3cc_row2_col4\" class=\"data row2 col4\" ><img src = \"data:image/png;base64, iVBORw0KGgoAAAANSUhEUgAAAKoAAABGCAYAAABc8A97AAAAOXRFWHRTb2Z0d2FyZQBNYXRwbG90bGliIHZlcnNpb24zLjcuMSwgaHR0cHM6Ly9tYXRwbG90bGliLm9yZy/bCgiHAAAACXBIWXMAAA9hAAAPYQGoP6dpAAAC40lEQVR4nO3asW7aUBSA4XOBEBuoHUTqbCwdMlTqwMjSN8jDZu3WSOQFMnRhyhKhWI4t3FAs1x2qdKkU8L124aT/N+dcPPzG+CimqioBjl3n0BcA7KO36w+MMb6I9C3P31ZV9Ww5C/zxaqjGGH8ymVwFQTC2OTzLssQYc02scLXrG7UfBMF4Pp8/h2G4qXNwmqbeYrEYx3HcFxFChZOdj34RkTAMN1EUfbc437eYAf7CyxRUIFSoQKhQgVChAqFCBUKFCoQKFQgVKhAqVCBUqECoUIFQoQKhQgVChQqEChUIFSoQKlQgVKhAqFCBUKECoUIFQoUKhAoVCBUqECpUIFSoQKhQgVChAqFCBUKFCoQKFQgVKhAqVCBUqECoUIFQoQKhQgVChQqEChUIFSoQKlQgVKhAqFCBUKECoUIFQoUKhAoVem0eXpbliYgExhjbI7ZVVT03eElQqrVQ8zw/KYri03Q67Xa73Y3NGVmWJcaYa2JFa6Fut9ue53mD2Wy2ubi4SOrOp2nqLRaLcRzHfREh1P9cq49+EZHhcLiJoui75bjf6MVALV6moAKhQoXWH/0uHLcGbAzekKMN1XVr8PT0tDbGfBERq42D/H7a/LSc5SZp2NGG6rI1eHh4eHd7e/t5Op2e20ReluVJnucfRqPRstPpFHXnWas172hDfWGzNUiSxHdZjd3f34/v7u7ez2azb3XnWau14+hDdWG7GkuSxHeZF9ZqjXvToR4KL4HNI9SGub4Eav59a4zxRaRvOf7qDUqoDXN5CUzT1Lu5uYniOD43xmSWl3CQbYUxxp9MJldBEIxt5nfdoITaEpvft67fxq7bCseVXjAajaL5fJ6FYVhrfp8XUEI9Iq7/yOOyrXBd6RVF4ZVl+fH09PRrGy+ge4WapqlX91PX67UnIpLnubdarQb/cl7rZ7/MHkJRFD3P8waXl5fm7OzsR935x8dHb7lcDtI0Ha5Wq22d2X36+gV9IWCzf9bUIgAAAABJRU5ErkJggg==\"></img></td>\n",
              "      <td id=\"T_ee3cc_row2_col5\" class=\"data row2 col5\" >0<br>(0.0%)</td>\n",
              "    </tr>\n",
              "    <tr>\n",
              "      <td id=\"T_ee3cc_row3_col0\" class=\"data row3 col0\" >4</td>\n",
              "      <td id=\"T_ee3cc_row3_col1\" class=\"data row3 col1\" ><strong>Distance</strong><br>[float64]</td>\n",
              "      <td id=\"T_ee3cc_row3_col2\" class=\"data row3 col2\" >Mean (sd) : 0.1 (0.2)<br>min < med < max:<br>0.0 < 0.1 < 0.7<br>IQR (CV) : 0.2 (0.8)</td>\n",
              "      <td id=\"T_ee3cc_row3_col3\" class=\"data row3 col3\" >146 distinct values</td>\n",
              "      <td id=\"T_ee3cc_row3_col4\" class=\"data row3 col4\" ><img src = \"data:image/png;base64, iVBORw0KGgoAAAANSUhEUgAAAKoAAABGCAYAAABc8A97AAAAOXRFWHRTb2Z0d2FyZQBNYXRwbG90bGliIHZlcnNpb24zLjcuMSwgaHR0cHM6Ly9tYXRwbG90bGliLm9yZy/bCgiHAAAACXBIWXMAAA9hAAAPYQGoP6dpAAAC4ElEQVR4nO3av27aUBSA8XMgIPOn1yBSsrF0YKjUISNL3yAPm7VbI5GnYOgWoTjECAcXZNwhbZdKAV9DybG+35xz7SifwrlRNM9zAd672rlfADjExb4vUNWWiDQ9z9/keb72nAX+ejNUVW0NBoMb51zf5/DlcrlQ1VtiRVn7fqM2nXP9yWSyDsMwLXJwHMfBdDrtR1HUFBFCRSl7P/pFRMIwTIfD4YvH+S2PGeAfXKZgAqHCBEKFCYQKEwgVJhAqTCBUmECoMIFQYQKhwgRChQmEChMIFSYQKkwgVJhAqDCBUGECocIEQoUJhAoTCBUmECpMIFSYQKgwgVBhAqHCBEKFCYQKEwgVJhAqTCBUmECoMIFQYQKhwgRChQmEChMIFSYQKkwgVJhAqDCBUGECocIEQoUJhAoTCBUmECpMIFSYQKgwgVBhwsUpD8+yrCEiTlV9j9jkeb4+4ivBqJOFmiRJY7vdfhmNRvV6vZ76nPH8/LxS1W8i4jNP5BVyslA3m81FEATt6+vr9OrqalF0/uHh4cP9/f3X0Wh06RP6crlcqOotsVbDST/6RUQ6nU46HA5fis4tFouWb+hxHAfT6bQfRVFTRAi1Ak4ealm+oYtI6+gvg7N596H64iJXLZUMlYtc9VQyVC5y1VPJUP/gIlcdlQ61LN/Qsyxz4r8fm10bVLUlIk3P8Te/b0I9srL7ccndWORMoatqazAY3Djn+j7z+9YlQj2yMvtx2d1Y5Kz7cdM5159MJuswDAu9+yHrEqGeiM/aUGY3Fnn9gd/d3Q2jKLpU1WXReXn9J6Wdx5yIiNvtdo0wDBen+Ls3ob5DvrtxmbUjy7JGkiSfut3urFarbYs+e7vdBlmWfU7T9LuI+IT6poNCjeM4KHrwarUKRESSJAnm83n7f85bfXbZ9356euoGQdAej8fa6/V+Fpl9fHwMZrPZx/F4/KPX662KPvv3fDuO4858Pt8UmT2kr18D3nOUSlymJQAAAABJRU5ErkJggg==\"></img></td>\n",
              "      <td id=\"T_ee3cc_row3_col5\" class=\"data row3 col5\" >0<br>(0.0%)</td>\n",
              "    </tr>\n",
              "    <tr>\n",
              "      <td id=\"T_ee3cc_row4_col0\" class=\"data row4 col0\" >5</td>\n",
              "      <td id=\"T_ee3cc_row4_col1\" class=\"data row4 col1\" ><strong>Energy Burned</strong><br>[float64]</td>\n",
              "      <td id=\"T_ee3cc_row4_col2\" class=\"data row4 col2\" >Mean (sd) : 14.5 (9.6)<br>min < med < max:<br>0.2 < 14.4 < 60.5<br>IQR (CV) : 2.8 (1.5)</td>\n",
              "      <td id=\"T_ee3cc_row4_col3\" class=\"data row4 col3\" >137 distinct values</td>\n",
              "      <td id=\"T_ee3cc_row4_col4\" class=\"data row4 col4\" ><img src = \"data:image/png;base64, iVBORw0KGgoAAAANSUhEUgAAAKoAAABGCAYAAABc8A97AAAAOXRFWHRTb2Z0d2FyZQBNYXRwbG90bGliIHZlcnNpb24zLjcuMSwgaHR0cHM6Ly9tYXRwbG90bGliLm9yZy/bCgiHAAAACXBIWXMAAA9hAAAPYQGoP6dpAAACyUlEQVR4nO3dsW/aQBSA8XcQ0EHoXRwqsrF0yFCpQ0aWTl3zx2bt1gHmSKydWKJICIxw4uIYd2i2RiE+Q/CLvt/+fDd8gpwvEqYoCgHqrnHsDQBvcXLsDbzGGNMRkXbg+KYoisd97gfHU9tQjTGdfr9/7ZyLQuZXq9XCGHNDrB9DbUMVkbZzLhqNRo/e+7TMYBzHdjweR/P5vC0ihPoB1DlUERHx3qeDweAhYLSz983gaDhMQQVChQqEChUIFSoQKlQgVKhAqFCBUKECoUIFQoUKhAoVCBUqECpUIFSoQKhQgVChAqFCBUKFCoQKFQgVKhAqVCBUqECoUIFQoQKhQgVChQqEChUIFSoQKlQgVKhAqFCBUKECoUIFQoUKhAoVCBUqECpUIFSoQKhQgVChAqFCBUKFCoQKFQgVKhAqVNj569LGmI6ItAOfvymKgp8hR2WvhmqM6fT7/WvnXBTy8NVqtTDG3BArqtr1idp2zkWj0ejRe5+WeXAcx3Y8Hkfz+bwtIoSKSnZ+9YuIeO/TwWDwEPD8TsAM8B8OU1CBUKECoUIFQoUKhAoVCBUqvOn1VKg8z1si4owxIeNuu922jrS2CLdqtXKwUJMkaWVZ9m04HDabzWapywIRkSzLbJ7nX9M0/SUipd7hVl1bhFu1ujlYqJvN5sRa2726ukovLi4WZedns1k0nU67T09Pzfdem1u1+jnoV7+IyOnpadCt1mKxqHyrFbr2M27VaoTDFFQ4+CeqVhUPYxzE9oxQX1D1MLZcLtfGmJ8iEnKQI/IXEOoLqhzG7u7uPk0mk+/D4fDzESIXqRB6xX+SF/n3p+Q2cPbVfb8p1DiObdlV1+u1FRFJksTe399333N+X2uHyLLsxFrbvby8NGdnZ3/KzC6Xy97t7W1w5M/PCA3dnp+f//De90LWzfO8lSTJl16v97vRaGRl53e9DvwLs2AKFasgIvQAAAAASUVORK5CYII=\"></img></td>\n",
              "      <td id=\"T_ee3cc_row4_col5\" class=\"data row4 col5\" >0<br>(0.0%)</td>\n",
              "    </tr>\n",
              "    <tr>\n",
              "      <td id=\"T_ee3cc_row5_col0\" class=\"data row5 col0\" >6</td>\n",
              "      <td id=\"T_ee3cc_row5_col1\" class=\"data row5 col1\" ><strong>Flights Climbed</strong><br>[int64]</td>\n",
              "      <td id=\"T_ee3cc_row5_col2\" class=\"data row5 col2\" >1. 3<br>2. 1<br>3. 2<br>4. 4<br>5. 5<br>6. 6<br>7. 10<br>8. 7<br>9. 13</td>\n",
              "      <td id=\"T_ee3cc_row5_col3\" class=\"data row5 col3\" >69 (46.3%)<br>48 (32.2%)<br>20 (13.4%)<br>5 (3.4%)<br>2 (1.3%)<br>2 (1.3%)<br>1 (0.7%)<br>1 (0.7%)<br>1 (0.7%)</td>\n",
              "      <td id=\"T_ee3cc_row5_col4\" class=\"data row5 col4\" ><img src = \"data:image/png;base64, iVBORw0KGgoAAAANSUhEUgAAAJsAAADPCAYAAADifqNtAAAAOXRFWHRTb2Z0d2FyZQBNYXRwbG90bGliIHZlcnNpb24zLjcuMSwgaHR0cHM6Ly9tYXRwbG90bGliLm9yZy/bCgiHAAAACXBIWXMAAA9hAAAPYQGoP6dpAAADgUlEQVR4nO3dUU4bVwCG0WtkpeVlLMsSy2ABWUQW20V4AewDIeahpHlxH5pUlQD1IZ7PZnLOCq7Qp2s8mh82p9NpQOHm0gfg1yE2MmIjIzYyYiMjNjJiI7MZY9yOMT5d+iBX7NvpdHq59CHWYHs4HL5M07S/9EGu1TzPT5vN5g/B/bztNE37z58/v+x2u6+XPsy1eX5+/v14PO4fHx8/jTHE9pO2Y4yx2+2+3t3d/Xnpw1yp20sfYC18QSAjNjJiIyM2MmIjIzYyYiMjNjJiIyM2MmIjIzYyYiOzHeOfV2kufZBr5OdyXtt5np+Ox+N+eJXmTfM8P40xvl36HGvgtfD/57XwM9n4Wx9U1nSzuYGu3GoGL4Yp128VgxfDlI9hTYMX36avnIe6ZMRGRmxkxEZGbGTERkZsZMRGRmxkxEZGbGTERkZsZFYxePno5/9VrGbwYphy/bwWTsbghYwvCGSW+hj1kcYri6yrLJ14y9nXVZZOvGepddWHfozCMnxBICM2MmIjIzYyYiMjNjJiIyM2MmIjIzYyYiMjNjJiI3P2dZWlE+9ZZF1l6cRbvBZOxrqKzHs3m5uJs3tz8GKwwhJeDV4MVljKe4MXgxXOzkNdMmIjIzYyYiMjNjJiIyM2MmIjIzYyYiMjNjJiIyM2Mq8GLwYrLOXNwYvBCkvwWjgZgxcy/73Z3GYs6t/Bi5ELS7uZpml/f38/vi+s1vCvILlSN2OMcXt7+9elD8L6eahLRmxkxEZGbGTERkZsZMRGRmxkxEZGbGTERkZsZMRGRmxkbsYY4+Xl5bdLH4T1u5nn+enh4cGiisXZIJCxriLjZiNjXUXGuoqMdRUZD3XJiI2M2MiIjYzYyIiNjNjIiI2M2MiIjYzYyIiNjNjIGLyQMXgh47VwMgYvZH7cbMOtxtK2h8PhyxhjGLuwtJtpmvbGLhQ8ZyMjNjJiIyM2MmIjIzYyYiMjNjJiIyM2MmIjIzYyYiMjNjJiIyM2Mtvvq6oxLKtYmA0CGesqMm42MtZVZKyryHj0QUZsZMRGRmxkxEZGbGTERkZsZMRGRmxkxEZGbGTERkZsZMRGxuCFjNfCyRi8kHGzkTF4IWPwQsajDzJiIyM2MmIjIzYyYiMjNjJiIyM2MmIjIzYyYiMjNjJiIyM2MmIjY11FxgaBjHUVGb+zkREbGbGRERsZsZERG5m/AZzvZiNqbaJQAAAAAElFTkSuQmCC\"></img></td>\n",
              "      <td id=\"T_ee3cc_row5_col5\" class=\"data row5 col5\" >0<br>(0.0%)</td>\n",
              "    </tr>\n",
              "    <tr>\n",
              "      <td id=\"T_ee3cc_row6_col0\" class=\"data row6 col0\" >7</td>\n",
              "      <td id=\"T_ee3cc_row6_col1\" class=\"data row6 col1\" ><strong>Walking Double Support Percentage</strong><br>[float64]</td>\n",
              "      <td id=\"T_ee3cc_row6_col2\" class=\"data row6 col2\" >Mean (sd) : 0.3 (0.0)<br>min < med < max:<br>0.3 < 0.3 < 0.4<br>IQR (CV) : 0.0 (13.3)</td>\n",
              "      <td id=\"T_ee3cc_row6_col3\" class=\"data row6 col3\" >71 distinct values</td>\n",
              "      <td id=\"T_ee3cc_row6_col4\" class=\"data row6 col4\" ><img src = \"data:image/png;base64, iVBORw0KGgoAAAANSUhEUgAAAKoAAABGCAYAAABc8A97AAAAOXRFWHRTb2Z0d2FyZQBNYXRwbG90bGliIHZlcnNpb24zLjcuMSwgaHR0cHM6Ly9tYXRwbG90bGliLm9yZy/bCgiHAAAACXBIWXMAAA9hAAAPYQGoP6dpAAACpElEQVR4nO3cwYraUBSA4XPrOESFiFh05wsUunDpQ/Rh+wgVfALfwJ0QJGI6wRjTTVso1RmTmzu5587/7aNZ/GgSz9FUVSWA7z51fQLAI55cvrgxZiAizxYvca6q6qWt84FezkI1xgym0+m3OI4nTV/jeDwejDHfiRUuP1Gf4zierFarl/F4nNc9OE3TaLPZTJIkeRYRQv3gnH71i4iMx+N8Npv9bHj4oNWTgVrcTEEFQoUKhAoVCBUqECpUIFSoQKhQgVChAqFCBUKFCs5/Qu0Kk1thCTJUJrfCE2SowuRWcEINVUSY3AqJ16GWZdkXkdgYU/fQ+Hq99h2cEjribahZlvWLovi6WCx6vV6v1td3URRRWZZf8jz/ISJNP1HhEW9DPZ/PT1EUDZfLZT6fzw91jt3tdpPtdju8XC49V+eH9+VtqH+MRqPa15mHw4Hry8DwwB8qECpUIFSoQKhQgVChgvd3/R8NwzS3EapHGKa5j1D9wjDNHYTqIYZp/sfNFFQgVKhAqFCBUKECoUIF7vrvsNguEAn0oXuXCPUGm+0CkXAfuneJUG+w2S5I0zRar9ezJEk+G2OONd+aXa87CPUVTbYL2PVyg1Bb1vWuV6jX1oTqSBe7XiFfWxNqQGyvrX0eaCHUADX5NP/N24EWHvhDBUKFCoQKFQgVKhAqVHjzrt9iK5KfA9GaV0O12Yrk50C06a1P1MZbkfz1I9r00AP/JluR/PUj2sTNFFQgVKhAqFCBoRT8ZTnLKuJwnpVQISL2s6wibudZCRUiYjfLKuJ+npVQ8Q+LWVYRh/OshIrWuNzXIlS0wvW+FqGiFa73tQgVrXK1r8UDf6hAqFCBUKHCQ9eoaZpGdV/4dDpFIiJZlkX7/X74nsdrfW+t5217/CN9/QJLc8OjShce/gAAAABJRU5ErkJggg==\"></img></td>\n",
              "      <td id=\"T_ee3cc_row6_col5\" class=\"data row6 col5\" >0<br>(0.0%)</td>\n",
              "    </tr>\n",
              "    <tr>\n",
              "      <td id=\"T_ee3cc_row7_col0\" class=\"data row7 col0\" >8</td>\n",
              "      <td id=\"T_ee3cc_row7_col1\" class=\"data row7 col1\" ><strong>Walking Speed</strong><br>[float64]</td>\n",
              "      <td id=\"T_ee3cc_row7_col2\" class=\"data row7 col2\" >Mean (sd) : 4.0 (1.0)<br>min < med < max:<br>1.5 < 4.1 < 5.6<br>IQR (CV) : 1.6 (3.8)</td>\n",
              "      <td id=\"T_ee3cc_row7_col3\" class=\"data row7 col3\" >81 distinct values</td>\n",
              "      <td id=\"T_ee3cc_row7_col4\" class=\"data row7 col4\" ><img src = \"data:image/png;base64, iVBORw0KGgoAAAANSUhEUgAAAKoAAABGCAYAAABc8A97AAAAOXRFWHRTb2Z0d2FyZQBNYXRwbG90bGliIHZlcnNpb24zLjcuMSwgaHR0cHM6Ly9tYXRwbG90bGliLm9yZy/bCgiHAAAACXBIWXMAAA9hAAAPYQGoP6dpAAACoElEQVR4nO3dwY6aQBjA8Y+6rqwaiDHRmy/QpAePPEQfto+wB5/AN/BmYgxGukREemg32aZWkWF2+OD/u+MOyT+sjDPgFUUhQNN9cT0AoIwn1wNAc3ie9yIizwYfcSqK4q2u8XxEqBCR35FOp9PvQRBMqn7G4XDYe573w0ashIp3z0EQTKIoegvDMH304DiO/dVqNdntds8iQqiwKwzDdDab/ax4+Eutg/mAmymoQKhQgVChAqFCBUKFCoQKFQgVKhAqVCBUqECoUIFQoQKhQgVChQqEChUIFSoQKlRg4fR/GO4fsrZ3qKsI9QrT/UM29w51FaFeV3n/kO29Q11FqDcY7B+ytneoq7iZggqEChX4198yBrMVweVy6dc9nroQaouYzFZkWebnef41TdNXEam6r98aQm2XyrMVm81msl6vh+fzuWdrcCYItYWqzFbs9/tGz1RwMwUVCBUqECpU4Dtqwxguhmn0FJMJQm0Q08UwTZ9iMkGoFuR53heRwPO8Rw8NxuPxLIqiQ5WH6bqeYjI4b5E7SyMJtWZJkvSzLPu2WCx6vV7vodjer4iDweC1ymIYl1NMJuctcn9pJKHW7HQ6Pfm+P1wul+l8Pt8/cqzrK6IJk/MuszSSUC0ZjUatm3Qvo8p5/3Hz3JmeggqEChUIFSoQKlQgVKhAqFCBUKECoUIFQoUKVn+ZavL736GLtVCb/v536GLziur0/e8sQG4X64tSXLz/nQXI7XM3VJdP3ujqAmT862aoLp+80dUFyLju3hXV2ZM3uroAGdeV+o7q8skbXV2AjL8x4Q8VCBUqECpUIFSoQKhQgVChAqFCBUKFCoQKFQgVKhAqVCj1W38cx/6jH3w8Hn0RkSRJ/O12O/zM47X+ba3jNj2+TF+/ADPkmQ4NYsUCAAAAAElFTkSuQmCC\"></img></td>\n",
              "      <td id=\"T_ee3cc_row7_col5\" class=\"data row7 col5\" >0<br>(0.0%)</td>\n",
              "    </tr>\n",
              "    <tr>\n",
              "      <td id=\"T_ee3cc_row8_col0\" class=\"data row8 col0\" >9</td>\n",
              "      <td id=\"T_ee3cc_row8_col1\" class=\"data row8 col1\" ><strong>Walking Efficiency</strong><br>[float64]</td>\n",
              "      <td id=\"T_ee3cc_row8_col2\" class=\"data row8 col2\" >Mean (sd) : 0.0 (0.0)<br>min < med < max:<br>0.0 < 0.0 < 0.0<br>IQR (CV) : 0.0 (3.3)</td>\n",
              "      <td id=\"T_ee3cc_row8_col3\" class=\"data row8 col3\" >132 distinct values</td>\n",
              "      <td id=\"T_ee3cc_row8_col4\" class=\"data row8 col4\" ><img src = \"data:image/png;base64, iVBORw0KGgoAAAANSUhEUgAAAKoAAABGCAYAAABc8A97AAAAOXRFWHRTb2Z0d2FyZQBNYXRwbG90bGliIHZlcnNpb24zLjcuMSwgaHR0cHM6Ly9tYXRwbG90bGliLm9yZy/bCgiHAAAACXBIWXMAAA9hAAAPYQGoP6dpAAABtklEQVR4nO3XUWrCQBRG4XuLDZkWJoSAmxBcgItwsV1CH9yFGxCljA8alThdQGltUkP70/O9JnO5D4cJ8ZyzAX/dw28vAHzHZMzh7h7MrPjBiHPO+XivfaBrtFDdPTRNs4wx1kNn7Pf7N3d/IVaMeaMWMcZ6sVgcq6pq+x5OKZWr1are7XaFmRHqPzfqp9/MrKqqdjqdHgYeD3ddBrL4mYIEQoUEQoUEQoUEQoUEQoUEQoUEQoUEQoUEQoUEQoUEQoUEQoUEQoUEQoUEQoUEQoUEQoUEQoUEQoUEQoUEQoUEQoUEQoUEQoUEQoUEQoUEQoUEQoUEQoUEQoUEQoUEQoUEQoUEQoUEQoUEQoUEQoUEQoUEQoUEQoUEQoUEQoUEQoUEQoUEQoUEQoUEQoUEQoUEQoUEQoUEQoUEQoUEQoUEQoUEQoUEQoUEQoUEQoUEQoUEQoWEya0X3D2YWTFgdrxer48DzgEffBmqu4emaZYxxrrv4MvlUnZdN2vb9tXMDoM3BOz2jVrEGOv5fG4hhFOfwdvttlyv108ppefNZnPuu1hKqey6bmJm0d37HoeeU865/ezhOwZ/R6WUrDiGAAAAAElFTkSuQmCC\"></img></td>\n",
              "      <td id=\"T_ee3cc_row8_col5\" class=\"data row8 col5\" >0<br>(0.0%)</td>\n",
              "    </tr>\n",
              "    <tr>\n",
              "      <td id=\"T_ee3cc_row9_col0\" class=\"data row9 col0\" >10</td>\n",
              "      <td id=\"T_ee3cc_row9_col1\" class=\"data row9 col1\" ><strong>Time Interval</strong><br>[category]</td>\n",
              "      <td id=\"T_ee3cc_row9_col2\" class=\"data row9 col2\" >1. Evening<br>2. Afternoon<br>3. Morning</td>\n",
              "      <td id=\"T_ee3cc_row9_col3\" class=\"data row9 col3\" >69 (46.3%)<br>63 (42.3%)<br>17 (11.4%)</td>\n",
              "      <td id=\"T_ee3cc_row9_col4\" class=\"data row9 col4\" ><img src = \"data:image/png;base64, iVBORw0KGgoAAAANSUhEUgAAAJsAAABFCAYAAABdVZTTAAAAOXRFWHRTb2Z0d2FyZQBNYXRwbG90bGliIHZlcnNpb24zLjcuMSwgaHR0cHM6Ly9tYXRwbG90bGliLm9yZy/bCgiHAAAACXBIWXMAAA9hAAAPYQGoP6dpAAABmUlEQVR4nO3bQWrqABSF4ZtHKO0kQQQX4yK62LeI7EbEDNrSSTpowcnjWWhyEuz3reAqP0rE00zTVJDwZ+0D+D2aqnqqqoe1D9mw92maXtc+4h60+/3+ueu63dqHbNU4juemaf4K7ufarut2x+Pxte/7t7WP2ZrL5fI4DMPudDo9VJXYfqitqur7/u1wOLysfcxGPa19wL3wgECM2IgRGzFiI0ZsxIiNGLERIzZixEaM2IgRGzFiI0ZsxIiNmLbq839bax+yRd6XebXjOJ6HYdiV/2390ziO56p6X/uOe2CDcJsNwkwaUz5SfLJd+QRbmHXVFyuq5VlXlRVVinXVlafxhflRlxixESM2YsRGjNiIERsxYiNGbMSIjRixESM2YsRGjNiIERsx1lXl9adYV32xolqeDcKVDcLCrKuI8YBAzJxfo76G+K/ZpnymcNwyy5TPFI7vmHPK96t/OuE2DwjEiI0YsREjNmLERozYiBEbMWIjRmzEiI0YsREjNmLERozYiJllymcKx3fMNuUzheMWGwRiTPmI+QC+8aNKDE8qGQAAAABJRU5ErkJggg==\"></img></td>\n",
              "      <td id=\"T_ee3cc_row9_col5\" class=\"data row9 col5\" >0<br>(0.0%)</td>\n",
              "    </tr>\n",
              "  </tbody>\n",
              "</table>\n"
            ]
          },
          "metadata": {},
          "execution_count": 26
        }
      ]
    },
    {
      "cell_type": "code",
      "source": [
        "data.info()"
      ],
      "metadata": {
        "colab": {
          "base_uri": "https://localhost:8080/"
        },
        "id": "UBZw-HeL3rZu",
        "outputId": "173830dc-c160-46b6-e0df-397002071789"
      },
      "execution_count": 23,
      "outputs": [
        {
          "output_type": "stream",
          "name": "stdout",
          "text": [
            "<class 'pandas.core.frame.DataFrame'>\n",
            "RangeIndex: 149 entries, 0 to 148\n",
            "Data columns (total 10 columns):\n",
            " #   Column                             Non-Null Count  Dtype   \n",
            "---  ------                             --------------  -----   \n",
            " 0   Date                               149 non-null    object  \n",
            " 1   Time                               149 non-null    object  \n",
            " 2   Step Count                         149 non-null    int64   \n",
            " 3   Distance                           149 non-null    float64 \n",
            " 4   Energy Burned                      149 non-null    float64 \n",
            " 5   Flights Climbed                    149 non-null    int64   \n",
            " 6   Walking Double Support Percentage  149 non-null    float64 \n",
            " 7   Walking Speed                      149 non-null    float64 \n",
            " 8   Walking Efficiency                 149 non-null    float64 \n",
            " 9   Time Interval                      149 non-null    category\n",
            "dtypes: category(1), float64(5), int64(2), object(2)\n",
            "memory usage: 10.9+ KB\n"
          ]
        }
      ]
    },
    {
      "cell_type": "code",
      "source": [
        "# Step Count Over Time\n",
        "fig1 = px.line(data, x=\"Time\",\n",
        "               y=\"Step Count\",\n",
        "               title=\"Step Count Over Time\")\n",
        "fig1.show()"
      ],
      "metadata": {
        "colab": {
          "base_uri": "https://localhost:8080/",
          "height": 542
        },
        "id": "FXshE7NCz2MV",
        "outputId": "3e9756c6-8346-4408-e1ab-b4dc0da4d78e"
      },
      "execution_count": 7,
      "outputs": [
        {
          "output_type": "display_data",
          "data": {
            "text/html": [
              "<html>\n",
              "<head><meta charset=\"utf-8\" /></head>\n",
              "<body>\n",
              "    <div>            <script src=\"https://cdnjs.cloudflare.com/ajax/libs/mathjax/2.7.5/MathJax.js?config=TeX-AMS-MML_SVG\"></script><script type=\"text/javascript\">if (window.MathJax && window.MathJax.Hub && window.MathJax.Hub.Config) {window.MathJax.Hub.Config({SVG: {font: \"STIX-Web\"}});}</script>                <script type=\"text/javascript\">window.PlotlyConfig = {MathJaxConfig: 'local'};</script>\n",
              "        <script charset=\"utf-8\" src=\"https://cdn.plot.ly/plotly-2.24.1.min.js\"></script>                <div id=\"5c9151f5-f18f-444f-8734-0751df56f01b\" class=\"plotly-graph-div\" style=\"height:525px; width:100%;\"></div>            <script type=\"text/javascript\">                                    window.PLOTLYENV=window.PLOTLYENV || {};                                    if (document.getElementById(\"5c9151f5-f18f-444f-8734-0751df56f01b\")) {                    Plotly.newPlot(                        \"5c9151f5-f18f-444f-8734-0751df56f01b\",                        [{\"hovertemplate\":\"Time=%{x}\\u003cbr\\u003eStep Count=%{y}\\u003cextra\\u003e\\u003c\\u002fextra\\u003e\",\"legendgroup\":\"\",\"line\":{\"color\":\"#636efa\",\"dash\":\"solid\"},\"marker\":{\"symbol\":\"circle\"},\"mode\":\"lines\",\"name\":\"\",\"orientation\":\"v\",\"showlegend\":false,\"x\":[\"16:01:23 \",\"16:18:37 \",\"16:31:38 \",\"16:45:37 \",\"17:10:30 \",\"18:14:45 \",\"19:02:31 \",\"19:10:51 \",\"19:20:57 \",\"21:04:23 \",\"21:25:23 \",\"00:32:15 \",\"01:20:54 \",\"08:22:57 \",\"10:34:49 \",\"10:52:38 \",\"13:04:47 \",\"13:42:14 \",\"13:42:14 \",\"13:55:27 \",\"14:14:39 \",\"14:52:20 \",\"14:57:40 \",\"15:15:35 \",\"15:23:52 \",\"15:40:24 \",\"15:45:00 \",\"16:13:03 \",\"16:59:35 \",\"17:06:48 \",\"17:17:33 \",\"17:27:35 \",\"18:02:17 \",\"18:11:29 \",\"18:19:35 \",\"18:29:34 \",\"19:00:43 \",\"19:07:33 \",\"19:15:01 \",\"19:25:32 \",\"23:29:50 \",\"09:15:52 \",\"16:51:23 \",\"17:01:33 \",\"17:23:21 \",\"19:00:57 \",\"20:11:46 \",\"20:52:19 \",\"22:53:29 \",\"14:20:45 \",\"16:26:41 \",\"16:51:38 \",\"19:02:12 \",\"20:11:48 \",\"22:12:26 \",\"13:11:57 \",\"15:14:00 \",\"15:38:12 \",\"17:08:09 \",\"18:46:46 \",\"18:58:27 \",\"19:10:59 \",\"19:27:00 \",\"23:24:27 \",\"07:07:48 \",\"15:53:25 \",\"16:08:01 \",\"17:24:18 \",\"19:12:48 \",\"19:28:30 \",\"21:10:46 \",\"21:23:31 \",\"21:34:56 \",\"22:16:26 \",\"23:19:50 \",\"08:58:35 \",\"13:27:30 \",\"13:48:15 \",\"14:10:38 \",\"18:32:19 \",\"18:42:59 \",\"20:36:57 \",\"21:23:57 \",\"11:44:10 \",\"11:52:21 \",\"19:44:18 \",\"20:15:46 \",\"20:30:22 \",\"21:03:51 \",\"22:59:31 \",\"22:59:35 \",\"22:59:36 \",\"22:59:46 \",\"22:59:49 \",\"23:10:35 \",\"01:13:15 \",\"01:31:53 \",\"09:22:39 \",\"13:11:20 \",\"13:21:19 \",\"13:31:19 \",\"13:43:01 \",\"14:05:27 \",\"17:48:37 \",\"17:58:50 \",\"18:08:49 \",\"19:09:25 \",\"19:26:54 \",\"19:37:06 \",\"19:47:06 \",\"19:57:23 \",\"20:07:33 \",\"21:14:20 \",\"21:58:14 \",\"12:22:40 \",\"14:12:11 \",\"17:09:16 \",\"18:17:50 \",\"19:40:16 \",\"19:43:17 \",\"20:19:18 \",\"20:29:18 \",\"20:42:52 \",\"23:06:23 \",\"23:21:50 \",\"14:47:58 \",\"15:27:44 \",\"16:55:16 \",\"16:58:56 \",\"17:13:05 \",\"17:27:34 \",\"17:44:36 \",\"17:55:55 \",\"18:11:50 \",\"18:23:45 \",\"18:34:38 \",\"23:05:40 \",\"00:08:20 \",\"08:45:13 \",\"10:26:24 \",\"11:00:51 \",\"12:57:00 \",\"14:24:46 \",\"15:05:42 \",\"16:04:23 \",\"16:33:18 \",\"16:49:49 \",\"17:09:06 \",\"17:47:07 \"],\"xaxis\":\"x\",\"y\":[46,645,14,13,17,8,564,153,16,22,16,37,14,22,206,44,122,839,118,590,425,260,838,959,89,472,117,30,492,431,502,708,587,496,395,401,384,161,736,142,10,17,675,58,27,8,6,56,26,81,6,50,1,236,14,78,96,132,33,504,60,54,77,19,24,91,16,501,189,31,84,76,41,37,21,26,240,20,8,50,10,22,15,110,2,79,454,465,11,365,377,5,9,2,86,9,13,10,185,144,526,46,118,230,293,42,332,185,290,215,258,266,54,6,12,9,41,349,980,726,1065,831,126,62,25,22,15,485,1046,159,260,248,1082,543,393,197,16,36,99,3,31,275,276,149,87,37,969,640,1081],\"yaxis\":\"y\",\"type\":\"scatter\"}],                        {\"template\":{\"data\":{\"histogram2dcontour\":[{\"type\":\"histogram2dcontour\",\"colorbar\":{\"outlinewidth\":0,\"ticks\":\"\"},\"colorscale\":[[0.0,\"#0d0887\"],[0.1111111111111111,\"#46039f\"],[0.2222222222222222,\"#7201a8\"],[0.3333333333333333,\"#9c179e\"],[0.4444444444444444,\"#bd3786\"],[0.5555555555555556,\"#d8576b\"],[0.6666666666666666,\"#ed7953\"],[0.7777777777777778,\"#fb9f3a\"],[0.8888888888888888,\"#fdca26\"],[1.0,\"#f0f921\"]]}],\"choropleth\":[{\"type\":\"choropleth\",\"colorbar\":{\"outlinewidth\":0,\"ticks\":\"\"}}],\"histogram2d\":[{\"type\":\"histogram2d\",\"colorbar\":{\"outlinewidth\":0,\"ticks\":\"\"},\"colorscale\":[[0.0,\"#0d0887\"],[0.1111111111111111,\"#46039f\"],[0.2222222222222222,\"#7201a8\"],[0.3333333333333333,\"#9c179e\"],[0.4444444444444444,\"#bd3786\"],[0.5555555555555556,\"#d8576b\"],[0.6666666666666666,\"#ed7953\"],[0.7777777777777778,\"#fb9f3a\"],[0.8888888888888888,\"#fdca26\"],[1.0,\"#f0f921\"]]}],\"heatmap\":[{\"type\":\"heatmap\",\"colorbar\":{\"outlinewidth\":0,\"ticks\":\"\"},\"colorscale\":[[0.0,\"#0d0887\"],[0.1111111111111111,\"#46039f\"],[0.2222222222222222,\"#7201a8\"],[0.3333333333333333,\"#9c179e\"],[0.4444444444444444,\"#bd3786\"],[0.5555555555555556,\"#d8576b\"],[0.6666666666666666,\"#ed7953\"],[0.7777777777777778,\"#fb9f3a\"],[0.8888888888888888,\"#fdca26\"],[1.0,\"#f0f921\"]]}],\"heatmapgl\":[{\"type\":\"heatmapgl\",\"colorbar\":{\"outlinewidth\":0,\"ticks\":\"\"},\"colorscale\":[[0.0,\"#0d0887\"],[0.1111111111111111,\"#46039f\"],[0.2222222222222222,\"#7201a8\"],[0.3333333333333333,\"#9c179e\"],[0.4444444444444444,\"#bd3786\"],[0.5555555555555556,\"#d8576b\"],[0.6666666666666666,\"#ed7953\"],[0.7777777777777778,\"#fb9f3a\"],[0.8888888888888888,\"#fdca26\"],[1.0,\"#f0f921\"]]}],\"contourcarpet\":[{\"type\":\"contourcarpet\",\"colorbar\":{\"outlinewidth\":0,\"ticks\":\"\"}}],\"contour\":[{\"type\":\"contour\",\"colorbar\":{\"outlinewidth\":0,\"ticks\":\"\"},\"colorscale\":[[0.0,\"#0d0887\"],[0.1111111111111111,\"#46039f\"],[0.2222222222222222,\"#7201a8\"],[0.3333333333333333,\"#9c179e\"],[0.4444444444444444,\"#bd3786\"],[0.5555555555555556,\"#d8576b\"],[0.6666666666666666,\"#ed7953\"],[0.7777777777777778,\"#fb9f3a\"],[0.8888888888888888,\"#fdca26\"],[1.0,\"#f0f921\"]]}],\"surface\":[{\"type\":\"surface\",\"colorbar\":{\"outlinewidth\":0,\"ticks\":\"\"},\"colorscale\":[[0.0,\"#0d0887\"],[0.1111111111111111,\"#46039f\"],[0.2222222222222222,\"#7201a8\"],[0.3333333333333333,\"#9c179e\"],[0.4444444444444444,\"#bd3786\"],[0.5555555555555556,\"#d8576b\"],[0.6666666666666666,\"#ed7953\"],[0.7777777777777778,\"#fb9f3a\"],[0.8888888888888888,\"#fdca26\"],[1.0,\"#f0f921\"]]}],\"mesh3d\":[{\"type\":\"mesh3d\",\"colorbar\":{\"outlinewidth\":0,\"ticks\":\"\"}}],\"scatter\":[{\"fillpattern\":{\"fillmode\":\"overlay\",\"size\":10,\"solidity\":0.2},\"type\":\"scatter\"}],\"parcoords\":[{\"type\":\"parcoords\",\"line\":{\"colorbar\":{\"outlinewidth\":0,\"ticks\":\"\"}}}],\"scatterpolargl\":[{\"type\":\"scatterpolargl\",\"marker\":{\"colorbar\":{\"outlinewidth\":0,\"ticks\":\"\"}}}],\"bar\":[{\"error_x\":{\"color\":\"#2a3f5f\"},\"error_y\":{\"color\":\"#2a3f5f\"},\"marker\":{\"line\":{\"color\":\"white\",\"width\":0.5},\"pattern\":{\"fillmode\":\"overlay\",\"size\":10,\"solidity\":0.2}},\"type\":\"bar\"}],\"scattergeo\":[{\"type\":\"scattergeo\",\"marker\":{\"colorbar\":{\"outlinewidth\":0,\"ticks\":\"\"}}}],\"scatterpolar\":[{\"type\":\"scatterpolar\",\"marker\":{\"colorbar\":{\"outlinewidth\":0,\"ticks\":\"\"}}}],\"histogram\":[{\"marker\":{\"pattern\":{\"fillmode\":\"overlay\",\"size\":10,\"solidity\":0.2}},\"type\":\"histogram\"}],\"scattergl\":[{\"type\":\"scattergl\",\"marker\":{\"colorbar\":{\"outlinewidth\":0,\"ticks\":\"\"}}}],\"scatter3d\":[{\"type\":\"scatter3d\",\"line\":{\"colorbar\":{\"outlinewidth\":0,\"ticks\":\"\"}},\"marker\":{\"colorbar\":{\"outlinewidth\":0,\"ticks\":\"\"}}}],\"scattermapbox\":[{\"type\":\"scattermapbox\",\"marker\":{\"colorbar\":{\"outlinewidth\":0,\"ticks\":\"\"}}}],\"scatterternary\":[{\"type\":\"scatterternary\",\"marker\":{\"colorbar\":{\"outlinewidth\":0,\"ticks\":\"\"}}}],\"scattercarpet\":[{\"type\":\"scattercarpet\",\"marker\":{\"colorbar\":{\"outlinewidth\":0,\"ticks\":\"\"}}}],\"carpet\":[{\"aaxis\":{\"endlinecolor\":\"#2a3f5f\",\"gridcolor\":\"#C8D4E3\",\"linecolor\":\"#C8D4E3\",\"minorgridcolor\":\"#C8D4E3\",\"startlinecolor\":\"#2a3f5f\"},\"baxis\":{\"endlinecolor\":\"#2a3f5f\",\"gridcolor\":\"#C8D4E3\",\"linecolor\":\"#C8D4E3\",\"minorgridcolor\":\"#C8D4E3\",\"startlinecolor\":\"#2a3f5f\"},\"type\":\"carpet\"}],\"table\":[{\"cells\":{\"fill\":{\"color\":\"#EBF0F8\"},\"line\":{\"color\":\"white\"}},\"header\":{\"fill\":{\"color\":\"#C8D4E3\"},\"line\":{\"color\":\"white\"}},\"type\":\"table\"}],\"barpolar\":[{\"marker\":{\"line\":{\"color\":\"white\",\"width\":0.5},\"pattern\":{\"fillmode\":\"overlay\",\"size\":10,\"solidity\":0.2}},\"type\":\"barpolar\"}],\"pie\":[{\"automargin\":true,\"type\":\"pie\"}]},\"layout\":{\"autotypenumbers\":\"strict\",\"colorway\":[\"#636efa\",\"#EF553B\",\"#00cc96\",\"#ab63fa\",\"#FFA15A\",\"#19d3f3\",\"#FF6692\",\"#B6E880\",\"#FF97FF\",\"#FECB52\"],\"font\":{\"color\":\"#2a3f5f\"},\"hovermode\":\"closest\",\"hoverlabel\":{\"align\":\"left\"},\"paper_bgcolor\":\"white\",\"plot_bgcolor\":\"white\",\"polar\":{\"bgcolor\":\"white\",\"angularaxis\":{\"gridcolor\":\"#EBF0F8\",\"linecolor\":\"#EBF0F8\",\"ticks\":\"\"},\"radialaxis\":{\"gridcolor\":\"#EBF0F8\",\"linecolor\":\"#EBF0F8\",\"ticks\":\"\"}},\"ternary\":{\"bgcolor\":\"white\",\"aaxis\":{\"gridcolor\":\"#DFE8F3\",\"linecolor\":\"#A2B1C6\",\"ticks\":\"\"},\"baxis\":{\"gridcolor\":\"#DFE8F3\",\"linecolor\":\"#A2B1C6\",\"ticks\":\"\"},\"caxis\":{\"gridcolor\":\"#DFE8F3\",\"linecolor\":\"#A2B1C6\",\"ticks\":\"\"}},\"coloraxis\":{\"colorbar\":{\"outlinewidth\":0,\"ticks\":\"\"}},\"colorscale\":{\"sequential\":[[0.0,\"#0d0887\"],[0.1111111111111111,\"#46039f\"],[0.2222222222222222,\"#7201a8\"],[0.3333333333333333,\"#9c179e\"],[0.4444444444444444,\"#bd3786\"],[0.5555555555555556,\"#d8576b\"],[0.6666666666666666,\"#ed7953\"],[0.7777777777777778,\"#fb9f3a\"],[0.8888888888888888,\"#fdca26\"],[1.0,\"#f0f921\"]],\"sequentialminus\":[[0.0,\"#0d0887\"],[0.1111111111111111,\"#46039f\"],[0.2222222222222222,\"#7201a8\"],[0.3333333333333333,\"#9c179e\"],[0.4444444444444444,\"#bd3786\"],[0.5555555555555556,\"#d8576b\"],[0.6666666666666666,\"#ed7953\"],[0.7777777777777778,\"#fb9f3a\"],[0.8888888888888888,\"#fdca26\"],[1.0,\"#f0f921\"]],\"diverging\":[[0,\"#8e0152\"],[0.1,\"#c51b7d\"],[0.2,\"#de77ae\"],[0.3,\"#f1b6da\"],[0.4,\"#fde0ef\"],[0.5,\"#f7f7f7\"],[0.6,\"#e6f5d0\"],[0.7,\"#b8e186\"],[0.8,\"#7fbc41\"],[0.9,\"#4d9221\"],[1,\"#276419\"]]},\"xaxis\":{\"gridcolor\":\"#EBF0F8\",\"linecolor\":\"#EBF0F8\",\"ticks\":\"\",\"title\":{\"standoff\":15},\"zerolinecolor\":\"#EBF0F8\",\"automargin\":true,\"zerolinewidth\":2},\"yaxis\":{\"gridcolor\":\"#EBF0F8\",\"linecolor\":\"#EBF0F8\",\"ticks\":\"\",\"title\":{\"standoff\":15},\"zerolinecolor\":\"#EBF0F8\",\"automargin\":true,\"zerolinewidth\":2},\"scene\":{\"xaxis\":{\"backgroundcolor\":\"white\",\"gridcolor\":\"#DFE8F3\",\"linecolor\":\"#EBF0F8\",\"showbackground\":true,\"ticks\":\"\",\"zerolinecolor\":\"#EBF0F8\",\"gridwidth\":2},\"yaxis\":{\"backgroundcolor\":\"white\",\"gridcolor\":\"#DFE8F3\",\"linecolor\":\"#EBF0F8\",\"showbackground\":true,\"ticks\":\"\",\"zerolinecolor\":\"#EBF0F8\",\"gridwidth\":2},\"zaxis\":{\"backgroundcolor\":\"white\",\"gridcolor\":\"#DFE8F3\",\"linecolor\":\"#EBF0F8\",\"showbackground\":true,\"ticks\":\"\",\"zerolinecolor\":\"#EBF0F8\",\"gridwidth\":2}},\"shapedefaults\":{\"line\":{\"color\":\"#2a3f5f\"}},\"annotationdefaults\":{\"arrowcolor\":\"#2a3f5f\",\"arrowhead\":0,\"arrowwidth\":1},\"geo\":{\"bgcolor\":\"white\",\"landcolor\":\"white\",\"subunitcolor\":\"#C8D4E3\",\"showland\":true,\"showlakes\":true,\"lakecolor\":\"white\"},\"title\":{\"x\":0.05},\"mapbox\":{\"style\":\"light\"}}},\"xaxis\":{\"anchor\":\"y\",\"domain\":[0.0,1.0],\"title\":{\"text\":\"Time\"}},\"yaxis\":{\"anchor\":\"x\",\"domain\":[0.0,1.0],\"title\":{\"text\":\"Step Count\"}},\"legend\":{\"tracegroupgap\":0},\"title\":{\"text\":\"Step Count Over Time\"}},                        {\"responsive\": true}                    ).then(function(){\n",
              "                            \n",
              "var gd = document.getElementById('5c9151f5-f18f-444f-8734-0751df56f01b');\n",
              "var x = new MutationObserver(function (mutations, observer) {{\n",
              "        var display = window.getComputedStyle(gd).display;\n",
              "        if (!display || display === 'none') {{\n",
              "            console.log([gd, 'removed!']);\n",
              "            Plotly.purge(gd);\n",
              "            observer.disconnect();\n",
              "        }}\n",
              "}});\n",
              "\n",
              "// Listen for the removal of the full notebook cells\n",
              "var notebookContainer = gd.closest('#notebook-container');\n",
              "if (notebookContainer) {{\n",
              "    x.observe(notebookContainer, {childList: true});\n",
              "}}\n",
              "\n",
              "// Listen for the clearing of the current output cell\n",
              "var outputEl = gd.closest('.output');\n",
              "if (outputEl) {{\n",
              "    x.observe(outputEl, {childList: true});\n",
              "}}\n",
              "\n",
              "                        })                };                            </script>        </div>\n",
              "</body>\n",
              "</html>"
            ]
          },
          "metadata": {}
        }
      ]
    },
    {
      "cell_type": "markdown",
      "source": [],
      "metadata": {
        "id": "o5RoobHf0Lf6"
      }
    },
    {
      "cell_type": "code",
      "source": [
        "# Distance Covered Over Time\n",
        "fig2 = px.line(data, x=\"Time\",\n",
        "               y=\"Distance\",\n",
        "               title=\"Distance Covered Over Time\")\n",
        "fig2.show()"
      ],
      "metadata": {
        "colab": {
          "base_uri": "https://localhost:8080/",
          "height": 542
        },
        "id": "r0-DogG1z2Qe",
        "outputId": "f3f858d4-11eb-4c70-da59-f5c9d6c39ce6"
      },
      "execution_count": 8,
      "outputs": [
        {
          "output_type": "display_data",
          "data": {
            "text/html": [
              "<html>\n",
              "<head><meta charset=\"utf-8\" /></head>\n",
              "<body>\n",
              "    <div>            <script src=\"https://cdnjs.cloudflare.com/ajax/libs/mathjax/2.7.5/MathJax.js?config=TeX-AMS-MML_SVG\"></script><script type=\"text/javascript\">if (window.MathJax && window.MathJax.Hub && window.MathJax.Hub.Config) {window.MathJax.Hub.Config({SVG: {font: \"STIX-Web\"}});}</script>                <script type=\"text/javascript\">window.PlotlyConfig = {MathJaxConfig: 'local'};</script>\n",
              "        <script charset=\"utf-8\" src=\"https://cdn.plot.ly/plotly-2.24.1.min.js\"></script>                <div id=\"4af4278b-927c-449e-a128-95778af92a6d\" class=\"plotly-graph-div\" style=\"height:525px; width:100%;\"></div>            <script type=\"text/javascript\">                                    window.PLOTLYENV=window.PLOTLYENV || {};                                    if (document.getElementById(\"4af4278b-927c-449e-a128-95778af92a6d\")) {                    Plotly.newPlot(                        \"4af4278b-927c-449e-a128-95778af92a6d\",                        [{\"hovertemplate\":\"Time=%{x}\\u003cbr\\u003eDistance=%{y}\\u003cextra\\u003e\\u003c\\u002fextra\\u003e\",\"legendgroup\":\"\",\"line\":{\"color\":\"#636efa\",\"dash\":\"solid\"},\"marker\":{\"symbol\":\"circle\"},\"mode\":\"lines\",\"name\":\"\",\"orientation\":\"v\",\"showlegend\":false,\"x\":[\"16:01:23 \",\"16:18:37 \",\"16:31:38 \",\"16:45:37 \",\"17:10:30 \",\"18:14:45 \",\"19:02:31 \",\"19:10:51 \",\"19:20:57 \",\"21:04:23 \",\"21:25:23 \",\"00:32:15 \",\"01:20:54 \",\"08:22:57 \",\"10:34:49 \",\"10:52:38 \",\"13:04:47 \",\"13:42:14 \",\"13:42:14 \",\"13:55:27 \",\"14:14:39 \",\"14:52:20 \",\"14:57:40 \",\"15:15:35 \",\"15:23:52 \",\"15:40:24 \",\"15:45:00 \",\"16:13:03 \",\"16:59:35 \",\"17:06:48 \",\"17:17:33 \",\"17:27:35 \",\"18:02:17 \",\"18:11:29 \",\"18:19:35 \",\"18:29:34 \",\"19:00:43 \",\"19:07:33 \",\"19:15:01 \",\"19:25:32 \",\"23:29:50 \",\"09:15:52 \",\"16:51:23 \",\"17:01:33 \",\"17:23:21 \",\"19:00:57 \",\"20:11:46 \",\"20:52:19 \",\"22:53:29 \",\"14:20:45 \",\"16:26:41 \",\"16:51:38 \",\"19:02:12 \",\"20:11:48 \",\"22:12:26 \",\"13:11:57 \",\"15:14:00 \",\"15:38:12 \",\"17:08:09 \",\"18:46:46 \",\"18:58:27 \",\"19:10:59 \",\"19:27:00 \",\"23:24:27 \",\"07:07:48 \",\"15:53:25 \",\"16:08:01 \",\"17:24:18 \",\"19:12:48 \",\"19:28:30 \",\"21:10:46 \",\"21:23:31 \",\"21:34:56 \",\"22:16:26 \",\"23:19:50 \",\"08:58:35 \",\"13:27:30 \",\"13:48:15 \",\"14:10:38 \",\"18:32:19 \",\"18:42:59 \",\"20:36:57 \",\"21:23:57 \",\"11:44:10 \",\"11:52:21 \",\"19:44:18 \",\"20:15:46 \",\"20:30:22 \",\"21:03:51 \",\"22:59:31 \",\"22:59:35 \",\"22:59:36 \",\"22:59:46 \",\"22:59:49 \",\"23:10:35 \",\"01:13:15 \",\"01:31:53 \",\"09:22:39 \",\"13:11:20 \",\"13:21:19 \",\"13:31:19 \",\"13:43:01 \",\"14:05:27 \",\"17:48:37 \",\"17:58:50 \",\"18:08:49 \",\"19:09:25 \",\"19:26:54 \",\"19:37:06 \",\"19:47:06 \",\"19:57:23 \",\"20:07:33 \",\"21:14:20 \",\"21:58:14 \",\"12:22:40 \",\"14:12:11 \",\"17:09:16 \",\"18:17:50 \",\"19:40:16 \",\"19:43:17 \",\"20:19:18 \",\"20:29:18 \",\"20:42:52 \",\"23:06:23 \",\"23:21:50 \",\"14:47:58 \",\"15:27:44 \",\"16:55:16 \",\"16:58:56 \",\"17:13:05 \",\"17:27:34 \",\"17:44:36 \",\"17:55:55 \",\"18:11:50 \",\"18:23:45 \",\"18:34:38 \",\"23:05:40 \",\"00:08:20 \",\"08:45:13 \",\"10:26:24 \",\"11:00:51 \",\"12:57:00 \",\"14:24:46 \",\"15:05:42 \",\"16:04:23 \",\"16:33:18 \",\"16:49:49 \",\"17:09:06 \",\"17:47:07 \"],\"xaxis\":\"x\",\"y\":[0.02543,0.40041,0.00996,0.00901,0.00904,0.0056,0.36089,0.09493,0.01074,0.01526,0.0072,0.01855,0.01026,0.01276,0.14214,0.03036,0.08541,0.60459,0.08607,0.37101,0.27507,0.17774,0.53206,0.59911,0.06556,0.29817,0.07109,0.01634,0.31219,0.26924,0.31676,0.44806,0.36479,0.3112,0.26146,0.25999,0.25378,0.47598,0.15439,0.07679,0.0069,0.00879,0.47259,0.03906,0.01873,0.00584,0.0042,0.03888,0.01828,0.05595,0.00414,0.03425,0.00046,0.14723,0.01037,0.04892,0.06624,0.09116,0.02279,0.35053,0.04182,0.03719,0.05559,0.01248,0.0167,0.0629,0.01104,0.35164,0.13039,0.0214,0.05477,0.0421,0.02487,0.02653,0.01402,0.01767,0.16143,0.01326,0.0056,0.0345,0.0069,0.01167,0.01028,0.07606,0.00138,0.05233,0.2903,0.30205,0.00836,0.219,0.21388,0.0024,0.00624,0.00138,0.05934,0.00639,0.00588,0.007,0.12805,0.09966,0.36296,0.02891,0.08142,0.15826,0.20287,0.02905,0.21209,0.12802,0.19971,0.14844,0.1783,0.18377,0.0367,0.00432,0.00856,0.00657,0.02752,0.24187,0.65131,0.4686,0.6934,0.53742,0.08264,0.04274,0.0168,0.01356,0.01013,0.31879,0.70118,0.10203,0.1733,0.17382,0.69055,0.33979,0.27446,0.13535,0.01136,0.02504,0.0685,0.00207,0.01585,0.19228,0.18943,0.10281,0.05872,0.02039,0.65379,0.42356,0.67835],\"yaxis\":\"y\",\"type\":\"scatter\"}],                        {\"template\":{\"data\":{\"histogram2dcontour\":[{\"type\":\"histogram2dcontour\",\"colorbar\":{\"outlinewidth\":0,\"ticks\":\"\"},\"colorscale\":[[0.0,\"#0d0887\"],[0.1111111111111111,\"#46039f\"],[0.2222222222222222,\"#7201a8\"],[0.3333333333333333,\"#9c179e\"],[0.4444444444444444,\"#bd3786\"],[0.5555555555555556,\"#d8576b\"],[0.6666666666666666,\"#ed7953\"],[0.7777777777777778,\"#fb9f3a\"],[0.8888888888888888,\"#fdca26\"],[1.0,\"#f0f921\"]]}],\"choropleth\":[{\"type\":\"choropleth\",\"colorbar\":{\"outlinewidth\":0,\"ticks\":\"\"}}],\"histogram2d\":[{\"type\":\"histogram2d\",\"colorbar\":{\"outlinewidth\":0,\"ticks\":\"\"},\"colorscale\":[[0.0,\"#0d0887\"],[0.1111111111111111,\"#46039f\"],[0.2222222222222222,\"#7201a8\"],[0.3333333333333333,\"#9c179e\"],[0.4444444444444444,\"#bd3786\"],[0.5555555555555556,\"#d8576b\"],[0.6666666666666666,\"#ed7953\"],[0.7777777777777778,\"#fb9f3a\"],[0.8888888888888888,\"#fdca26\"],[1.0,\"#f0f921\"]]}],\"heatmap\":[{\"type\":\"heatmap\",\"colorbar\":{\"outlinewidth\":0,\"ticks\":\"\"},\"colorscale\":[[0.0,\"#0d0887\"],[0.1111111111111111,\"#46039f\"],[0.2222222222222222,\"#7201a8\"],[0.3333333333333333,\"#9c179e\"],[0.4444444444444444,\"#bd3786\"],[0.5555555555555556,\"#d8576b\"],[0.6666666666666666,\"#ed7953\"],[0.7777777777777778,\"#fb9f3a\"],[0.8888888888888888,\"#fdca26\"],[1.0,\"#f0f921\"]]}],\"heatmapgl\":[{\"type\":\"heatmapgl\",\"colorbar\":{\"outlinewidth\":0,\"ticks\":\"\"},\"colorscale\":[[0.0,\"#0d0887\"],[0.1111111111111111,\"#46039f\"],[0.2222222222222222,\"#7201a8\"],[0.3333333333333333,\"#9c179e\"],[0.4444444444444444,\"#bd3786\"],[0.5555555555555556,\"#d8576b\"],[0.6666666666666666,\"#ed7953\"],[0.7777777777777778,\"#fb9f3a\"],[0.8888888888888888,\"#fdca26\"],[1.0,\"#f0f921\"]]}],\"contourcarpet\":[{\"type\":\"contourcarpet\",\"colorbar\":{\"outlinewidth\":0,\"ticks\":\"\"}}],\"contour\":[{\"type\":\"contour\",\"colorbar\":{\"outlinewidth\":0,\"ticks\":\"\"},\"colorscale\":[[0.0,\"#0d0887\"],[0.1111111111111111,\"#46039f\"],[0.2222222222222222,\"#7201a8\"],[0.3333333333333333,\"#9c179e\"],[0.4444444444444444,\"#bd3786\"],[0.5555555555555556,\"#d8576b\"],[0.6666666666666666,\"#ed7953\"],[0.7777777777777778,\"#fb9f3a\"],[0.8888888888888888,\"#fdca26\"],[1.0,\"#f0f921\"]]}],\"surface\":[{\"type\":\"surface\",\"colorbar\":{\"outlinewidth\":0,\"ticks\":\"\"},\"colorscale\":[[0.0,\"#0d0887\"],[0.1111111111111111,\"#46039f\"],[0.2222222222222222,\"#7201a8\"],[0.3333333333333333,\"#9c179e\"],[0.4444444444444444,\"#bd3786\"],[0.5555555555555556,\"#d8576b\"],[0.6666666666666666,\"#ed7953\"],[0.7777777777777778,\"#fb9f3a\"],[0.8888888888888888,\"#fdca26\"],[1.0,\"#f0f921\"]]}],\"mesh3d\":[{\"type\":\"mesh3d\",\"colorbar\":{\"outlinewidth\":0,\"ticks\":\"\"}}],\"scatter\":[{\"fillpattern\":{\"fillmode\":\"overlay\",\"size\":10,\"solidity\":0.2},\"type\":\"scatter\"}],\"parcoords\":[{\"type\":\"parcoords\",\"line\":{\"colorbar\":{\"outlinewidth\":0,\"ticks\":\"\"}}}],\"scatterpolargl\":[{\"type\":\"scatterpolargl\",\"marker\":{\"colorbar\":{\"outlinewidth\":0,\"ticks\":\"\"}}}],\"bar\":[{\"error_x\":{\"color\":\"#2a3f5f\"},\"error_y\":{\"color\":\"#2a3f5f\"},\"marker\":{\"line\":{\"color\":\"white\",\"width\":0.5},\"pattern\":{\"fillmode\":\"overlay\",\"size\":10,\"solidity\":0.2}},\"type\":\"bar\"}],\"scattergeo\":[{\"type\":\"scattergeo\",\"marker\":{\"colorbar\":{\"outlinewidth\":0,\"ticks\":\"\"}}}],\"scatterpolar\":[{\"type\":\"scatterpolar\",\"marker\":{\"colorbar\":{\"outlinewidth\":0,\"ticks\":\"\"}}}],\"histogram\":[{\"marker\":{\"pattern\":{\"fillmode\":\"overlay\",\"size\":10,\"solidity\":0.2}},\"type\":\"histogram\"}],\"scattergl\":[{\"type\":\"scattergl\",\"marker\":{\"colorbar\":{\"outlinewidth\":0,\"ticks\":\"\"}}}],\"scatter3d\":[{\"type\":\"scatter3d\",\"line\":{\"colorbar\":{\"outlinewidth\":0,\"ticks\":\"\"}},\"marker\":{\"colorbar\":{\"outlinewidth\":0,\"ticks\":\"\"}}}],\"scattermapbox\":[{\"type\":\"scattermapbox\",\"marker\":{\"colorbar\":{\"outlinewidth\":0,\"ticks\":\"\"}}}],\"scatterternary\":[{\"type\":\"scatterternary\",\"marker\":{\"colorbar\":{\"outlinewidth\":0,\"ticks\":\"\"}}}],\"scattercarpet\":[{\"type\":\"scattercarpet\",\"marker\":{\"colorbar\":{\"outlinewidth\":0,\"ticks\":\"\"}}}],\"carpet\":[{\"aaxis\":{\"endlinecolor\":\"#2a3f5f\",\"gridcolor\":\"#C8D4E3\",\"linecolor\":\"#C8D4E3\",\"minorgridcolor\":\"#C8D4E3\",\"startlinecolor\":\"#2a3f5f\"},\"baxis\":{\"endlinecolor\":\"#2a3f5f\",\"gridcolor\":\"#C8D4E3\",\"linecolor\":\"#C8D4E3\",\"minorgridcolor\":\"#C8D4E3\",\"startlinecolor\":\"#2a3f5f\"},\"type\":\"carpet\"}],\"table\":[{\"cells\":{\"fill\":{\"color\":\"#EBF0F8\"},\"line\":{\"color\":\"white\"}},\"header\":{\"fill\":{\"color\":\"#C8D4E3\"},\"line\":{\"color\":\"white\"}},\"type\":\"table\"}],\"barpolar\":[{\"marker\":{\"line\":{\"color\":\"white\",\"width\":0.5},\"pattern\":{\"fillmode\":\"overlay\",\"size\":10,\"solidity\":0.2}},\"type\":\"barpolar\"}],\"pie\":[{\"automargin\":true,\"type\":\"pie\"}]},\"layout\":{\"autotypenumbers\":\"strict\",\"colorway\":[\"#636efa\",\"#EF553B\",\"#00cc96\",\"#ab63fa\",\"#FFA15A\",\"#19d3f3\",\"#FF6692\",\"#B6E880\",\"#FF97FF\",\"#FECB52\"],\"font\":{\"color\":\"#2a3f5f\"},\"hovermode\":\"closest\",\"hoverlabel\":{\"align\":\"left\"},\"paper_bgcolor\":\"white\",\"plot_bgcolor\":\"white\",\"polar\":{\"bgcolor\":\"white\",\"angularaxis\":{\"gridcolor\":\"#EBF0F8\",\"linecolor\":\"#EBF0F8\",\"ticks\":\"\"},\"radialaxis\":{\"gridcolor\":\"#EBF0F8\",\"linecolor\":\"#EBF0F8\",\"ticks\":\"\"}},\"ternary\":{\"bgcolor\":\"white\",\"aaxis\":{\"gridcolor\":\"#DFE8F3\",\"linecolor\":\"#A2B1C6\",\"ticks\":\"\"},\"baxis\":{\"gridcolor\":\"#DFE8F3\",\"linecolor\":\"#A2B1C6\",\"ticks\":\"\"},\"caxis\":{\"gridcolor\":\"#DFE8F3\",\"linecolor\":\"#A2B1C6\",\"ticks\":\"\"}},\"coloraxis\":{\"colorbar\":{\"outlinewidth\":0,\"ticks\":\"\"}},\"colorscale\":{\"sequential\":[[0.0,\"#0d0887\"],[0.1111111111111111,\"#46039f\"],[0.2222222222222222,\"#7201a8\"],[0.3333333333333333,\"#9c179e\"],[0.4444444444444444,\"#bd3786\"],[0.5555555555555556,\"#d8576b\"],[0.6666666666666666,\"#ed7953\"],[0.7777777777777778,\"#fb9f3a\"],[0.8888888888888888,\"#fdca26\"],[1.0,\"#f0f921\"]],\"sequentialminus\":[[0.0,\"#0d0887\"],[0.1111111111111111,\"#46039f\"],[0.2222222222222222,\"#7201a8\"],[0.3333333333333333,\"#9c179e\"],[0.4444444444444444,\"#bd3786\"],[0.5555555555555556,\"#d8576b\"],[0.6666666666666666,\"#ed7953\"],[0.7777777777777778,\"#fb9f3a\"],[0.8888888888888888,\"#fdca26\"],[1.0,\"#f0f921\"]],\"diverging\":[[0,\"#8e0152\"],[0.1,\"#c51b7d\"],[0.2,\"#de77ae\"],[0.3,\"#f1b6da\"],[0.4,\"#fde0ef\"],[0.5,\"#f7f7f7\"],[0.6,\"#e6f5d0\"],[0.7,\"#b8e186\"],[0.8,\"#7fbc41\"],[0.9,\"#4d9221\"],[1,\"#276419\"]]},\"xaxis\":{\"gridcolor\":\"#EBF0F8\",\"linecolor\":\"#EBF0F8\",\"ticks\":\"\",\"title\":{\"standoff\":15},\"zerolinecolor\":\"#EBF0F8\",\"automargin\":true,\"zerolinewidth\":2},\"yaxis\":{\"gridcolor\":\"#EBF0F8\",\"linecolor\":\"#EBF0F8\",\"ticks\":\"\",\"title\":{\"standoff\":15},\"zerolinecolor\":\"#EBF0F8\",\"automargin\":true,\"zerolinewidth\":2},\"scene\":{\"xaxis\":{\"backgroundcolor\":\"white\",\"gridcolor\":\"#DFE8F3\",\"linecolor\":\"#EBF0F8\",\"showbackground\":true,\"ticks\":\"\",\"zerolinecolor\":\"#EBF0F8\",\"gridwidth\":2},\"yaxis\":{\"backgroundcolor\":\"white\",\"gridcolor\":\"#DFE8F3\",\"linecolor\":\"#EBF0F8\",\"showbackground\":true,\"ticks\":\"\",\"zerolinecolor\":\"#EBF0F8\",\"gridwidth\":2},\"zaxis\":{\"backgroundcolor\":\"white\",\"gridcolor\":\"#DFE8F3\",\"linecolor\":\"#EBF0F8\",\"showbackground\":true,\"ticks\":\"\",\"zerolinecolor\":\"#EBF0F8\",\"gridwidth\":2}},\"shapedefaults\":{\"line\":{\"color\":\"#2a3f5f\"}},\"annotationdefaults\":{\"arrowcolor\":\"#2a3f5f\",\"arrowhead\":0,\"arrowwidth\":1},\"geo\":{\"bgcolor\":\"white\",\"landcolor\":\"white\",\"subunitcolor\":\"#C8D4E3\",\"showland\":true,\"showlakes\":true,\"lakecolor\":\"white\"},\"title\":{\"x\":0.05},\"mapbox\":{\"style\":\"light\"}}},\"xaxis\":{\"anchor\":\"y\",\"domain\":[0.0,1.0],\"title\":{\"text\":\"Time\"}},\"yaxis\":{\"anchor\":\"x\",\"domain\":[0.0,1.0],\"title\":{\"text\":\"Distance\"}},\"legend\":{\"tracegroupgap\":0},\"title\":{\"text\":\"Distance Covered Over Time\"}},                        {\"responsive\": true}                    ).then(function(){\n",
              "                            \n",
              "var gd = document.getElementById('4af4278b-927c-449e-a128-95778af92a6d');\n",
              "var x = new MutationObserver(function (mutations, observer) {{\n",
              "        var display = window.getComputedStyle(gd).display;\n",
              "        if (!display || display === 'none') {{\n",
              "            console.log([gd, 'removed!']);\n",
              "            Plotly.purge(gd);\n",
              "            observer.disconnect();\n",
              "        }}\n",
              "}});\n",
              "\n",
              "// Listen for the removal of the full notebook cells\n",
              "var notebookContainer = gd.closest('#notebook-container');\n",
              "if (notebookContainer) {{\n",
              "    x.observe(notebookContainer, {childList: true});\n",
              "}}\n",
              "\n",
              "// Listen for the clearing of the current output cell\n",
              "var outputEl = gd.closest('.output');\n",
              "if (outputEl) {{\n",
              "    x.observe(outputEl, {childList: true});\n",
              "}}\n",
              "\n",
              "                        })                };                            </script>        </div>\n",
              "</body>\n",
              "</html>"
            ]
          },
          "metadata": {}
        }
      ]
    },
    {
      "cell_type": "markdown",
      "source": [],
      "metadata": {
        "id": "IdpxssX80VkX"
      }
    },
    {
      "cell_type": "code",
      "source": [
        "# Energy Burned Over Time\n",
        "fig3 = px.line(data, x=\"Time\",\n",
        "               y=\"Energy Burned\",\n",
        "               title=\"Energy Burned Over Time\")\n",
        "fig3.show()"
      ],
      "metadata": {
        "colab": {
          "base_uri": "https://localhost:8080/",
          "height": 542
        },
        "id": "ViRVsx8A0It1",
        "outputId": "0c7416f2-0c4b-4c35-9cd3-bde6d0e7b58a"
      },
      "execution_count": 10,
      "outputs": [
        {
          "output_type": "display_data",
          "data": {
            "text/html": [
              "<html>\n",
              "<head><meta charset=\"utf-8\" /></head>\n",
              "<body>\n",
              "    <div>            <script src=\"https://cdnjs.cloudflare.com/ajax/libs/mathjax/2.7.5/MathJax.js?config=TeX-AMS-MML_SVG\"></script><script type=\"text/javascript\">if (window.MathJax && window.MathJax.Hub && window.MathJax.Hub.Config) {window.MathJax.Hub.Config({SVG: {font: \"STIX-Web\"}});}</script>                <script type=\"text/javascript\">window.PlotlyConfig = {MathJaxConfig: 'local'};</script>\n",
              "        <script charset=\"utf-8\" src=\"https://cdn.plot.ly/plotly-2.24.1.min.js\"></script>                <div id=\"85bff352-9fe4-4532-bbe9-2d1a8c67ac74\" class=\"plotly-graph-div\" style=\"height:525px; width:100%;\"></div>            <script type=\"text/javascript\">                                    window.PLOTLYENV=window.PLOTLYENV || {};                                    if (document.getElementById(\"85bff352-9fe4-4532-bbe9-2d1a8c67ac74\")) {                    Plotly.newPlot(                        \"85bff352-9fe4-4532-bbe9-2d1a8c67ac74\",                        [{\"hovertemplate\":\"Time=%{x}\\u003cbr\\u003eEnergy Burned=%{y}\\u003cextra\\u003e\\u003c\\u002fextra\\u003e\",\"legendgroup\":\"\",\"line\":{\"color\":\"#636efa\",\"dash\":\"solid\"},\"marker\":{\"symbol\":\"circle\"},\"mode\":\"lines\",\"name\":\"\",\"orientation\":\"v\",\"showlegend\":false,\"x\":[\"16:01:23 \",\"16:18:37 \",\"16:31:38 \",\"16:45:37 \",\"17:10:30 \",\"18:14:45 \",\"19:02:31 \",\"19:10:51 \",\"19:20:57 \",\"21:04:23 \",\"21:25:23 \",\"00:32:15 \",\"01:20:54 \",\"08:22:57 \",\"10:34:49 \",\"10:52:38 \",\"13:04:47 \",\"13:42:14 \",\"13:42:14 \",\"13:55:27 \",\"14:14:39 \",\"14:52:20 \",\"14:57:40 \",\"15:15:35 \",\"15:23:52 \",\"15:40:24 \",\"15:45:00 \",\"16:13:03 \",\"16:59:35 \",\"17:06:48 \",\"17:17:33 \",\"17:27:35 \",\"18:02:17 \",\"18:11:29 \",\"18:19:35 \",\"18:29:34 \",\"19:00:43 \",\"19:07:33 \",\"19:15:01 \",\"19:25:32 \",\"23:29:50 \",\"09:15:52 \",\"16:51:23 \",\"17:01:33 \",\"17:23:21 \",\"19:00:57 \",\"20:11:46 \",\"20:52:19 \",\"22:53:29 \",\"14:20:45 \",\"16:26:41 \",\"16:51:38 \",\"19:02:12 \",\"20:11:48 \",\"22:12:26 \",\"13:11:57 \",\"15:14:00 \",\"15:38:12 \",\"17:08:09 \",\"18:46:46 \",\"18:58:27 \",\"19:10:59 \",\"19:27:00 \",\"23:24:27 \",\"07:07:48 \",\"15:53:25 \",\"16:08:01 \",\"17:24:18 \",\"19:12:48 \",\"19:28:30 \",\"21:10:46 \",\"21:23:31 \",\"21:34:56 \",\"22:16:26 \",\"23:19:50 \",\"08:58:35 \",\"13:27:30 \",\"13:48:15 \",\"14:10:38 \",\"18:32:19 \",\"18:42:59 \",\"20:36:57 \",\"21:23:57 \",\"11:44:10 \",\"11:52:21 \",\"19:44:18 \",\"20:15:46 \",\"20:30:22 \",\"21:03:51 \",\"22:59:31 \",\"22:59:35 \",\"22:59:36 \",\"22:59:46 \",\"22:59:49 \",\"23:10:35 \",\"01:13:15 \",\"01:31:53 \",\"09:22:39 \",\"13:11:20 \",\"13:21:19 \",\"13:31:19 \",\"13:43:01 \",\"14:05:27 \",\"17:48:37 \",\"17:58:50 \",\"18:08:49 \",\"19:09:25 \",\"19:26:54 \",\"19:37:06 \",\"19:47:06 \",\"19:57:23 \",\"20:07:33 \",\"21:14:20 \",\"21:58:14 \",\"12:22:40 \",\"14:12:11 \",\"17:09:16 \",\"18:17:50 \",\"19:40:16 \",\"19:43:17 \",\"20:19:18 \",\"20:29:18 \",\"20:42:52 \",\"23:06:23 \",\"23:21:50 \",\"14:47:58 \",\"15:27:44 \",\"16:55:16 \",\"16:58:56 \",\"17:13:05 \",\"17:27:34 \",\"17:44:36 \",\"17:55:55 \",\"18:11:50 \",\"18:23:45 \",\"18:34:38 \",\"23:05:40 \",\"00:08:20 \",\"08:45:13 \",\"10:26:24 \",\"11:00:51 \",\"12:57:00 \",\"14:24:46 \",\"15:05:42 \",\"16:04:23 \",\"16:33:18 \",\"16:49:49 \",\"17:09:06 \",\"17:47:07 \"],\"xaxis\":\"x\",\"y\":[14.62,14.722,14.603,14.811,15.153,14.958,13.709,14.86,16.804,14.564,13.13,13.693,14.177,14.395,10.861,14.851,14.124,14.17,12.49,15.871,15.384,20.497,14.519,14.422,14.652,14.793,16.204,12.064,31.105,17.051,13.758,15.203,15.006,14.777,20.057,11.351,10.345,15.203,14.934,14.918,13.872,14.395,14.928,13.585,13.76,14.052,15.445,14.389,13.87,13.804,14.914,13.831,14.796,13.722,20.545,15.109,16.841,14.808,14.922,14.564,14.191,16.621,14.218,14.268,15.38,13.198,14.754,14.374,13.904,23.127,15.023,51.5,0.225,41.889,0.171,60.514,18.976,0.215,60.514,14.759,15.501,15.86,2.914,25.559,15.22,15.081,13.04,9.172,13.074,13.257,13.844,12.621,13.991,15.038,18.35,0.179,7.012,32.929,0.207,16.388,19.404,15.441,14.352,12.023,15.253,12.021,28.277,0.221,23.835,0.179,25.71,1.912,28.389,0.179,13.339,7.867,12.616,7.732,23.688,0.179,20.359,15.27,0.315,4.044,40.197,14.768,15.663,12.988,5.592,12.996,23.428,0.221,16.43,11.196,15.54,0.179,3.505,0.179,4.267,0.179,0.179,1.326,0.201,16.44,13.162,4.135,31.416,13.25,14.131],\"yaxis\":\"y\",\"type\":\"scatter\"}],                        {\"template\":{\"data\":{\"histogram2dcontour\":[{\"type\":\"histogram2dcontour\",\"colorbar\":{\"outlinewidth\":0,\"ticks\":\"\"},\"colorscale\":[[0.0,\"#0d0887\"],[0.1111111111111111,\"#46039f\"],[0.2222222222222222,\"#7201a8\"],[0.3333333333333333,\"#9c179e\"],[0.4444444444444444,\"#bd3786\"],[0.5555555555555556,\"#d8576b\"],[0.6666666666666666,\"#ed7953\"],[0.7777777777777778,\"#fb9f3a\"],[0.8888888888888888,\"#fdca26\"],[1.0,\"#f0f921\"]]}],\"choropleth\":[{\"type\":\"choropleth\",\"colorbar\":{\"outlinewidth\":0,\"ticks\":\"\"}}],\"histogram2d\":[{\"type\":\"histogram2d\",\"colorbar\":{\"outlinewidth\":0,\"ticks\":\"\"},\"colorscale\":[[0.0,\"#0d0887\"],[0.1111111111111111,\"#46039f\"],[0.2222222222222222,\"#7201a8\"],[0.3333333333333333,\"#9c179e\"],[0.4444444444444444,\"#bd3786\"],[0.5555555555555556,\"#d8576b\"],[0.6666666666666666,\"#ed7953\"],[0.7777777777777778,\"#fb9f3a\"],[0.8888888888888888,\"#fdca26\"],[1.0,\"#f0f921\"]]}],\"heatmap\":[{\"type\":\"heatmap\",\"colorbar\":{\"outlinewidth\":0,\"ticks\":\"\"},\"colorscale\":[[0.0,\"#0d0887\"],[0.1111111111111111,\"#46039f\"],[0.2222222222222222,\"#7201a8\"],[0.3333333333333333,\"#9c179e\"],[0.4444444444444444,\"#bd3786\"],[0.5555555555555556,\"#d8576b\"],[0.6666666666666666,\"#ed7953\"],[0.7777777777777778,\"#fb9f3a\"],[0.8888888888888888,\"#fdca26\"],[1.0,\"#f0f921\"]]}],\"heatmapgl\":[{\"type\":\"heatmapgl\",\"colorbar\":{\"outlinewidth\":0,\"ticks\":\"\"},\"colorscale\":[[0.0,\"#0d0887\"],[0.1111111111111111,\"#46039f\"],[0.2222222222222222,\"#7201a8\"],[0.3333333333333333,\"#9c179e\"],[0.4444444444444444,\"#bd3786\"],[0.5555555555555556,\"#d8576b\"],[0.6666666666666666,\"#ed7953\"],[0.7777777777777778,\"#fb9f3a\"],[0.8888888888888888,\"#fdca26\"],[1.0,\"#f0f921\"]]}],\"contourcarpet\":[{\"type\":\"contourcarpet\",\"colorbar\":{\"outlinewidth\":0,\"ticks\":\"\"}}],\"contour\":[{\"type\":\"contour\",\"colorbar\":{\"outlinewidth\":0,\"ticks\":\"\"},\"colorscale\":[[0.0,\"#0d0887\"],[0.1111111111111111,\"#46039f\"],[0.2222222222222222,\"#7201a8\"],[0.3333333333333333,\"#9c179e\"],[0.4444444444444444,\"#bd3786\"],[0.5555555555555556,\"#d8576b\"],[0.6666666666666666,\"#ed7953\"],[0.7777777777777778,\"#fb9f3a\"],[0.8888888888888888,\"#fdca26\"],[1.0,\"#f0f921\"]]}],\"surface\":[{\"type\":\"surface\",\"colorbar\":{\"outlinewidth\":0,\"ticks\":\"\"},\"colorscale\":[[0.0,\"#0d0887\"],[0.1111111111111111,\"#46039f\"],[0.2222222222222222,\"#7201a8\"],[0.3333333333333333,\"#9c179e\"],[0.4444444444444444,\"#bd3786\"],[0.5555555555555556,\"#d8576b\"],[0.6666666666666666,\"#ed7953\"],[0.7777777777777778,\"#fb9f3a\"],[0.8888888888888888,\"#fdca26\"],[1.0,\"#f0f921\"]]}],\"mesh3d\":[{\"type\":\"mesh3d\",\"colorbar\":{\"outlinewidth\":0,\"ticks\":\"\"}}],\"scatter\":[{\"fillpattern\":{\"fillmode\":\"overlay\",\"size\":10,\"solidity\":0.2},\"type\":\"scatter\"}],\"parcoords\":[{\"type\":\"parcoords\",\"line\":{\"colorbar\":{\"outlinewidth\":0,\"ticks\":\"\"}}}],\"scatterpolargl\":[{\"type\":\"scatterpolargl\",\"marker\":{\"colorbar\":{\"outlinewidth\":0,\"ticks\":\"\"}}}],\"bar\":[{\"error_x\":{\"color\":\"#2a3f5f\"},\"error_y\":{\"color\":\"#2a3f5f\"},\"marker\":{\"line\":{\"color\":\"white\",\"width\":0.5},\"pattern\":{\"fillmode\":\"overlay\",\"size\":10,\"solidity\":0.2}},\"type\":\"bar\"}],\"scattergeo\":[{\"type\":\"scattergeo\",\"marker\":{\"colorbar\":{\"outlinewidth\":0,\"ticks\":\"\"}}}],\"scatterpolar\":[{\"type\":\"scatterpolar\",\"marker\":{\"colorbar\":{\"outlinewidth\":0,\"ticks\":\"\"}}}],\"histogram\":[{\"marker\":{\"pattern\":{\"fillmode\":\"overlay\",\"size\":10,\"solidity\":0.2}},\"type\":\"histogram\"}],\"scattergl\":[{\"type\":\"scattergl\",\"marker\":{\"colorbar\":{\"outlinewidth\":0,\"ticks\":\"\"}}}],\"scatter3d\":[{\"type\":\"scatter3d\",\"line\":{\"colorbar\":{\"outlinewidth\":0,\"ticks\":\"\"}},\"marker\":{\"colorbar\":{\"outlinewidth\":0,\"ticks\":\"\"}}}],\"scattermapbox\":[{\"type\":\"scattermapbox\",\"marker\":{\"colorbar\":{\"outlinewidth\":0,\"ticks\":\"\"}}}],\"scatterternary\":[{\"type\":\"scatterternary\",\"marker\":{\"colorbar\":{\"outlinewidth\":0,\"ticks\":\"\"}}}],\"scattercarpet\":[{\"type\":\"scattercarpet\",\"marker\":{\"colorbar\":{\"outlinewidth\":0,\"ticks\":\"\"}}}],\"carpet\":[{\"aaxis\":{\"endlinecolor\":\"#2a3f5f\",\"gridcolor\":\"#C8D4E3\",\"linecolor\":\"#C8D4E3\",\"minorgridcolor\":\"#C8D4E3\",\"startlinecolor\":\"#2a3f5f\"},\"baxis\":{\"endlinecolor\":\"#2a3f5f\",\"gridcolor\":\"#C8D4E3\",\"linecolor\":\"#C8D4E3\",\"minorgridcolor\":\"#C8D4E3\",\"startlinecolor\":\"#2a3f5f\"},\"type\":\"carpet\"}],\"table\":[{\"cells\":{\"fill\":{\"color\":\"#EBF0F8\"},\"line\":{\"color\":\"white\"}},\"header\":{\"fill\":{\"color\":\"#C8D4E3\"},\"line\":{\"color\":\"white\"}},\"type\":\"table\"}],\"barpolar\":[{\"marker\":{\"line\":{\"color\":\"white\",\"width\":0.5},\"pattern\":{\"fillmode\":\"overlay\",\"size\":10,\"solidity\":0.2}},\"type\":\"barpolar\"}],\"pie\":[{\"automargin\":true,\"type\":\"pie\"}]},\"layout\":{\"autotypenumbers\":\"strict\",\"colorway\":[\"#636efa\",\"#EF553B\",\"#00cc96\",\"#ab63fa\",\"#FFA15A\",\"#19d3f3\",\"#FF6692\",\"#B6E880\",\"#FF97FF\",\"#FECB52\"],\"font\":{\"color\":\"#2a3f5f\"},\"hovermode\":\"closest\",\"hoverlabel\":{\"align\":\"left\"},\"paper_bgcolor\":\"white\",\"plot_bgcolor\":\"white\",\"polar\":{\"bgcolor\":\"white\",\"angularaxis\":{\"gridcolor\":\"#EBF0F8\",\"linecolor\":\"#EBF0F8\",\"ticks\":\"\"},\"radialaxis\":{\"gridcolor\":\"#EBF0F8\",\"linecolor\":\"#EBF0F8\",\"ticks\":\"\"}},\"ternary\":{\"bgcolor\":\"white\",\"aaxis\":{\"gridcolor\":\"#DFE8F3\",\"linecolor\":\"#A2B1C6\",\"ticks\":\"\"},\"baxis\":{\"gridcolor\":\"#DFE8F3\",\"linecolor\":\"#A2B1C6\",\"ticks\":\"\"},\"caxis\":{\"gridcolor\":\"#DFE8F3\",\"linecolor\":\"#A2B1C6\",\"ticks\":\"\"}},\"coloraxis\":{\"colorbar\":{\"outlinewidth\":0,\"ticks\":\"\"}},\"colorscale\":{\"sequential\":[[0.0,\"#0d0887\"],[0.1111111111111111,\"#46039f\"],[0.2222222222222222,\"#7201a8\"],[0.3333333333333333,\"#9c179e\"],[0.4444444444444444,\"#bd3786\"],[0.5555555555555556,\"#d8576b\"],[0.6666666666666666,\"#ed7953\"],[0.7777777777777778,\"#fb9f3a\"],[0.8888888888888888,\"#fdca26\"],[1.0,\"#f0f921\"]],\"sequentialminus\":[[0.0,\"#0d0887\"],[0.1111111111111111,\"#46039f\"],[0.2222222222222222,\"#7201a8\"],[0.3333333333333333,\"#9c179e\"],[0.4444444444444444,\"#bd3786\"],[0.5555555555555556,\"#d8576b\"],[0.6666666666666666,\"#ed7953\"],[0.7777777777777778,\"#fb9f3a\"],[0.8888888888888888,\"#fdca26\"],[1.0,\"#f0f921\"]],\"diverging\":[[0,\"#8e0152\"],[0.1,\"#c51b7d\"],[0.2,\"#de77ae\"],[0.3,\"#f1b6da\"],[0.4,\"#fde0ef\"],[0.5,\"#f7f7f7\"],[0.6,\"#e6f5d0\"],[0.7,\"#b8e186\"],[0.8,\"#7fbc41\"],[0.9,\"#4d9221\"],[1,\"#276419\"]]},\"xaxis\":{\"gridcolor\":\"#EBF0F8\",\"linecolor\":\"#EBF0F8\",\"ticks\":\"\",\"title\":{\"standoff\":15},\"zerolinecolor\":\"#EBF0F8\",\"automargin\":true,\"zerolinewidth\":2},\"yaxis\":{\"gridcolor\":\"#EBF0F8\",\"linecolor\":\"#EBF0F8\",\"ticks\":\"\",\"title\":{\"standoff\":15},\"zerolinecolor\":\"#EBF0F8\",\"automargin\":true,\"zerolinewidth\":2},\"scene\":{\"xaxis\":{\"backgroundcolor\":\"white\",\"gridcolor\":\"#DFE8F3\",\"linecolor\":\"#EBF0F8\",\"showbackground\":true,\"ticks\":\"\",\"zerolinecolor\":\"#EBF0F8\",\"gridwidth\":2},\"yaxis\":{\"backgroundcolor\":\"white\",\"gridcolor\":\"#DFE8F3\",\"linecolor\":\"#EBF0F8\",\"showbackground\":true,\"ticks\":\"\",\"zerolinecolor\":\"#EBF0F8\",\"gridwidth\":2},\"zaxis\":{\"backgroundcolor\":\"white\",\"gridcolor\":\"#DFE8F3\",\"linecolor\":\"#EBF0F8\",\"showbackground\":true,\"ticks\":\"\",\"zerolinecolor\":\"#EBF0F8\",\"gridwidth\":2}},\"shapedefaults\":{\"line\":{\"color\":\"#2a3f5f\"}},\"annotationdefaults\":{\"arrowcolor\":\"#2a3f5f\",\"arrowhead\":0,\"arrowwidth\":1},\"geo\":{\"bgcolor\":\"white\",\"landcolor\":\"white\",\"subunitcolor\":\"#C8D4E3\",\"showland\":true,\"showlakes\":true,\"lakecolor\":\"white\"},\"title\":{\"x\":0.05},\"mapbox\":{\"style\":\"light\"}}},\"xaxis\":{\"anchor\":\"y\",\"domain\":[0.0,1.0],\"title\":{\"text\":\"Time\"}},\"yaxis\":{\"anchor\":\"x\",\"domain\":[0.0,1.0],\"title\":{\"text\":\"Energy Burned\"}},\"legend\":{\"tracegroupgap\":0},\"title\":{\"text\":\"Energy Burned Over Time\"}},                        {\"responsive\": true}                    ).then(function(){\n",
              "                            \n",
              "var gd = document.getElementById('85bff352-9fe4-4532-bbe9-2d1a8c67ac74');\n",
              "var x = new MutationObserver(function (mutations, observer) {{\n",
              "        var display = window.getComputedStyle(gd).display;\n",
              "        if (!display || display === 'none') {{\n",
              "            console.log([gd, 'removed!']);\n",
              "            Plotly.purge(gd);\n",
              "            observer.disconnect();\n",
              "        }}\n",
              "}});\n",
              "\n",
              "// Listen for the removal of the full notebook cells\n",
              "var notebookContainer = gd.closest('#notebook-container');\n",
              "if (notebookContainer) {{\n",
              "    x.observe(notebookContainer, {childList: true});\n",
              "}}\n",
              "\n",
              "// Listen for the clearing of the current output cell\n",
              "var outputEl = gd.closest('.output');\n",
              "if (outputEl) {{\n",
              "    x.observe(outputEl, {childList: true});\n",
              "}}\n",
              "\n",
              "                        })                };                            </script>        </div>\n",
              "</body>\n",
              "</html>"
            ]
          },
          "metadata": {}
        }
      ]
    },
    {
      "cell_type": "markdown",
      "source": [],
      "metadata": {
        "id": "YJFh6ad00fxx"
      }
    },
    {
      "cell_type": "code",
      "source": [
        "# Walking Speed Over Time\n",
        "fig4 = px.line(data, x=\"Time\",\n",
        "               y=\"Walking Speed\",\n",
        "               title=\"Walking Speed Over Time\")\n",
        "fig4.show()"
      ],
      "metadata": {
        "colab": {
          "base_uri": "https://localhost:8080/",
          "height": 542
        },
        "id": "YmojTgnc0Ixg",
        "outputId": "b7d98507-f655-42d0-d3db-5267e05b5490"
      },
      "execution_count": 11,
      "outputs": [
        {
          "output_type": "display_data",
          "data": {
            "text/html": [
              "<html>\n",
              "<head><meta charset=\"utf-8\" /></head>\n",
              "<body>\n",
              "    <div>            <script src=\"https://cdnjs.cloudflare.com/ajax/libs/mathjax/2.7.5/MathJax.js?config=TeX-AMS-MML_SVG\"></script><script type=\"text/javascript\">if (window.MathJax && window.MathJax.Hub && window.MathJax.Hub.Config) {window.MathJax.Hub.Config({SVG: {font: \"STIX-Web\"}});}</script>                <script type=\"text/javascript\">window.PlotlyConfig = {MathJaxConfig: 'local'};</script>\n",
              "        <script charset=\"utf-8\" src=\"https://cdn.plot.ly/plotly-2.24.1.min.js\"></script>                <div id=\"d65b5e02-bc2c-4933-9056-3aa64441fbe0\" class=\"plotly-graph-div\" style=\"height:525px; width:100%;\"></div>            <script type=\"text/javascript\">                                    window.PLOTLYENV=window.PLOTLYENV || {};                                    if (document.getElementById(\"d65b5e02-bc2c-4933-9056-3aa64441fbe0\")) {                    Plotly.newPlot(                        \"d65b5e02-bc2c-4933-9056-3aa64441fbe0\",                        [{\"hovertemplate\":\"Time=%{x}\\u003cbr\\u003eWalking Speed=%{y}\\u003cextra\\u003e\\u003c\\u002fextra\\u003e\",\"legendgroup\":\"\",\"line\":{\"color\":\"#636efa\",\"dash\":\"solid\"},\"marker\":{\"symbol\":\"circle\"},\"mode\":\"lines\",\"name\":\"\",\"orientation\":\"v\",\"showlegend\":false,\"x\":[\"16:01:23 \",\"16:18:37 \",\"16:31:38 \",\"16:45:37 \",\"17:10:30 \",\"18:14:45 \",\"19:02:31 \",\"19:10:51 \",\"19:20:57 \",\"21:04:23 \",\"21:25:23 \",\"00:32:15 \",\"01:20:54 \",\"08:22:57 \",\"10:34:49 \",\"10:52:38 \",\"13:04:47 \",\"13:42:14 \",\"13:42:14 \",\"13:55:27 \",\"14:14:39 \",\"14:52:20 \",\"14:57:40 \",\"15:15:35 \",\"15:23:52 \",\"15:40:24 \",\"15:45:00 \",\"16:13:03 \",\"16:59:35 \",\"17:06:48 \",\"17:17:33 \",\"17:27:35 \",\"18:02:17 \",\"18:11:29 \",\"18:19:35 \",\"18:29:34 \",\"19:00:43 \",\"19:07:33 \",\"19:15:01 \",\"19:25:32 \",\"23:29:50 \",\"09:15:52 \",\"16:51:23 \",\"17:01:33 \",\"17:23:21 \",\"19:00:57 \",\"20:11:46 \",\"20:52:19 \",\"22:53:29 \",\"14:20:45 \",\"16:26:41 \",\"16:51:38 \",\"19:02:12 \",\"20:11:48 \",\"22:12:26 \",\"13:11:57 \",\"15:14:00 \",\"15:38:12 \",\"17:08:09 \",\"18:46:46 \",\"18:58:27 \",\"19:10:59 \",\"19:27:00 \",\"23:24:27 \",\"07:07:48 \",\"15:53:25 \",\"16:08:01 \",\"17:24:18 \",\"19:12:48 \",\"19:28:30 \",\"21:10:46 \",\"21:23:31 \",\"21:34:56 \",\"22:16:26 \",\"23:19:50 \",\"08:58:35 \",\"13:27:30 \",\"13:48:15 \",\"14:10:38 \",\"18:32:19 \",\"18:42:59 \",\"20:36:57 \",\"21:23:57 \",\"11:44:10 \",\"11:52:21 \",\"19:44:18 \",\"20:15:46 \",\"20:30:22 \",\"21:03:51 \",\"22:59:31 \",\"22:59:35 \",\"22:59:36 \",\"22:59:46 \",\"22:59:49 \",\"23:10:35 \",\"01:13:15 \",\"01:31:53 \",\"09:22:39 \",\"13:11:20 \",\"13:21:19 \",\"13:31:19 \",\"13:43:01 \",\"14:05:27 \",\"17:48:37 \",\"17:58:50 \",\"18:08:49 \",\"19:09:25 \",\"19:26:54 \",\"19:37:06 \",\"19:47:06 \",\"19:57:23 \",\"20:07:33 \",\"21:14:20 \",\"21:58:14 \",\"12:22:40 \",\"14:12:11 \",\"17:09:16 \",\"18:17:50 \",\"19:40:16 \",\"19:43:17 \",\"20:19:18 \",\"20:29:18 \",\"20:42:52 \",\"23:06:23 \",\"23:21:50 \",\"14:47:58 \",\"15:27:44 \",\"16:55:16 \",\"16:58:56 \",\"17:13:05 \",\"17:27:34 \",\"17:44:36 \",\"17:55:55 \",\"18:11:50 \",\"18:23:45 \",\"18:34:38 \",\"23:05:40 \",\"00:08:20 \",\"08:45:13 \",\"10:26:24 \",\"11:00:51 \",\"12:57:00 \",\"14:24:46 \",\"15:05:42 \",\"16:04:23 \",\"16:33:18 \",\"16:49:49 \",\"17:09:06 \",\"17:47:07 \"],\"xaxis\":\"x\",\"y\":[3.06,3.852,3.996,5.04,5.184,5.04,4.464,4.788,4.068,3.816,4.572,4.896,1.728,5.148,4.968,5.184,4.572,3.456,2.304,2.376,2.016,4.968,4.392,4.644,1.692,3.528,4.104,3.708,4.068,4.14,3.708,3.168,2.268,3.348,3.492,3.348,2.88,2.7,2.844,3.276,2.16,3.348,3.528,4.212,4.212,3.6,3.744,3.42,4.032,4.428,4.356,4.104,4.14,3.816,2.772,2.628,3.456,3.42,3.816,3.24,3.384,2.124,5.004,4.608,5.148,2.628,2.592,2.34,2.052,2.448,3.132,3.204,2.592,3.888,4.464,4.752,3.924,2.988,2.88,5.4,5.292,5.364,5.004,4.788,4.824,3.708,4.824,5.004,5.04,4.86,5.076,5.22,5.148,5.004,5.328,5.076,5.148,5.004,3.42,1.8,2.016,2.016,4.86,5.112,5.04,4.176,3.06,3.312,5.58,5.472,5.22,5.328,3.852,4.968,4.572,4.464,5.076,5.076,3.564,4.68,4.428,4.536,4.212,3.852,4.32,4.536,4.284,4.212,4.644,3.924,1.944,1.548,1.8,3.312,3.528,3.456,4.428,4.788,3.312,4.608,4.536,1.836,3.492,5.436,5.364,5.4,5.292,4.86,5.04],\"yaxis\":\"y\",\"type\":\"scatter\"}],                        {\"template\":{\"data\":{\"histogram2dcontour\":[{\"type\":\"histogram2dcontour\",\"colorbar\":{\"outlinewidth\":0,\"ticks\":\"\"},\"colorscale\":[[0.0,\"#0d0887\"],[0.1111111111111111,\"#46039f\"],[0.2222222222222222,\"#7201a8\"],[0.3333333333333333,\"#9c179e\"],[0.4444444444444444,\"#bd3786\"],[0.5555555555555556,\"#d8576b\"],[0.6666666666666666,\"#ed7953\"],[0.7777777777777778,\"#fb9f3a\"],[0.8888888888888888,\"#fdca26\"],[1.0,\"#f0f921\"]]}],\"choropleth\":[{\"type\":\"choropleth\",\"colorbar\":{\"outlinewidth\":0,\"ticks\":\"\"}}],\"histogram2d\":[{\"type\":\"histogram2d\",\"colorbar\":{\"outlinewidth\":0,\"ticks\":\"\"},\"colorscale\":[[0.0,\"#0d0887\"],[0.1111111111111111,\"#46039f\"],[0.2222222222222222,\"#7201a8\"],[0.3333333333333333,\"#9c179e\"],[0.4444444444444444,\"#bd3786\"],[0.5555555555555556,\"#d8576b\"],[0.6666666666666666,\"#ed7953\"],[0.7777777777777778,\"#fb9f3a\"],[0.8888888888888888,\"#fdca26\"],[1.0,\"#f0f921\"]]}],\"heatmap\":[{\"type\":\"heatmap\",\"colorbar\":{\"outlinewidth\":0,\"ticks\":\"\"},\"colorscale\":[[0.0,\"#0d0887\"],[0.1111111111111111,\"#46039f\"],[0.2222222222222222,\"#7201a8\"],[0.3333333333333333,\"#9c179e\"],[0.4444444444444444,\"#bd3786\"],[0.5555555555555556,\"#d8576b\"],[0.6666666666666666,\"#ed7953\"],[0.7777777777777778,\"#fb9f3a\"],[0.8888888888888888,\"#fdca26\"],[1.0,\"#f0f921\"]]}],\"heatmapgl\":[{\"type\":\"heatmapgl\",\"colorbar\":{\"outlinewidth\":0,\"ticks\":\"\"},\"colorscale\":[[0.0,\"#0d0887\"],[0.1111111111111111,\"#46039f\"],[0.2222222222222222,\"#7201a8\"],[0.3333333333333333,\"#9c179e\"],[0.4444444444444444,\"#bd3786\"],[0.5555555555555556,\"#d8576b\"],[0.6666666666666666,\"#ed7953\"],[0.7777777777777778,\"#fb9f3a\"],[0.8888888888888888,\"#fdca26\"],[1.0,\"#f0f921\"]]}],\"contourcarpet\":[{\"type\":\"contourcarpet\",\"colorbar\":{\"outlinewidth\":0,\"ticks\":\"\"}}],\"contour\":[{\"type\":\"contour\",\"colorbar\":{\"outlinewidth\":0,\"ticks\":\"\"},\"colorscale\":[[0.0,\"#0d0887\"],[0.1111111111111111,\"#46039f\"],[0.2222222222222222,\"#7201a8\"],[0.3333333333333333,\"#9c179e\"],[0.4444444444444444,\"#bd3786\"],[0.5555555555555556,\"#d8576b\"],[0.6666666666666666,\"#ed7953\"],[0.7777777777777778,\"#fb9f3a\"],[0.8888888888888888,\"#fdca26\"],[1.0,\"#f0f921\"]]}],\"surface\":[{\"type\":\"surface\",\"colorbar\":{\"outlinewidth\":0,\"ticks\":\"\"},\"colorscale\":[[0.0,\"#0d0887\"],[0.1111111111111111,\"#46039f\"],[0.2222222222222222,\"#7201a8\"],[0.3333333333333333,\"#9c179e\"],[0.4444444444444444,\"#bd3786\"],[0.5555555555555556,\"#d8576b\"],[0.6666666666666666,\"#ed7953\"],[0.7777777777777778,\"#fb9f3a\"],[0.8888888888888888,\"#fdca26\"],[1.0,\"#f0f921\"]]}],\"mesh3d\":[{\"type\":\"mesh3d\",\"colorbar\":{\"outlinewidth\":0,\"ticks\":\"\"}}],\"scatter\":[{\"fillpattern\":{\"fillmode\":\"overlay\",\"size\":10,\"solidity\":0.2},\"type\":\"scatter\"}],\"parcoords\":[{\"type\":\"parcoords\",\"line\":{\"colorbar\":{\"outlinewidth\":0,\"ticks\":\"\"}}}],\"scatterpolargl\":[{\"type\":\"scatterpolargl\",\"marker\":{\"colorbar\":{\"outlinewidth\":0,\"ticks\":\"\"}}}],\"bar\":[{\"error_x\":{\"color\":\"#2a3f5f\"},\"error_y\":{\"color\":\"#2a3f5f\"},\"marker\":{\"line\":{\"color\":\"white\",\"width\":0.5},\"pattern\":{\"fillmode\":\"overlay\",\"size\":10,\"solidity\":0.2}},\"type\":\"bar\"}],\"scattergeo\":[{\"type\":\"scattergeo\",\"marker\":{\"colorbar\":{\"outlinewidth\":0,\"ticks\":\"\"}}}],\"scatterpolar\":[{\"type\":\"scatterpolar\",\"marker\":{\"colorbar\":{\"outlinewidth\":0,\"ticks\":\"\"}}}],\"histogram\":[{\"marker\":{\"pattern\":{\"fillmode\":\"overlay\",\"size\":10,\"solidity\":0.2}},\"type\":\"histogram\"}],\"scattergl\":[{\"type\":\"scattergl\",\"marker\":{\"colorbar\":{\"outlinewidth\":0,\"ticks\":\"\"}}}],\"scatter3d\":[{\"type\":\"scatter3d\",\"line\":{\"colorbar\":{\"outlinewidth\":0,\"ticks\":\"\"}},\"marker\":{\"colorbar\":{\"outlinewidth\":0,\"ticks\":\"\"}}}],\"scattermapbox\":[{\"type\":\"scattermapbox\",\"marker\":{\"colorbar\":{\"outlinewidth\":0,\"ticks\":\"\"}}}],\"scatterternary\":[{\"type\":\"scatterternary\",\"marker\":{\"colorbar\":{\"outlinewidth\":0,\"ticks\":\"\"}}}],\"scattercarpet\":[{\"type\":\"scattercarpet\",\"marker\":{\"colorbar\":{\"outlinewidth\":0,\"ticks\":\"\"}}}],\"carpet\":[{\"aaxis\":{\"endlinecolor\":\"#2a3f5f\",\"gridcolor\":\"#C8D4E3\",\"linecolor\":\"#C8D4E3\",\"minorgridcolor\":\"#C8D4E3\",\"startlinecolor\":\"#2a3f5f\"},\"baxis\":{\"endlinecolor\":\"#2a3f5f\",\"gridcolor\":\"#C8D4E3\",\"linecolor\":\"#C8D4E3\",\"minorgridcolor\":\"#C8D4E3\",\"startlinecolor\":\"#2a3f5f\"},\"type\":\"carpet\"}],\"table\":[{\"cells\":{\"fill\":{\"color\":\"#EBF0F8\"},\"line\":{\"color\":\"white\"}},\"header\":{\"fill\":{\"color\":\"#C8D4E3\"},\"line\":{\"color\":\"white\"}},\"type\":\"table\"}],\"barpolar\":[{\"marker\":{\"line\":{\"color\":\"white\",\"width\":0.5},\"pattern\":{\"fillmode\":\"overlay\",\"size\":10,\"solidity\":0.2}},\"type\":\"barpolar\"}],\"pie\":[{\"automargin\":true,\"type\":\"pie\"}]},\"layout\":{\"autotypenumbers\":\"strict\",\"colorway\":[\"#636efa\",\"#EF553B\",\"#00cc96\",\"#ab63fa\",\"#FFA15A\",\"#19d3f3\",\"#FF6692\",\"#B6E880\",\"#FF97FF\",\"#FECB52\"],\"font\":{\"color\":\"#2a3f5f\"},\"hovermode\":\"closest\",\"hoverlabel\":{\"align\":\"left\"},\"paper_bgcolor\":\"white\",\"plot_bgcolor\":\"white\",\"polar\":{\"bgcolor\":\"white\",\"angularaxis\":{\"gridcolor\":\"#EBF0F8\",\"linecolor\":\"#EBF0F8\",\"ticks\":\"\"},\"radialaxis\":{\"gridcolor\":\"#EBF0F8\",\"linecolor\":\"#EBF0F8\",\"ticks\":\"\"}},\"ternary\":{\"bgcolor\":\"white\",\"aaxis\":{\"gridcolor\":\"#DFE8F3\",\"linecolor\":\"#A2B1C6\",\"ticks\":\"\"},\"baxis\":{\"gridcolor\":\"#DFE8F3\",\"linecolor\":\"#A2B1C6\",\"ticks\":\"\"},\"caxis\":{\"gridcolor\":\"#DFE8F3\",\"linecolor\":\"#A2B1C6\",\"ticks\":\"\"}},\"coloraxis\":{\"colorbar\":{\"outlinewidth\":0,\"ticks\":\"\"}},\"colorscale\":{\"sequential\":[[0.0,\"#0d0887\"],[0.1111111111111111,\"#46039f\"],[0.2222222222222222,\"#7201a8\"],[0.3333333333333333,\"#9c179e\"],[0.4444444444444444,\"#bd3786\"],[0.5555555555555556,\"#d8576b\"],[0.6666666666666666,\"#ed7953\"],[0.7777777777777778,\"#fb9f3a\"],[0.8888888888888888,\"#fdca26\"],[1.0,\"#f0f921\"]],\"sequentialminus\":[[0.0,\"#0d0887\"],[0.1111111111111111,\"#46039f\"],[0.2222222222222222,\"#7201a8\"],[0.3333333333333333,\"#9c179e\"],[0.4444444444444444,\"#bd3786\"],[0.5555555555555556,\"#d8576b\"],[0.6666666666666666,\"#ed7953\"],[0.7777777777777778,\"#fb9f3a\"],[0.8888888888888888,\"#fdca26\"],[1.0,\"#f0f921\"]],\"diverging\":[[0,\"#8e0152\"],[0.1,\"#c51b7d\"],[0.2,\"#de77ae\"],[0.3,\"#f1b6da\"],[0.4,\"#fde0ef\"],[0.5,\"#f7f7f7\"],[0.6,\"#e6f5d0\"],[0.7,\"#b8e186\"],[0.8,\"#7fbc41\"],[0.9,\"#4d9221\"],[1,\"#276419\"]]},\"xaxis\":{\"gridcolor\":\"#EBF0F8\",\"linecolor\":\"#EBF0F8\",\"ticks\":\"\",\"title\":{\"standoff\":15},\"zerolinecolor\":\"#EBF0F8\",\"automargin\":true,\"zerolinewidth\":2},\"yaxis\":{\"gridcolor\":\"#EBF0F8\",\"linecolor\":\"#EBF0F8\",\"ticks\":\"\",\"title\":{\"standoff\":15},\"zerolinecolor\":\"#EBF0F8\",\"automargin\":true,\"zerolinewidth\":2},\"scene\":{\"xaxis\":{\"backgroundcolor\":\"white\",\"gridcolor\":\"#DFE8F3\",\"linecolor\":\"#EBF0F8\",\"showbackground\":true,\"ticks\":\"\",\"zerolinecolor\":\"#EBF0F8\",\"gridwidth\":2},\"yaxis\":{\"backgroundcolor\":\"white\",\"gridcolor\":\"#DFE8F3\",\"linecolor\":\"#EBF0F8\",\"showbackground\":true,\"ticks\":\"\",\"zerolinecolor\":\"#EBF0F8\",\"gridwidth\":2},\"zaxis\":{\"backgroundcolor\":\"white\",\"gridcolor\":\"#DFE8F3\",\"linecolor\":\"#EBF0F8\",\"showbackground\":true,\"ticks\":\"\",\"zerolinecolor\":\"#EBF0F8\",\"gridwidth\":2}},\"shapedefaults\":{\"line\":{\"color\":\"#2a3f5f\"}},\"annotationdefaults\":{\"arrowcolor\":\"#2a3f5f\",\"arrowhead\":0,\"arrowwidth\":1},\"geo\":{\"bgcolor\":\"white\",\"landcolor\":\"white\",\"subunitcolor\":\"#C8D4E3\",\"showland\":true,\"showlakes\":true,\"lakecolor\":\"white\"},\"title\":{\"x\":0.05},\"mapbox\":{\"style\":\"light\"}}},\"xaxis\":{\"anchor\":\"y\",\"domain\":[0.0,1.0],\"title\":{\"text\":\"Time\"}},\"yaxis\":{\"anchor\":\"x\",\"domain\":[0.0,1.0],\"title\":{\"text\":\"Walking Speed\"}},\"legend\":{\"tracegroupgap\":0},\"title\":{\"text\":\"Walking Speed Over Time\"}},                        {\"responsive\": true}                    ).then(function(){\n",
              "                            \n",
              "var gd = document.getElementById('d65b5e02-bc2c-4933-9056-3aa64441fbe0');\n",
              "var x = new MutationObserver(function (mutations, observer) {{\n",
              "        var display = window.getComputedStyle(gd).display;\n",
              "        if (!display || display === 'none') {{\n",
              "            console.log([gd, 'removed!']);\n",
              "            Plotly.purge(gd);\n",
              "            observer.disconnect();\n",
              "        }}\n",
              "}});\n",
              "\n",
              "// Listen for the removal of the full notebook cells\n",
              "var notebookContainer = gd.closest('#notebook-container');\n",
              "if (notebookContainer) {{\n",
              "    x.observe(notebookContainer, {childList: true});\n",
              "}}\n",
              "\n",
              "// Listen for the clearing of the current output cell\n",
              "var outputEl = gd.closest('.output');\n",
              "if (outputEl) {{\n",
              "    x.observe(outputEl, {childList: true});\n",
              "}}\n",
              "\n",
              "                        })                };                            </script>        </div>\n",
              "</body>\n",
              "</html>"
            ]
          },
          "metadata": {}
        }
      ]
    },
    {
      "cell_type": "markdown",
      "source": [],
      "metadata": {
        "id": "vmDCIiXJ0m16"
      }
    },
    {
      "cell_type": "code",
      "source": [
        "# Calculate Average Step Count per Day\n",
        "average_step_count_per_day = data.groupby(\"Date\")[\"Step Count\"].mean().reset_index()\n",
        "\n",
        "fig5 = px.bar(average_step_count_per_day, x=\"Date\",\n",
        "              y=\"Step Count\",\n",
        "              title=\"Average Step Count per Day\")\n",
        "fig5.update()"
      ],
      "metadata": {
        "colab": {
          "base_uri": "https://localhost:8080/",
          "height": 542
        },
        "id": "j8Tn365y0I1r",
        "outputId": "8aba8789-e5d2-40db-f56e-55223f599ab1"
      },
      "execution_count": 13,
      "outputs": [
        {
          "output_type": "display_data",
          "data": {
            "text/html": [
              "<html>\n",
              "<head><meta charset=\"utf-8\" /></head>\n",
              "<body>\n",
              "    <div>            <script src=\"https://cdnjs.cloudflare.com/ajax/libs/mathjax/2.7.5/MathJax.js?config=TeX-AMS-MML_SVG\"></script><script type=\"text/javascript\">if (window.MathJax && window.MathJax.Hub && window.MathJax.Hub.Config) {window.MathJax.Hub.Config({SVG: {font: \"STIX-Web\"}});}</script>                <script type=\"text/javascript\">window.PlotlyConfig = {MathJaxConfig: 'local'};</script>\n",
              "        <script charset=\"utf-8\" src=\"https://cdn.plot.ly/plotly-2.24.1.min.js\"></script>                <div id=\"90f7cb81-1a6f-4fdf-bed5-bf57c8728d32\" class=\"plotly-graph-div\" style=\"height:525px; width:100%;\"></div>            <script type=\"text/javascript\">                                    window.PLOTLYENV=window.PLOTLYENV || {};                                    if (document.getElementById(\"90f7cb81-1a6f-4fdf-bed5-bf57c8728d32\")) {                    Plotly.newPlot(                        \"90f7cb81-1a6f-4fdf-bed5-bf57c8728d32\",                        [{\"alignmentgroup\":\"True\",\"hovertemplate\":\"Date=%{x}\\u003cbr\\u003eStep Count=%{y}\\u003cextra\\u003e\\u003c\\u002fextra\\u003e\",\"legendgroup\":\"\",\"marker\":{\"color\":\"#636efa\",\"pattern\":{\"shape\":\"\"}},\"name\":\"\",\"offsetgroup\":\"\",\"orientation\":\"v\",\"showlegend\":false,\"textposition\":\"auto\",\"x\":[\"2023-03-21\",\"2023-03-22\",\"2023-03-23\",\"2023-03-24\",\"2023-03-25\",\"2023-03-26\",\"2023-03-27\",\"2023-03-28\",\"2023-03-29\",\"2023-03-30\",\"2023-03-31\",\"2023-04-01\"],\"xaxis\":\"x\",\"y\":[137.63636363636363,354.23333333333335,109.125,64.66666666666667,117.0,101.0,48.875,163.75,169.57894736842104,384.1818181818182,372.1666666666667,306.9166666666667],\"yaxis\":\"y\",\"type\":\"bar\"}],                        {\"template\":{\"data\":{\"histogram2dcontour\":[{\"type\":\"histogram2dcontour\",\"colorbar\":{\"outlinewidth\":0,\"ticks\":\"\"},\"colorscale\":[[0.0,\"#0d0887\"],[0.1111111111111111,\"#46039f\"],[0.2222222222222222,\"#7201a8\"],[0.3333333333333333,\"#9c179e\"],[0.4444444444444444,\"#bd3786\"],[0.5555555555555556,\"#d8576b\"],[0.6666666666666666,\"#ed7953\"],[0.7777777777777778,\"#fb9f3a\"],[0.8888888888888888,\"#fdca26\"],[1.0,\"#f0f921\"]]}],\"choropleth\":[{\"type\":\"choropleth\",\"colorbar\":{\"outlinewidth\":0,\"ticks\":\"\"}}],\"histogram2d\":[{\"type\":\"histogram2d\",\"colorbar\":{\"outlinewidth\":0,\"ticks\":\"\"},\"colorscale\":[[0.0,\"#0d0887\"],[0.1111111111111111,\"#46039f\"],[0.2222222222222222,\"#7201a8\"],[0.3333333333333333,\"#9c179e\"],[0.4444444444444444,\"#bd3786\"],[0.5555555555555556,\"#d8576b\"],[0.6666666666666666,\"#ed7953\"],[0.7777777777777778,\"#fb9f3a\"],[0.8888888888888888,\"#fdca26\"],[1.0,\"#f0f921\"]]}],\"heatmap\":[{\"type\":\"heatmap\",\"colorbar\":{\"outlinewidth\":0,\"ticks\":\"\"},\"colorscale\":[[0.0,\"#0d0887\"],[0.1111111111111111,\"#46039f\"],[0.2222222222222222,\"#7201a8\"],[0.3333333333333333,\"#9c179e\"],[0.4444444444444444,\"#bd3786\"],[0.5555555555555556,\"#d8576b\"],[0.6666666666666666,\"#ed7953\"],[0.7777777777777778,\"#fb9f3a\"],[0.8888888888888888,\"#fdca26\"],[1.0,\"#f0f921\"]]}],\"heatmapgl\":[{\"type\":\"heatmapgl\",\"colorbar\":{\"outlinewidth\":0,\"ticks\":\"\"},\"colorscale\":[[0.0,\"#0d0887\"],[0.1111111111111111,\"#46039f\"],[0.2222222222222222,\"#7201a8\"],[0.3333333333333333,\"#9c179e\"],[0.4444444444444444,\"#bd3786\"],[0.5555555555555556,\"#d8576b\"],[0.6666666666666666,\"#ed7953\"],[0.7777777777777778,\"#fb9f3a\"],[0.8888888888888888,\"#fdca26\"],[1.0,\"#f0f921\"]]}],\"contourcarpet\":[{\"type\":\"contourcarpet\",\"colorbar\":{\"outlinewidth\":0,\"ticks\":\"\"}}],\"contour\":[{\"type\":\"contour\",\"colorbar\":{\"outlinewidth\":0,\"ticks\":\"\"},\"colorscale\":[[0.0,\"#0d0887\"],[0.1111111111111111,\"#46039f\"],[0.2222222222222222,\"#7201a8\"],[0.3333333333333333,\"#9c179e\"],[0.4444444444444444,\"#bd3786\"],[0.5555555555555556,\"#d8576b\"],[0.6666666666666666,\"#ed7953\"],[0.7777777777777778,\"#fb9f3a\"],[0.8888888888888888,\"#fdca26\"],[1.0,\"#f0f921\"]]}],\"surface\":[{\"type\":\"surface\",\"colorbar\":{\"outlinewidth\":0,\"ticks\":\"\"},\"colorscale\":[[0.0,\"#0d0887\"],[0.1111111111111111,\"#46039f\"],[0.2222222222222222,\"#7201a8\"],[0.3333333333333333,\"#9c179e\"],[0.4444444444444444,\"#bd3786\"],[0.5555555555555556,\"#d8576b\"],[0.6666666666666666,\"#ed7953\"],[0.7777777777777778,\"#fb9f3a\"],[0.8888888888888888,\"#fdca26\"],[1.0,\"#f0f921\"]]}],\"mesh3d\":[{\"type\":\"mesh3d\",\"colorbar\":{\"outlinewidth\":0,\"ticks\":\"\"}}],\"scatter\":[{\"fillpattern\":{\"fillmode\":\"overlay\",\"size\":10,\"solidity\":0.2},\"type\":\"scatter\"}],\"parcoords\":[{\"type\":\"parcoords\",\"line\":{\"colorbar\":{\"outlinewidth\":0,\"ticks\":\"\"}}}],\"scatterpolargl\":[{\"type\":\"scatterpolargl\",\"marker\":{\"colorbar\":{\"outlinewidth\":0,\"ticks\":\"\"}}}],\"bar\":[{\"error_x\":{\"color\":\"#2a3f5f\"},\"error_y\":{\"color\":\"#2a3f5f\"},\"marker\":{\"line\":{\"color\":\"white\",\"width\":0.5},\"pattern\":{\"fillmode\":\"overlay\",\"size\":10,\"solidity\":0.2}},\"type\":\"bar\"}],\"scattergeo\":[{\"type\":\"scattergeo\",\"marker\":{\"colorbar\":{\"outlinewidth\":0,\"ticks\":\"\"}}}],\"scatterpolar\":[{\"type\":\"scatterpolar\",\"marker\":{\"colorbar\":{\"outlinewidth\":0,\"ticks\":\"\"}}}],\"histogram\":[{\"marker\":{\"pattern\":{\"fillmode\":\"overlay\",\"size\":10,\"solidity\":0.2}},\"type\":\"histogram\"}],\"scattergl\":[{\"type\":\"scattergl\",\"marker\":{\"colorbar\":{\"outlinewidth\":0,\"ticks\":\"\"}}}],\"scatter3d\":[{\"type\":\"scatter3d\",\"line\":{\"colorbar\":{\"outlinewidth\":0,\"ticks\":\"\"}},\"marker\":{\"colorbar\":{\"outlinewidth\":0,\"ticks\":\"\"}}}],\"scattermapbox\":[{\"type\":\"scattermapbox\",\"marker\":{\"colorbar\":{\"outlinewidth\":0,\"ticks\":\"\"}}}],\"scatterternary\":[{\"type\":\"scatterternary\",\"marker\":{\"colorbar\":{\"outlinewidth\":0,\"ticks\":\"\"}}}],\"scattercarpet\":[{\"type\":\"scattercarpet\",\"marker\":{\"colorbar\":{\"outlinewidth\":0,\"ticks\":\"\"}}}],\"carpet\":[{\"aaxis\":{\"endlinecolor\":\"#2a3f5f\",\"gridcolor\":\"#C8D4E3\",\"linecolor\":\"#C8D4E3\",\"minorgridcolor\":\"#C8D4E3\",\"startlinecolor\":\"#2a3f5f\"},\"baxis\":{\"endlinecolor\":\"#2a3f5f\",\"gridcolor\":\"#C8D4E3\",\"linecolor\":\"#C8D4E3\",\"minorgridcolor\":\"#C8D4E3\",\"startlinecolor\":\"#2a3f5f\"},\"type\":\"carpet\"}],\"table\":[{\"cells\":{\"fill\":{\"color\":\"#EBF0F8\"},\"line\":{\"color\":\"white\"}},\"header\":{\"fill\":{\"color\":\"#C8D4E3\"},\"line\":{\"color\":\"white\"}},\"type\":\"table\"}],\"barpolar\":[{\"marker\":{\"line\":{\"color\":\"white\",\"width\":0.5},\"pattern\":{\"fillmode\":\"overlay\",\"size\":10,\"solidity\":0.2}},\"type\":\"barpolar\"}],\"pie\":[{\"automargin\":true,\"type\":\"pie\"}]},\"layout\":{\"autotypenumbers\":\"strict\",\"colorway\":[\"#636efa\",\"#EF553B\",\"#00cc96\",\"#ab63fa\",\"#FFA15A\",\"#19d3f3\",\"#FF6692\",\"#B6E880\",\"#FF97FF\",\"#FECB52\"],\"font\":{\"color\":\"#2a3f5f\"},\"hovermode\":\"closest\",\"hoverlabel\":{\"align\":\"left\"},\"paper_bgcolor\":\"white\",\"plot_bgcolor\":\"white\",\"polar\":{\"bgcolor\":\"white\",\"angularaxis\":{\"gridcolor\":\"#EBF0F8\",\"linecolor\":\"#EBF0F8\",\"ticks\":\"\"},\"radialaxis\":{\"gridcolor\":\"#EBF0F8\",\"linecolor\":\"#EBF0F8\",\"ticks\":\"\"}},\"ternary\":{\"bgcolor\":\"white\",\"aaxis\":{\"gridcolor\":\"#DFE8F3\",\"linecolor\":\"#A2B1C6\",\"ticks\":\"\"},\"baxis\":{\"gridcolor\":\"#DFE8F3\",\"linecolor\":\"#A2B1C6\",\"ticks\":\"\"},\"caxis\":{\"gridcolor\":\"#DFE8F3\",\"linecolor\":\"#A2B1C6\",\"ticks\":\"\"}},\"coloraxis\":{\"colorbar\":{\"outlinewidth\":0,\"ticks\":\"\"}},\"colorscale\":{\"sequential\":[[0.0,\"#0d0887\"],[0.1111111111111111,\"#46039f\"],[0.2222222222222222,\"#7201a8\"],[0.3333333333333333,\"#9c179e\"],[0.4444444444444444,\"#bd3786\"],[0.5555555555555556,\"#d8576b\"],[0.6666666666666666,\"#ed7953\"],[0.7777777777777778,\"#fb9f3a\"],[0.8888888888888888,\"#fdca26\"],[1.0,\"#f0f921\"]],\"sequentialminus\":[[0.0,\"#0d0887\"],[0.1111111111111111,\"#46039f\"],[0.2222222222222222,\"#7201a8\"],[0.3333333333333333,\"#9c179e\"],[0.4444444444444444,\"#bd3786\"],[0.5555555555555556,\"#d8576b\"],[0.6666666666666666,\"#ed7953\"],[0.7777777777777778,\"#fb9f3a\"],[0.8888888888888888,\"#fdca26\"],[1.0,\"#f0f921\"]],\"diverging\":[[0,\"#8e0152\"],[0.1,\"#c51b7d\"],[0.2,\"#de77ae\"],[0.3,\"#f1b6da\"],[0.4,\"#fde0ef\"],[0.5,\"#f7f7f7\"],[0.6,\"#e6f5d0\"],[0.7,\"#b8e186\"],[0.8,\"#7fbc41\"],[0.9,\"#4d9221\"],[1,\"#276419\"]]},\"xaxis\":{\"gridcolor\":\"#EBF0F8\",\"linecolor\":\"#EBF0F8\",\"ticks\":\"\",\"title\":{\"standoff\":15},\"zerolinecolor\":\"#EBF0F8\",\"automargin\":true,\"zerolinewidth\":2},\"yaxis\":{\"gridcolor\":\"#EBF0F8\",\"linecolor\":\"#EBF0F8\",\"ticks\":\"\",\"title\":{\"standoff\":15},\"zerolinecolor\":\"#EBF0F8\",\"automargin\":true,\"zerolinewidth\":2},\"scene\":{\"xaxis\":{\"backgroundcolor\":\"white\",\"gridcolor\":\"#DFE8F3\",\"linecolor\":\"#EBF0F8\",\"showbackground\":true,\"ticks\":\"\",\"zerolinecolor\":\"#EBF0F8\",\"gridwidth\":2},\"yaxis\":{\"backgroundcolor\":\"white\",\"gridcolor\":\"#DFE8F3\",\"linecolor\":\"#EBF0F8\",\"showbackground\":true,\"ticks\":\"\",\"zerolinecolor\":\"#EBF0F8\",\"gridwidth\":2},\"zaxis\":{\"backgroundcolor\":\"white\",\"gridcolor\":\"#DFE8F3\",\"linecolor\":\"#EBF0F8\",\"showbackground\":true,\"ticks\":\"\",\"zerolinecolor\":\"#EBF0F8\",\"gridwidth\":2}},\"shapedefaults\":{\"line\":{\"color\":\"#2a3f5f\"}},\"annotationdefaults\":{\"arrowcolor\":\"#2a3f5f\",\"arrowhead\":0,\"arrowwidth\":1},\"geo\":{\"bgcolor\":\"white\",\"landcolor\":\"white\",\"subunitcolor\":\"#C8D4E3\",\"showland\":true,\"showlakes\":true,\"lakecolor\":\"white\"},\"title\":{\"x\":0.05},\"mapbox\":{\"style\":\"light\"}}},\"xaxis\":{\"anchor\":\"y\",\"domain\":[0.0,1.0],\"title\":{\"text\":\"Date\"}},\"yaxis\":{\"anchor\":\"x\",\"domain\":[0.0,1.0],\"title\":{\"text\":\"Step Count\"}},\"legend\":{\"tracegroupgap\":0},\"title\":{\"text\":\"Average Step Count per Day\"},\"barmode\":\"relative\"},                        {\"responsive\": true}                    ).then(function(){\n",
              "                            \n",
              "var gd = document.getElementById('90f7cb81-1a6f-4fdf-bed5-bf57c8728d32');\n",
              "var x = new MutationObserver(function (mutations, observer) {{\n",
              "        var display = window.getComputedStyle(gd).display;\n",
              "        if (!display || display === 'none') {{\n",
              "            console.log([gd, 'removed!']);\n",
              "            Plotly.purge(gd);\n",
              "            observer.disconnect();\n",
              "        }}\n",
              "}});\n",
              "\n",
              "// Listen for the removal of the full notebook cells\n",
              "var notebookContainer = gd.closest('#notebook-container');\n",
              "if (notebookContainer) {{\n",
              "    x.observe(notebookContainer, {childList: true});\n",
              "}}\n",
              "\n",
              "// Listen for the clearing of the current output cell\n",
              "var outputEl = gd.closest('.output');\n",
              "if (outputEl) {{\n",
              "    x.observe(outputEl, {childList: true});\n",
              "}}\n",
              "\n",
              "                        })                };                            </script>        </div>\n",
              "</body>\n",
              "</html>"
            ]
          },
          "metadata": {}
        }
      ]
    },
    {
      "cell_type": "markdown",
      "source": [],
      "metadata": {
        "id": "pDUCY1Yh0tbu"
      }
    },
    {
      "cell_type": "code",
      "source": [
        "# Calculate Walking Efficiency\n",
        "data[\"Walking Efficiency\"] = data[\"Distance\"] / data[\"Step Count\"]\n",
        "\n",
        "fig6 = px.line(data, x=\"Time\",\n",
        "               y=\"Walking Efficiency\",\n",
        "               title=\"Walking Efficiency Over Time\")\n",
        "fig6.show()"
      ],
      "metadata": {
        "colab": {
          "base_uri": "https://localhost:8080/",
          "height": 542
        },
        "id": "jnYDzF8u0I7J",
        "outputId": "d4208116-cab9-498a-de4b-2975d03350da"
      },
      "execution_count": 14,
      "outputs": [
        {
          "output_type": "display_data",
          "data": {
            "text/html": [
              "<html>\n",
              "<head><meta charset=\"utf-8\" /></head>\n",
              "<body>\n",
              "    <div>            <script src=\"https://cdnjs.cloudflare.com/ajax/libs/mathjax/2.7.5/MathJax.js?config=TeX-AMS-MML_SVG\"></script><script type=\"text/javascript\">if (window.MathJax && window.MathJax.Hub && window.MathJax.Hub.Config) {window.MathJax.Hub.Config({SVG: {font: \"STIX-Web\"}});}</script>                <script type=\"text/javascript\">window.PlotlyConfig = {MathJaxConfig: 'local'};</script>\n",
              "        <script charset=\"utf-8\" src=\"https://cdn.plot.ly/plotly-2.24.1.min.js\"></script>                <div id=\"5f5bcbb3-a9a7-44ca-9918-afa91887e3d6\" class=\"plotly-graph-div\" style=\"height:525px; width:100%;\"></div>            <script type=\"text/javascript\">                                    window.PLOTLYENV=window.PLOTLYENV || {};                                    if (document.getElementById(\"5f5bcbb3-a9a7-44ca-9918-afa91887e3d6\")) {                    Plotly.newPlot(                        \"5f5bcbb3-a9a7-44ca-9918-afa91887e3d6\",                        [{\"hovertemplate\":\"Time=%{x}\\u003cbr\\u003eWalking Efficiency=%{y}\\u003cextra\\u003e\\u003c\\u002fextra\\u003e\",\"legendgroup\":\"\",\"line\":{\"color\":\"#636efa\",\"dash\":\"solid\"},\"marker\":{\"symbol\":\"circle\"},\"mode\":\"lines\",\"name\":\"\",\"orientation\":\"v\",\"showlegend\":false,\"x\":[\"16:01:23 \",\"16:18:37 \",\"16:31:38 \",\"16:45:37 \",\"17:10:30 \",\"18:14:45 \",\"19:02:31 \",\"19:10:51 \",\"19:20:57 \",\"21:04:23 \",\"21:25:23 \",\"00:32:15 \",\"01:20:54 \",\"08:22:57 \",\"10:34:49 \",\"10:52:38 \",\"13:04:47 \",\"13:42:14 \",\"13:42:14 \",\"13:55:27 \",\"14:14:39 \",\"14:52:20 \",\"14:57:40 \",\"15:15:35 \",\"15:23:52 \",\"15:40:24 \",\"15:45:00 \",\"16:13:03 \",\"16:59:35 \",\"17:06:48 \",\"17:17:33 \",\"17:27:35 \",\"18:02:17 \",\"18:11:29 \",\"18:19:35 \",\"18:29:34 \",\"19:00:43 \",\"19:07:33 \",\"19:15:01 \",\"19:25:32 \",\"23:29:50 \",\"09:15:52 \",\"16:51:23 \",\"17:01:33 \",\"17:23:21 \",\"19:00:57 \",\"20:11:46 \",\"20:52:19 \",\"22:53:29 \",\"14:20:45 \",\"16:26:41 \",\"16:51:38 \",\"19:02:12 \",\"20:11:48 \",\"22:12:26 \",\"13:11:57 \",\"15:14:00 \",\"15:38:12 \",\"17:08:09 \",\"18:46:46 \",\"18:58:27 \",\"19:10:59 \",\"19:27:00 \",\"23:24:27 \",\"07:07:48 \",\"15:53:25 \",\"16:08:01 \",\"17:24:18 \",\"19:12:48 \",\"19:28:30 \",\"21:10:46 \",\"21:23:31 \",\"21:34:56 \",\"22:16:26 \",\"23:19:50 \",\"08:58:35 \",\"13:27:30 \",\"13:48:15 \",\"14:10:38 \",\"18:32:19 \",\"18:42:59 \",\"20:36:57 \",\"21:23:57 \",\"11:44:10 \",\"11:52:21 \",\"19:44:18 \",\"20:15:46 \",\"20:30:22 \",\"21:03:51 \",\"22:59:31 \",\"22:59:35 \",\"22:59:36 \",\"22:59:46 \",\"22:59:49 \",\"23:10:35 \",\"01:13:15 \",\"01:31:53 \",\"09:22:39 \",\"13:11:20 \",\"13:21:19 \",\"13:31:19 \",\"13:43:01 \",\"14:05:27 \",\"17:48:37 \",\"17:58:50 \",\"18:08:49 \",\"19:09:25 \",\"19:26:54 \",\"19:37:06 \",\"19:47:06 \",\"19:57:23 \",\"20:07:33 \",\"21:14:20 \",\"21:58:14 \",\"12:22:40 \",\"14:12:11 \",\"17:09:16 \",\"18:17:50 \",\"19:40:16 \",\"19:43:17 \",\"20:19:18 \",\"20:29:18 \",\"20:42:52 \",\"23:06:23 \",\"23:21:50 \",\"14:47:58 \",\"15:27:44 \",\"16:55:16 \",\"16:58:56 \",\"17:13:05 \",\"17:27:34 \",\"17:44:36 \",\"17:55:55 \",\"18:11:50 \",\"18:23:45 \",\"18:34:38 \",\"23:05:40 \",\"00:08:20 \",\"08:45:13 \",\"10:26:24 \",\"11:00:51 \",\"12:57:00 \",\"14:24:46 \",\"15:05:42 \",\"16:04:23 \",\"16:33:18 \",\"16:49:49 \",\"17:09:06 \",\"17:47:07 \"],\"xaxis\":\"x\",\"y\":[0.0005528260869565218,0.0006207906976744185,0.0007114285714285714,0.0006930769230769231,0.0005317647058823529,0.0007,0.0006398758865248227,0.0006204575163398693,0.00067125,0.0006936363636363636,0.00045,0.0005013513513513514,0.0007328571428571428,0.00058,0.00069,0.0006900000000000001,0.0007000819672131148,0.0007206078665077472,0.0007294067796610169,0.0006288305084745763,0.0006472235294117647,0.0006836153846153846,0.0006349164677804295,0.0006247236704900939,0.000736629213483146,0.0006317161016949152,0.0006076068376068376,0.0005446666666666667,0.0006345325203252033,0.0006246867749419953,0.0006309960159362549,0.0006328531073446328,0.0006214480408858603,0.0006274193548387097,0.0006619240506329114,0.000648354114713217,0.0006608854166666667,0.0029563975155279506,0.00020976902173913044,0.0005407746478873239,0.00069,0.0005170588235294117,0.0007001333333333334,0.000673448275862069,0.0006937037037037038,0.00073,0.0007,0.0006942857142857142,0.0007030769230769231,0.0006907407407407408,0.00069,0.0006850000000000001,0.00046,0.0006238559322033899,0.0007407142857142857,0.0006271794871794871,0.00069,0.0006906060606060606,0.0006906060606060606,0.0006954960317460318,0.000697,0.0006887037037037037,0.0007219480519480519,0.0006568421052631579,0.0006958333333333334,0.0006912087912087912,0.00069,0.0007018762475049901,0.0006898941798941799,0.0006903225806451612,0.0006520238095238095,0.0005539473684210526,0.0006065853658536585,0.0007170270270270271,0.0006676190476190476,0.0006796153846153846,0.0006726249999999999,0.000663,0.0007,0.0006900000000000001,0.00069,0.0005304545454545454,0.0006853333333333333,0.0006914545454545454,0.00069,0.0006624050632911393,0.0006394273127753304,0.0006495698924731182,0.0007599999999999999,0.0006,0.0005673209549071618,0.00047999999999999996,0.0006933333333333333,0.00069,0.00069,0.00071,0.0004523076923076923,0.0007,0.0006921621621621621,0.0006920833333333333,0.0006900380228136882,0.0006284782608695652,0.0006900000000000001,0.0006880869565217392,0.0006923890784982935,0.0006916666666666666,0.0006388253012048193,0.000692,0.0006886551724137931,0.0006904186046511627,0.0006910852713178295,0.0006908646616541353,0.0006796296296296297,0.00072,0.0007133333333333333,0.0007300000000000001,0.000671219512195122,0.0006930372492836676,0.0006646020408163265,0.0006454545454545455,0.0006510798122065728,0.0006467148014440433,0.0006558730158730159,0.0006893548387096774,0.000672,0.0006163636363636364,0.0006753333333333333,0.000657298969072165,0.0006703441682600383,0.0006416981132075472,0.0006665384615384616,0.0007008870967741936,0.0006382162661737524,0.0006257642725598526,0.0006983715012722646,0.0006870558375634518,0.00071,0.0006955555555555556,0.000691919191919192,0.00069,0.0005112903225806451,0.0006992,0.0006863405797101449,0.00069,0.0006749425287356322,0.000551081081081081,0.0006747058823529412,0.0006618125,0.0006275208140610546],\"yaxis\":\"y\",\"type\":\"scatter\"}],                        {\"template\":{\"data\":{\"histogram2dcontour\":[{\"type\":\"histogram2dcontour\",\"colorbar\":{\"outlinewidth\":0,\"ticks\":\"\"},\"colorscale\":[[0.0,\"#0d0887\"],[0.1111111111111111,\"#46039f\"],[0.2222222222222222,\"#7201a8\"],[0.3333333333333333,\"#9c179e\"],[0.4444444444444444,\"#bd3786\"],[0.5555555555555556,\"#d8576b\"],[0.6666666666666666,\"#ed7953\"],[0.7777777777777778,\"#fb9f3a\"],[0.8888888888888888,\"#fdca26\"],[1.0,\"#f0f921\"]]}],\"choropleth\":[{\"type\":\"choropleth\",\"colorbar\":{\"outlinewidth\":0,\"ticks\":\"\"}}],\"histogram2d\":[{\"type\":\"histogram2d\",\"colorbar\":{\"outlinewidth\":0,\"ticks\":\"\"},\"colorscale\":[[0.0,\"#0d0887\"],[0.1111111111111111,\"#46039f\"],[0.2222222222222222,\"#7201a8\"],[0.3333333333333333,\"#9c179e\"],[0.4444444444444444,\"#bd3786\"],[0.5555555555555556,\"#d8576b\"],[0.6666666666666666,\"#ed7953\"],[0.7777777777777778,\"#fb9f3a\"],[0.8888888888888888,\"#fdca26\"],[1.0,\"#f0f921\"]]}],\"heatmap\":[{\"type\":\"heatmap\",\"colorbar\":{\"outlinewidth\":0,\"ticks\":\"\"},\"colorscale\":[[0.0,\"#0d0887\"],[0.1111111111111111,\"#46039f\"],[0.2222222222222222,\"#7201a8\"],[0.3333333333333333,\"#9c179e\"],[0.4444444444444444,\"#bd3786\"],[0.5555555555555556,\"#d8576b\"],[0.6666666666666666,\"#ed7953\"],[0.7777777777777778,\"#fb9f3a\"],[0.8888888888888888,\"#fdca26\"],[1.0,\"#f0f921\"]]}],\"heatmapgl\":[{\"type\":\"heatmapgl\",\"colorbar\":{\"outlinewidth\":0,\"ticks\":\"\"},\"colorscale\":[[0.0,\"#0d0887\"],[0.1111111111111111,\"#46039f\"],[0.2222222222222222,\"#7201a8\"],[0.3333333333333333,\"#9c179e\"],[0.4444444444444444,\"#bd3786\"],[0.5555555555555556,\"#d8576b\"],[0.6666666666666666,\"#ed7953\"],[0.7777777777777778,\"#fb9f3a\"],[0.8888888888888888,\"#fdca26\"],[1.0,\"#f0f921\"]]}],\"contourcarpet\":[{\"type\":\"contourcarpet\",\"colorbar\":{\"outlinewidth\":0,\"ticks\":\"\"}}],\"contour\":[{\"type\":\"contour\",\"colorbar\":{\"outlinewidth\":0,\"ticks\":\"\"},\"colorscale\":[[0.0,\"#0d0887\"],[0.1111111111111111,\"#46039f\"],[0.2222222222222222,\"#7201a8\"],[0.3333333333333333,\"#9c179e\"],[0.4444444444444444,\"#bd3786\"],[0.5555555555555556,\"#d8576b\"],[0.6666666666666666,\"#ed7953\"],[0.7777777777777778,\"#fb9f3a\"],[0.8888888888888888,\"#fdca26\"],[1.0,\"#f0f921\"]]}],\"surface\":[{\"type\":\"surface\",\"colorbar\":{\"outlinewidth\":0,\"ticks\":\"\"},\"colorscale\":[[0.0,\"#0d0887\"],[0.1111111111111111,\"#46039f\"],[0.2222222222222222,\"#7201a8\"],[0.3333333333333333,\"#9c179e\"],[0.4444444444444444,\"#bd3786\"],[0.5555555555555556,\"#d8576b\"],[0.6666666666666666,\"#ed7953\"],[0.7777777777777778,\"#fb9f3a\"],[0.8888888888888888,\"#fdca26\"],[1.0,\"#f0f921\"]]}],\"mesh3d\":[{\"type\":\"mesh3d\",\"colorbar\":{\"outlinewidth\":0,\"ticks\":\"\"}}],\"scatter\":[{\"fillpattern\":{\"fillmode\":\"overlay\",\"size\":10,\"solidity\":0.2},\"type\":\"scatter\"}],\"parcoords\":[{\"type\":\"parcoords\",\"line\":{\"colorbar\":{\"outlinewidth\":0,\"ticks\":\"\"}}}],\"scatterpolargl\":[{\"type\":\"scatterpolargl\",\"marker\":{\"colorbar\":{\"outlinewidth\":0,\"ticks\":\"\"}}}],\"bar\":[{\"error_x\":{\"color\":\"#2a3f5f\"},\"error_y\":{\"color\":\"#2a3f5f\"},\"marker\":{\"line\":{\"color\":\"white\",\"width\":0.5},\"pattern\":{\"fillmode\":\"overlay\",\"size\":10,\"solidity\":0.2}},\"type\":\"bar\"}],\"scattergeo\":[{\"type\":\"scattergeo\",\"marker\":{\"colorbar\":{\"outlinewidth\":0,\"ticks\":\"\"}}}],\"scatterpolar\":[{\"type\":\"scatterpolar\",\"marker\":{\"colorbar\":{\"outlinewidth\":0,\"ticks\":\"\"}}}],\"histogram\":[{\"marker\":{\"pattern\":{\"fillmode\":\"overlay\",\"size\":10,\"solidity\":0.2}},\"type\":\"histogram\"}],\"scattergl\":[{\"type\":\"scattergl\",\"marker\":{\"colorbar\":{\"outlinewidth\":0,\"ticks\":\"\"}}}],\"scatter3d\":[{\"type\":\"scatter3d\",\"line\":{\"colorbar\":{\"outlinewidth\":0,\"ticks\":\"\"}},\"marker\":{\"colorbar\":{\"outlinewidth\":0,\"ticks\":\"\"}}}],\"scattermapbox\":[{\"type\":\"scattermapbox\",\"marker\":{\"colorbar\":{\"outlinewidth\":0,\"ticks\":\"\"}}}],\"scatterternary\":[{\"type\":\"scatterternary\",\"marker\":{\"colorbar\":{\"outlinewidth\":0,\"ticks\":\"\"}}}],\"scattercarpet\":[{\"type\":\"scattercarpet\",\"marker\":{\"colorbar\":{\"outlinewidth\":0,\"ticks\":\"\"}}}],\"carpet\":[{\"aaxis\":{\"endlinecolor\":\"#2a3f5f\",\"gridcolor\":\"#C8D4E3\",\"linecolor\":\"#C8D4E3\",\"minorgridcolor\":\"#C8D4E3\",\"startlinecolor\":\"#2a3f5f\"},\"baxis\":{\"endlinecolor\":\"#2a3f5f\",\"gridcolor\":\"#C8D4E3\",\"linecolor\":\"#C8D4E3\",\"minorgridcolor\":\"#C8D4E3\",\"startlinecolor\":\"#2a3f5f\"},\"type\":\"carpet\"}],\"table\":[{\"cells\":{\"fill\":{\"color\":\"#EBF0F8\"},\"line\":{\"color\":\"white\"}},\"header\":{\"fill\":{\"color\":\"#C8D4E3\"},\"line\":{\"color\":\"white\"}},\"type\":\"table\"}],\"barpolar\":[{\"marker\":{\"line\":{\"color\":\"white\",\"width\":0.5},\"pattern\":{\"fillmode\":\"overlay\",\"size\":10,\"solidity\":0.2}},\"type\":\"barpolar\"}],\"pie\":[{\"automargin\":true,\"type\":\"pie\"}]},\"layout\":{\"autotypenumbers\":\"strict\",\"colorway\":[\"#636efa\",\"#EF553B\",\"#00cc96\",\"#ab63fa\",\"#FFA15A\",\"#19d3f3\",\"#FF6692\",\"#B6E880\",\"#FF97FF\",\"#FECB52\"],\"font\":{\"color\":\"#2a3f5f\"},\"hovermode\":\"closest\",\"hoverlabel\":{\"align\":\"left\"},\"paper_bgcolor\":\"white\",\"plot_bgcolor\":\"white\",\"polar\":{\"bgcolor\":\"white\",\"angularaxis\":{\"gridcolor\":\"#EBF0F8\",\"linecolor\":\"#EBF0F8\",\"ticks\":\"\"},\"radialaxis\":{\"gridcolor\":\"#EBF0F8\",\"linecolor\":\"#EBF0F8\",\"ticks\":\"\"}},\"ternary\":{\"bgcolor\":\"white\",\"aaxis\":{\"gridcolor\":\"#DFE8F3\",\"linecolor\":\"#A2B1C6\",\"ticks\":\"\"},\"baxis\":{\"gridcolor\":\"#DFE8F3\",\"linecolor\":\"#A2B1C6\",\"ticks\":\"\"},\"caxis\":{\"gridcolor\":\"#DFE8F3\",\"linecolor\":\"#A2B1C6\",\"ticks\":\"\"}},\"coloraxis\":{\"colorbar\":{\"outlinewidth\":0,\"ticks\":\"\"}},\"colorscale\":{\"sequential\":[[0.0,\"#0d0887\"],[0.1111111111111111,\"#46039f\"],[0.2222222222222222,\"#7201a8\"],[0.3333333333333333,\"#9c179e\"],[0.4444444444444444,\"#bd3786\"],[0.5555555555555556,\"#d8576b\"],[0.6666666666666666,\"#ed7953\"],[0.7777777777777778,\"#fb9f3a\"],[0.8888888888888888,\"#fdca26\"],[1.0,\"#f0f921\"]],\"sequentialminus\":[[0.0,\"#0d0887\"],[0.1111111111111111,\"#46039f\"],[0.2222222222222222,\"#7201a8\"],[0.3333333333333333,\"#9c179e\"],[0.4444444444444444,\"#bd3786\"],[0.5555555555555556,\"#d8576b\"],[0.6666666666666666,\"#ed7953\"],[0.7777777777777778,\"#fb9f3a\"],[0.8888888888888888,\"#fdca26\"],[1.0,\"#f0f921\"]],\"diverging\":[[0,\"#8e0152\"],[0.1,\"#c51b7d\"],[0.2,\"#de77ae\"],[0.3,\"#f1b6da\"],[0.4,\"#fde0ef\"],[0.5,\"#f7f7f7\"],[0.6,\"#e6f5d0\"],[0.7,\"#b8e186\"],[0.8,\"#7fbc41\"],[0.9,\"#4d9221\"],[1,\"#276419\"]]},\"xaxis\":{\"gridcolor\":\"#EBF0F8\",\"linecolor\":\"#EBF0F8\",\"ticks\":\"\",\"title\":{\"standoff\":15},\"zerolinecolor\":\"#EBF0F8\",\"automargin\":true,\"zerolinewidth\":2},\"yaxis\":{\"gridcolor\":\"#EBF0F8\",\"linecolor\":\"#EBF0F8\",\"ticks\":\"\",\"title\":{\"standoff\":15},\"zerolinecolor\":\"#EBF0F8\",\"automargin\":true,\"zerolinewidth\":2},\"scene\":{\"xaxis\":{\"backgroundcolor\":\"white\",\"gridcolor\":\"#DFE8F3\",\"linecolor\":\"#EBF0F8\",\"showbackground\":true,\"ticks\":\"\",\"zerolinecolor\":\"#EBF0F8\",\"gridwidth\":2},\"yaxis\":{\"backgroundcolor\":\"white\",\"gridcolor\":\"#DFE8F3\",\"linecolor\":\"#EBF0F8\",\"showbackground\":true,\"ticks\":\"\",\"zerolinecolor\":\"#EBF0F8\",\"gridwidth\":2},\"zaxis\":{\"backgroundcolor\":\"white\",\"gridcolor\":\"#DFE8F3\",\"linecolor\":\"#EBF0F8\",\"showbackground\":true,\"ticks\":\"\",\"zerolinecolor\":\"#EBF0F8\",\"gridwidth\":2}},\"shapedefaults\":{\"line\":{\"color\":\"#2a3f5f\"}},\"annotationdefaults\":{\"arrowcolor\":\"#2a3f5f\",\"arrowhead\":0,\"arrowwidth\":1},\"geo\":{\"bgcolor\":\"white\",\"landcolor\":\"white\",\"subunitcolor\":\"#C8D4E3\",\"showland\":true,\"showlakes\":true,\"lakecolor\":\"white\"},\"title\":{\"x\":0.05},\"mapbox\":{\"style\":\"light\"}}},\"xaxis\":{\"anchor\":\"y\",\"domain\":[0.0,1.0],\"title\":{\"text\":\"Time\"}},\"yaxis\":{\"anchor\":\"x\",\"domain\":[0.0,1.0],\"title\":{\"text\":\"Walking Efficiency\"}},\"legend\":{\"tracegroupgap\":0},\"title\":{\"text\":\"Walking Efficiency Over Time\"}},                        {\"responsive\": true}                    ).then(function(){\n",
              "                            \n",
              "var gd = document.getElementById('5f5bcbb3-a9a7-44ca-9918-afa91887e3d6');\n",
              "var x = new MutationObserver(function (mutations, observer) {{\n",
              "        var display = window.getComputedStyle(gd).display;\n",
              "        if (!display || display === 'none') {{\n",
              "            console.log([gd, 'removed!']);\n",
              "            Plotly.purge(gd);\n",
              "            observer.disconnect();\n",
              "        }}\n",
              "}});\n",
              "\n",
              "// Listen for the removal of the full notebook cells\n",
              "var notebookContainer = gd.closest('#notebook-container');\n",
              "if (notebookContainer) {{\n",
              "    x.observe(notebookContainer, {childList: true});\n",
              "}}\n",
              "\n",
              "// Listen for the clearing of the current output cell\n",
              "var outputEl = gd.closest('.output');\n",
              "if (outputEl) {{\n",
              "    x.observe(outputEl, {childList: true});\n",
              "}}\n",
              "\n",
              "                        })                };                            </script>        </div>\n",
              "</body>\n",
              "</html>"
            ]
          },
          "metadata": {}
        }
      ]
    },
    {
      "cell_type": "markdown",
      "source": [],
      "metadata": {
        "id": "iXAoLXW707cy"
      }
    },
    {
      "cell_type": "markdown",
      "source": [],
      "metadata": {
        "id": "bhfaQrxE0yh5"
      }
    },
    {
      "cell_type": "code",
      "source": [
        "# Create Time Intervals\n",
        "time_intervals = pd.cut(pd.to_datetime(data[\"Time\"]).dt.hour,\n",
        "                        bins=[0, 12, 18, 24],\n",
        "                        labels=[\"Morning\", \"Afternoon\", \"Evening\"],\n",
        "                        right=False)\n",
        "\n",
        "data[\"Time Interval\"] = time_intervals\n",
        "\n",
        "# Variations in Step Count and Walking Speed by Time Interval\n",
        "fig7 = px.scatter(data, x=\"Step Count\",\n",
        "                  y=\"Walking Speed\",\n",
        "                  color=\"Time Interval\",\n",
        "                  title=\"Step Count and Walking Speed Variations by Time Interval\",\n",
        "                  trendline='ols')\n",
        "fig7.show()"
      ],
      "metadata": {
        "colab": {
          "base_uri": "https://localhost:8080/",
          "height": 611
        },
        "id": "CA31VkDg1Dso",
        "outputId": "69588512-9686-42ae-bc54-66a0c3b8b2fc"
      },
      "execution_count": 16,
      "outputs": [
        {
          "output_type": "stream",
          "name": "stderr",
          "text": [
            "<ipython-input-16-eb77c986cee3>:2: UserWarning:\n",
            "\n",
            "Could not infer format, so each element will be parsed individually, falling back to `dateutil`. To ensure parsing is consistent and as-expected, please specify a format.\n",
            "\n"
          ]
        },
        {
          "output_type": "display_data",
          "data": {
            "text/html": [
              "<html>\n",
              "<head><meta charset=\"utf-8\" /></head>\n",
              "<body>\n",
              "    <div>            <script src=\"https://cdnjs.cloudflare.com/ajax/libs/mathjax/2.7.5/MathJax.js?config=TeX-AMS-MML_SVG\"></script><script type=\"text/javascript\">if (window.MathJax && window.MathJax.Hub && window.MathJax.Hub.Config) {window.MathJax.Hub.Config({SVG: {font: \"STIX-Web\"}});}</script>                <script type=\"text/javascript\">window.PlotlyConfig = {MathJaxConfig: 'local'};</script>\n",
              "        <script charset=\"utf-8\" src=\"https://cdn.plot.ly/plotly-2.24.1.min.js\"></script>                <div id=\"daf002fb-fce3-4d11-9dcf-ffcd34e63aef\" class=\"plotly-graph-div\" style=\"height:525px; width:100%;\"></div>            <script type=\"text/javascript\">                                    window.PLOTLYENV=window.PLOTLYENV || {};                                    if (document.getElementById(\"daf002fb-fce3-4d11-9dcf-ffcd34e63aef\")) {                    Plotly.newPlot(                        \"daf002fb-fce3-4d11-9dcf-ffcd34e63aef\",                        [{\"hovertemplate\":\"Time Interval=Afternoon\\u003cbr\\u003eStep Count=%{x}\\u003cbr\\u003eWalking Speed=%{y}\\u003cextra\\u003e\\u003c\\u002fextra\\u003e\",\"legendgroup\":\"Afternoon\",\"marker\":{\"color\":\"#636efa\",\"symbol\":\"circle\"},\"mode\":\"markers\",\"name\":\"Afternoon\",\"orientation\":\"v\",\"showlegend\":true,\"x\":[46,645,14,13,17,122,839,118,590,425,260,838,959,89,472,117,30,492,431,502,708,675,58,27,81,6,50,78,96,132,33,91,16,501,240,20,8,185,144,526,46,118,230,293,12,9,41,22,15,485,1046,159,260,248,1082,275,276,149,87,37,969,640,1081],\"xaxis\":\"x\",\"y\":[3.06,3.852,3.996,5.04,5.184,4.572,3.456,2.304,2.376,2.016,4.968,4.392,4.644,1.692,3.528,4.104,3.708,4.068,4.14,3.708,3.168,3.528,4.212,4.212,4.428,4.356,4.104,2.628,3.456,3.42,3.816,2.628,2.592,2.34,3.924,2.988,2.88,3.42,1.8,2.016,2.016,4.86,5.112,5.04,4.572,4.464,5.076,4.536,4.284,4.212,4.644,3.924,1.944,1.548,1.8,1.836,3.492,5.436,5.364,5.4,5.292,4.86,5.04],\"yaxis\":\"y\",\"type\":\"scatter\"},{\"hovertemplate\":\"\\u003cb\\u003eOLS trendline\\u003c\\u002fb\\u003e\\u003cbr\\u003eWalking Speed = -1.70101e-05 * Step Count + 3.74265\\u003cbr\\u003eR\\u003csup\\u003e2\\u003c\\u002fsup\\u003e=0.000023\\u003cbr\\u003e\\u003cbr\\u003eTime Interval=Afternoon\\u003cbr\\u003eStep Count=%{x}\\u003cbr\\u003eWalking Speed=%{y} \\u003cb\\u003e(trend)\\u003c\\u002fb\\u003e\\u003cextra\\u003e\\u003c\\u002fextra\\u003e\",\"legendgroup\":\"Afternoon\",\"marker\":{\"color\":\"#636efa\",\"symbol\":\"circle\"},\"mode\":\"lines\",\"name\":\"Afternoon\",\"showlegend\":false,\"x\":[6,8,9,12,13,14,15,16,17,20,22,27,30,33,37,41,46,46,50,58,78,81,87,89,91,96,117,118,118,122,132,144,149,159,185,230,240,248,260,260,275,276,293,425,431,472,485,492,501,502,526,590,640,645,675,708,838,839,959,969,1046,1081,1082],\"xaxis\":\"x\",\"y\":[3.7425462407752064,3.7425122205283534,3.742495210404927,3.742444180034648,3.7424271699112217,3.7424101597877955,3.742393149664369,3.7423761395409425,3.7423591294175163,3.7423080990472375,3.7422740788003845,3.742189028183253,3.7421379978129736,3.742086967442695,3.7420189269489894,3.741950886455284,3.7418658358381522,3.7418658358381522,3.741797795344447,3.741661714357036,3.741321511888509,3.74127048151823,3.741168420777672,3.741134400530819,3.7411003802839664,3.7410153296668347,3.740658117074881,3.740641106951455,3.740641106951455,3.7405730664577495,3.740402965223486,3.7401988437423697,3.740113793125238,3.7399436918909745,3.7395014286818893,3.7387359731277034,3.73856587189344,3.738429790906029,3.7382256694249127,3.7382256694249127,3.7379705175735176,3.7379535074500914,3.7376643353518433,3.735418999059565,3.7353169383190066,3.734619523258526,3.7343983916539836,3.7342793207899994,3.734126229679162,3.7341092195557355,3.733700976593503,3.7326123286942168,3.7317618225228992,3.7316767719057675,3.731166468202977,3.7306051341299074,3.7283938180844816,3.7283768079610553,3.726335593149893,3.7261654919156295,3.7248557124118005,3.724260358091878,3.724243347968452],\"yaxis\":\"y\",\"type\":\"scatter\"},{\"hovertemplate\":\"Time Interval=Evening\\u003cbr\\u003eStep Count=%{x}\\u003cbr\\u003eWalking Speed=%{y}\\u003cextra\\u003e\\u003c\\u002fextra\\u003e\",\"legendgroup\":\"Evening\",\"marker\":{\"color\":\"#EF553B\",\"symbol\":\"circle\"},\"mode\":\"markers\",\"name\":\"Evening\",\"orientation\":\"v\",\"showlegend\":true,\"x\":[8,564,153,16,22,16,587,496,395,401,384,161,736,142,10,8,6,56,26,1,236,14,504,60,54,77,19,189,31,84,76,41,37,21,50,10,22,15,79,454,465,11,365,377,5,9,2,86,42,332,185,290,215,258,266,54,6,349,980,726,1065,831,126,62,25,543,393,197,16],\"xaxis\":\"x\",\"y\":[5.04,4.464,4.788,4.068,3.816,4.572,2.268,3.348,3.492,3.348,2.88,2.7,2.844,3.276,2.16,3.6,3.744,3.42,4.032,4.14,3.816,2.772,3.24,3.384,2.124,5.004,4.608,2.052,2.448,3.132,3.204,2.592,3.888,4.464,5.4,5.292,5.364,5.004,3.708,4.824,5.004,5.04,4.86,5.076,5.22,5.148,5.004,5.328,4.176,3.06,3.312,5.58,5.472,5.22,5.328,3.852,4.968,5.076,3.564,4.68,4.428,4.536,4.212,3.852,4.32,3.312,3.528,3.456,4.428],\"yaxis\":\"y\",\"type\":\"scatter\"},{\"hovertemplate\":\"\\u003cb\\u003eOLS trendline\\u003c\\u002fb\\u003e\\u003cbr\\u003eWalking Speed = -0.000303736 * Step Count + 4.11271\\u003cbr\\u003eR\\u003csup\\u003e2\\u003c\\u002fsup\\u003e=0.006415\\u003cbr\\u003e\\u003cbr\\u003eTime Interval=Evening\\u003cbr\\u003eStep Count=%{x}\\u003cbr\\u003eWalking Speed=%{y} \\u003cb\\u003e(trend)\\u003c\\u002fb\\u003e\\u003cextra\\u003e\\u003c\\u002fextra\\u003e\",\"legendgroup\":\"Evening\",\"marker\":{\"color\":\"#EF553B\",\"symbol\":\"circle\"},\"mode\":\"lines\",\"name\":\"Evening\",\"showlegend\":false,\"x\":[1,2,5,6,6,8,8,9,10,10,11,14,15,16,16,16,19,21,22,22,25,26,31,37,41,42,50,54,54,56,60,62,76,77,79,84,86,126,142,153,161,185,189,197,215,236,258,266,290,332,349,365,377,384,393,395,401,454,465,496,504,543,564,587,726,736,831,980,1065],\"xaxis\":\"x\",\"y\":[4.1124053285398,4.112101592778779,4.111190385495719,4.110886649734698,4.110886649734698,4.110279178212657,4.110279178212657,4.1099754424516375,4.109671706690617,4.109671706690617,4.109367970929597,4.108456763646536,4.108153027885516,4.107849292124496,4.107849292124496,4.107849292124496,4.106938084841435,4.106330613319394,4.106026877558374,4.106026877558374,4.105115670275313,4.104811934514293,4.1032932557091915,4.101470841143071,4.10025589809899,4.099952162337969,4.097522276249808,4.0963073332057265,4.0963073332057265,4.095699861683686,4.094484918639605,4.093877447117564,4.0896251464632805,4.089321410702261,4.08871393918022,4.087195260375119,4.086587788853079,4.0744383584122685,4.069578586235945,4.066237492864722,4.06380760677656,4.056517948512074,4.0553030054679935,4.052873119379831,4.047405875681466,4.041027424700042,4.034345237957596,4.031915351869435,4.024625693604948,4.011868791642098,4.006705283704754,4.00184551152843,3.998200682396187,3.9960745320690454,3.993340910219863,3.9927334386978224,3.990911024131701,3.974813028797628,3.9714719354264054,3.962056126834778,3.9596262407466156,3.9477805460668263,3.941402095085401,3.9344161725819355,3.892196901800121,3.8891595441899187,3.8603046468929954,3.815048018500979,3.789230478814258],\"yaxis\":\"y\",\"type\":\"scatter\"},{\"hovertemplate\":\"Time Interval=Morning\\u003cbr\\u003eStep Count=%{x}\\u003cbr\\u003eWalking Speed=%{y}\\u003cextra\\u003e\\u003c\\u002fextra\\u003e\",\"legendgroup\":\"Morning\",\"marker\":{\"color\":\"#00cc96\",\"symbol\":\"circle\"},\"mode\":\"markers\",\"name\":\"Morning\",\"orientation\":\"v\",\"showlegend\":true,\"x\":[37,14,22,206,44,17,24,26,110,2,9,13,10,36,99,3,31],\"xaxis\":\"x\",\"y\":[4.896,1.728,5.148,4.968,5.184,3.348,5.148,4.752,4.788,4.824,5.076,5.148,5.004,4.788,3.312,4.608,4.536],\"yaxis\":\"y\",\"type\":\"scatter\"},{\"hovertemplate\":\"\\u003cb\\u003eOLS trendline\\u003c\\u002fb\\u003e\\u003cbr\\u003eWalking Speed = 0.000760925 * Step Count + 4.513\\u003cbr\\u003eR\\u003csup\\u003e2\\u003c\\u002fsup\\u003e=0.001872\\u003cbr\\u003e\\u003cbr\\u003eTime Interval=Morning\\u003cbr\\u003eStep Count=%{x}\\u003cbr\\u003eWalking Speed=%{y} \\u003cb\\u003e(trend)\\u003c\\u002fb\\u003e\\u003cextra\\u003e\\u003c\\u002fextra\\u003e\",\"legendgroup\":\"Morning\",\"marker\":{\"color\":\"#00cc96\",\"symbol\":\"circle\"},\"mode\":\"lines\",\"name\":\"Morning\",\"showlegend\":false,\"x\":[2,3,9,10,13,14,17,22,24,26,31,36,37,44,99,110,206],\"xaxis\":\"x\",\"y\":[4.514525960634254,4.5152868854013954,4.519852434004244,4.520613358771386,4.522896133072811,4.523657057839952,4.525939832141377,4.5297444559770845,4.531266305511368,4.532788155045651,4.536592778881359,4.540397402717066,4.541158327484208,4.546484800854199,4.588335663046985,4.596705835485542,4.669754613131132],\"yaxis\":\"y\",\"type\":\"scatter\"}],                        {\"template\":{\"data\":{\"histogram2dcontour\":[{\"type\":\"histogram2dcontour\",\"colorbar\":{\"outlinewidth\":0,\"ticks\":\"\"},\"colorscale\":[[0.0,\"#0d0887\"],[0.1111111111111111,\"#46039f\"],[0.2222222222222222,\"#7201a8\"],[0.3333333333333333,\"#9c179e\"],[0.4444444444444444,\"#bd3786\"],[0.5555555555555556,\"#d8576b\"],[0.6666666666666666,\"#ed7953\"],[0.7777777777777778,\"#fb9f3a\"],[0.8888888888888888,\"#fdca26\"],[1.0,\"#f0f921\"]]}],\"choropleth\":[{\"type\":\"choropleth\",\"colorbar\":{\"outlinewidth\":0,\"ticks\":\"\"}}],\"histogram2d\":[{\"type\":\"histogram2d\",\"colorbar\":{\"outlinewidth\":0,\"ticks\":\"\"},\"colorscale\":[[0.0,\"#0d0887\"],[0.1111111111111111,\"#46039f\"],[0.2222222222222222,\"#7201a8\"],[0.3333333333333333,\"#9c179e\"],[0.4444444444444444,\"#bd3786\"],[0.5555555555555556,\"#d8576b\"],[0.6666666666666666,\"#ed7953\"],[0.7777777777777778,\"#fb9f3a\"],[0.8888888888888888,\"#fdca26\"],[1.0,\"#f0f921\"]]}],\"heatmap\":[{\"type\":\"heatmap\",\"colorbar\":{\"outlinewidth\":0,\"ticks\":\"\"},\"colorscale\":[[0.0,\"#0d0887\"],[0.1111111111111111,\"#46039f\"],[0.2222222222222222,\"#7201a8\"],[0.3333333333333333,\"#9c179e\"],[0.4444444444444444,\"#bd3786\"],[0.5555555555555556,\"#d8576b\"],[0.6666666666666666,\"#ed7953\"],[0.7777777777777778,\"#fb9f3a\"],[0.8888888888888888,\"#fdca26\"],[1.0,\"#f0f921\"]]}],\"heatmapgl\":[{\"type\":\"heatmapgl\",\"colorbar\":{\"outlinewidth\":0,\"ticks\":\"\"},\"colorscale\":[[0.0,\"#0d0887\"],[0.1111111111111111,\"#46039f\"],[0.2222222222222222,\"#7201a8\"],[0.3333333333333333,\"#9c179e\"],[0.4444444444444444,\"#bd3786\"],[0.5555555555555556,\"#d8576b\"],[0.6666666666666666,\"#ed7953\"],[0.7777777777777778,\"#fb9f3a\"],[0.8888888888888888,\"#fdca26\"],[1.0,\"#f0f921\"]]}],\"contourcarpet\":[{\"type\":\"contourcarpet\",\"colorbar\":{\"outlinewidth\":0,\"ticks\":\"\"}}],\"contour\":[{\"type\":\"contour\",\"colorbar\":{\"outlinewidth\":0,\"ticks\":\"\"},\"colorscale\":[[0.0,\"#0d0887\"],[0.1111111111111111,\"#46039f\"],[0.2222222222222222,\"#7201a8\"],[0.3333333333333333,\"#9c179e\"],[0.4444444444444444,\"#bd3786\"],[0.5555555555555556,\"#d8576b\"],[0.6666666666666666,\"#ed7953\"],[0.7777777777777778,\"#fb9f3a\"],[0.8888888888888888,\"#fdca26\"],[1.0,\"#f0f921\"]]}],\"surface\":[{\"type\":\"surface\",\"colorbar\":{\"outlinewidth\":0,\"ticks\":\"\"},\"colorscale\":[[0.0,\"#0d0887\"],[0.1111111111111111,\"#46039f\"],[0.2222222222222222,\"#7201a8\"],[0.3333333333333333,\"#9c179e\"],[0.4444444444444444,\"#bd3786\"],[0.5555555555555556,\"#d8576b\"],[0.6666666666666666,\"#ed7953\"],[0.7777777777777778,\"#fb9f3a\"],[0.8888888888888888,\"#fdca26\"],[1.0,\"#f0f921\"]]}],\"mesh3d\":[{\"type\":\"mesh3d\",\"colorbar\":{\"outlinewidth\":0,\"ticks\":\"\"}}],\"scatter\":[{\"fillpattern\":{\"fillmode\":\"overlay\",\"size\":10,\"solidity\":0.2},\"type\":\"scatter\"}],\"parcoords\":[{\"type\":\"parcoords\",\"line\":{\"colorbar\":{\"outlinewidth\":0,\"ticks\":\"\"}}}],\"scatterpolargl\":[{\"type\":\"scatterpolargl\",\"marker\":{\"colorbar\":{\"outlinewidth\":0,\"ticks\":\"\"}}}],\"bar\":[{\"error_x\":{\"color\":\"#2a3f5f\"},\"error_y\":{\"color\":\"#2a3f5f\"},\"marker\":{\"line\":{\"color\":\"white\",\"width\":0.5},\"pattern\":{\"fillmode\":\"overlay\",\"size\":10,\"solidity\":0.2}},\"type\":\"bar\"}],\"scattergeo\":[{\"type\":\"scattergeo\",\"marker\":{\"colorbar\":{\"outlinewidth\":0,\"ticks\":\"\"}}}],\"scatterpolar\":[{\"type\":\"scatterpolar\",\"marker\":{\"colorbar\":{\"outlinewidth\":0,\"ticks\":\"\"}}}],\"histogram\":[{\"marker\":{\"pattern\":{\"fillmode\":\"overlay\",\"size\":10,\"solidity\":0.2}},\"type\":\"histogram\"}],\"scattergl\":[{\"type\":\"scattergl\",\"marker\":{\"colorbar\":{\"outlinewidth\":0,\"ticks\":\"\"}}}],\"scatter3d\":[{\"type\":\"scatter3d\",\"line\":{\"colorbar\":{\"outlinewidth\":0,\"ticks\":\"\"}},\"marker\":{\"colorbar\":{\"outlinewidth\":0,\"ticks\":\"\"}}}],\"scattermapbox\":[{\"type\":\"scattermapbox\",\"marker\":{\"colorbar\":{\"outlinewidth\":0,\"ticks\":\"\"}}}],\"scatterternary\":[{\"type\":\"scatterternary\",\"marker\":{\"colorbar\":{\"outlinewidth\":0,\"ticks\":\"\"}}}],\"scattercarpet\":[{\"type\":\"scattercarpet\",\"marker\":{\"colorbar\":{\"outlinewidth\":0,\"ticks\":\"\"}}}],\"carpet\":[{\"aaxis\":{\"endlinecolor\":\"#2a3f5f\",\"gridcolor\":\"#C8D4E3\",\"linecolor\":\"#C8D4E3\",\"minorgridcolor\":\"#C8D4E3\",\"startlinecolor\":\"#2a3f5f\"},\"baxis\":{\"endlinecolor\":\"#2a3f5f\",\"gridcolor\":\"#C8D4E3\",\"linecolor\":\"#C8D4E3\",\"minorgridcolor\":\"#C8D4E3\",\"startlinecolor\":\"#2a3f5f\"},\"type\":\"carpet\"}],\"table\":[{\"cells\":{\"fill\":{\"color\":\"#EBF0F8\"},\"line\":{\"color\":\"white\"}},\"header\":{\"fill\":{\"color\":\"#C8D4E3\"},\"line\":{\"color\":\"white\"}},\"type\":\"table\"}],\"barpolar\":[{\"marker\":{\"line\":{\"color\":\"white\",\"width\":0.5},\"pattern\":{\"fillmode\":\"overlay\",\"size\":10,\"solidity\":0.2}},\"type\":\"barpolar\"}],\"pie\":[{\"automargin\":true,\"type\":\"pie\"}]},\"layout\":{\"autotypenumbers\":\"strict\",\"colorway\":[\"#636efa\",\"#EF553B\",\"#00cc96\",\"#ab63fa\",\"#FFA15A\",\"#19d3f3\",\"#FF6692\",\"#B6E880\",\"#FF97FF\",\"#FECB52\"],\"font\":{\"color\":\"#2a3f5f\"},\"hovermode\":\"closest\",\"hoverlabel\":{\"align\":\"left\"},\"paper_bgcolor\":\"white\",\"plot_bgcolor\":\"white\",\"polar\":{\"bgcolor\":\"white\",\"angularaxis\":{\"gridcolor\":\"#EBF0F8\",\"linecolor\":\"#EBF0F8\",\"ticks\":\"\"},\"radialaxis\":{\"gridcolor\":\"#EBF0F8\",\"linecolor\":\"#EBF0F8\",\"ticks\":\"\"}},\"ternary\":{\"bgcolor\":\"white\",\"aaxis\":{\"gridcolor\":\"#DFE8F3\",\"linecolor\":\"#A2B1C6\",\"ticks\":\"\"},\"baxis\":{\"gridcolor\":\"#DFE8F3\",\"linecolor\":\"#A2B1C6\",\"ticks\":\"\"},\"caxis\":{\"gridcolor\":\"#DFE8F3\",\"linecolor\":\"#A2B1C6\",\"ticks\":\"\"}},\"coloraxis\":{\"colorbar\":{\"outlinewidth\":0,\"ticks\":\"\"}},\"colorscale\":{\"sequential\":[[0.0,\"#0d0887\"],[0.1111111111111111,\"#46039f\"],[0.2222222222222222,\"#7201a8\"],[0.3333333333333333,\"#9c179e\"],[0.4444444444444444,\"#bd3786\"],[0.5555555555555556,\"#d8576b\"],[0.6666666666666666,\"#ed7953\"],[0.7777777777777778,\"#fb9f3a\"],[0.8888888888888888,\"#fdca26\"],[1.0,\"#f0f921\"]],\"sequentialminus\":[[0.0,\"#0d0887\"],[0.1111111111111111,\"#46039f\"],[0.2222222222222222,\"#7201a8\"],[0.3333333333333333,\"#9c179e\"],[0.4444444444444444,\"#bd3786\"],[0.5555555555555556,\"#d8576b\"],[0.6666666666666666,\"#ed7953\"],[0.7777777777777778,\"#fb9f3a\"],[0.8888888888888888,\"#fdca26\"],[1.0,\"#f0f921\"]],\"diverging\":[[0,\"#8e0152\"],[0.1,\"#c51b7d\"],[0.2,\"#de77ae\"],[0.3,\"#f1b6da\"],[0.4,\"#fde0ef\"],[0.5,\"#f7f7f7\"],[0.6,\"#e6f5d0\"],[0.7,\"#b8e186\"],[0.8,\"#7fbc41\"],[0.9,\"#4d9221\"],[1,\"#276419\"]]},\"xaxis\":{\"gridcolor\":\"#EBF0F8\",\"linecolor\":\"#EBF0F8\",\"ticks\":\"\",\"title\":{\"standoff\":15},\"zerolinecolor\":\"#EBF0F8\",\"automargin\":true,\"zerolinewidth\":2},\"yaxis\":{\"gridcolor\":\"#EBF0F8\",\"linecolor\":\"#EBF0F8\",\"ticks\":\"\",\"title\":{\"standoff\":15},\"zerolinecolor\":\"#EBF0F8\",\"automargin\":true,\"zerolinewidth\":2},\"scene\":{\"xaxis\":{\"backgroundcolor\":\"white\",\"gridcolor\":\"#DFE8F3\",\"linecolor\":\"#EBF0F8\",\"showbackground\":true,\"ticks\":\"\",\"zerolinecolor\":\"#EBF0F8\",\"gridwidth\":2},\"yaxis\":{\"backgroundcolor\":\"white\",\"gridcolor\":\"#DFE8F3\",\"linecolor\":\"#EBF0F8\",\"showbackground\":true,\"ticks\":\"\",\"zerolinecolor\":\"#EBF0F8\",\"gridwidth\":2},\"zaxis\":{\"backgroundcolor\":\"white\",\"gridcolor\":\"#DFE8F3\",\"linecolor\":\"#EBF0F8\",\"showbackground\":true,\"ticks\":\"\",\"zerolinecolor\":\"#EBF0F8\",\"gridwidth\":2}},\"shapedefaults\":{\"line\":{\"color\":\"#2a3f5f\"}},\"annotationdefaults\":{\"arrowcolor\":\"#2a3f5f\",\"arrowhead\":0,\"arrowwidth\":1},\"geo\":{\"bgcolor\":\"white\",\"landcolor\":\"white\",\"subunitcolor\":\"#C8D4E3\",\"showland\":true,\"showlakes\":true,\"lakecolor\":\"white\"},\"title\":{\"x\":0.05},\"mapbox\":{\"style\":\"light\"}}},\"xaxis\":{\"anchor\":\"y\",\"domain\":[0.0,1.0],\"title\":{\"text\":\"Step Count\"}},\"yaxis\":{\"anchor\":\"x\",\"domain\":[0.0,1.0],\"title\":{\"text\":\"Walking Speed\"}},\"legend\":{\"title\":{\"text\":\"Time Interval\"},\"tracegroupgap\":0},\"title\":{\"text\":\"Step Count and Walking Speed Variations by Time Interval\"}},                        {\"responsive\": true}                    ).then(function(){\n",
              "                            \n",
              "var gd = document.getElementById('daf002fb-fce3-4d11-9dcf-ffcd34e63aef');\n",
              "var x = new MutationObserver(function (mutations, observer) {{\n",
              "        var display = window.getComputedStyle(gd).display;\n",
              "        if (!display || display === 'none') {{\n",
              "            console.log([gd, 'removed!']);\n",
              "            Plotly.purge(gd);\n",
              "            observer.disconnect();\n",
              "        }}\n",
              "}});\n",
              "\n",
              "// Listen for the removal of the full notebook cells\n",
              "var notebookContainer = gd.closest('#notebook-container');\n",
              "if (notebookContainer) {{\n",
              "    x.observe(notebookContainer, {childList: true});\n",
              "}}\n",
              "\n",
              "// Listen for the clearing of the current output cell\n",
              "var outputEl = gd.closest('.output');\n",
              "if (outputEl) {{\n",
              "    x.observe(outputEl, {childList: true});\n",
              "}}\n",
              "\n",
              "                        })                };                            </script>        </div>\n",
              "</body>\n",
              "</html>"
            ]
          },
          "metadata": {}
        }
      ]
    }
  ]
}